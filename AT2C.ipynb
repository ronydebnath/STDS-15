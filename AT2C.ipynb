{
 "cells": [
  {
   "cell_type": "markdown",
   "id": "6097c9e8-419e-4c43-bb21-91e064b1c14e",
   "metadata": {
    "tags": []
   },
   "source": [
    "# Importing Necessary Libraries\n"
   ]
  },
  {
   "cell_type": "code",
   "execution_count": null,
   "id": "0e98dafa-98c6-4908-8e25-71e83046b8d5",
   "metadata": {},
   "outputs": [],
   "source": [
    "import pandas as pd\n",
    "import numpy as np\n",
    "import altair as alt\n",
    "import seaborn as sns\n",
    "import matplotlib.pyplot as plt\n",
    "\n",
    "from sklearn.metrics import confusion_matrix , classification_report\n",
    "!pip install mlxtend\n",
    "from mlxtend.plotting import plot_confusion_matrix\n",
    "from sklearn.model_selection import KFold , cross_val_score\n",
    "from sklearn.model_selection import GridSearchCV"
   ]
  },
  {
   "cell_type": "markdown",
   "id": "5f72cdcc-ea61-4774-b869-71eac944b266",
   "metadata": {},
   "source": [
    "# Loading the dataset\n"
   ]
  },
  {
   "cell_type": "code",
   "execution_count": null,
   "id": "2862c70c-b276-47e6-aabc-a000446e88cc",
   "metadata": {},
   "outputs": [],
   "source": [
    "url = \"https://raw.githubusercontent.com/ronydebnath/STDS-15/main/Dataset/heart_2020_cleaned.csv?token=GHSAT0AAAAAACHSU2OQOR67NPLGHE3UPBIIZIJGDTA\"\n",
    "df = pd.read_csv(url)"
   ]
  },
  {
   "cell_type": "markdown",
   "id": "2b3d8655-1eae-45a6-b677-98c52492270c",
   "metadata": {},
   "source": [
    "# General info about the dataset\n"
   ]
  },
  {
   "cell_type": "code",
   "execution_count": null,
   "id": "9a5e2e18-32fd-469a-9d8b-27fec8642e78",
   "metadata": {},
   "outputs": [],
   "source": [
    "df.head()\n"
   ]
  },
  {
   "cell_type": "code",
   "execution_count": null,
   "id": "67e0097a-82b9-49e8-851d-d0f4867e40d7",
   "metadata": {},
   "outputs": [],
   "source": [
    "df.shape"
   ]
  },
  {
   "cell_type": "code",
   "execution_count": null,
   "id": "c9c55bce-ecab-4e0a-b81a-17a6d3d7abcb",
   "metadata": {},
   "outputs": [],
   "source": [
    "df.info()"
   ]
  },
  {
   "cell_type": "markdown",
   "id": "820edd33-11c3-468e-b3d6-8759396b1eb7",
   "metadata": {},
   "source": [
    "There is no null object in our dataset"
   ]
  },
  {
   "cell_type": "code",
   "execution_count": null,
   "id": "940658e1-e554-44bf-96cb-0cb64bbf4246",
   "metadata": {},
   "outputs": [],
   "source": [
    "# checking the duplicate\n",
    "df.duplicated().sum()"
   ]
  },
  {
   "cell_type": "code",
   "execution_count": null,
   "id": "5ff9b8b5-09bb-42ac-9709-83e9e621fbce",
   "metadata": {
    "scrolled": true
   },
   "outputs": [],
   "source": [
    "# General description about our dataset\n",
    "df.describe()"
   ]
  },
  {
   "cell_type": "code",
   "execution_count": null,
   "id": "3c5bda33-377c-44f8-b4c4-d5456db2f1b7",
   "metadata": {},
   "outputs": [],
   "source": [
    "df['AgeCategory'].value_counts()"
   ]
  },
  {
   "cell_type": "markdown",
   "id": "5ef09b33-157e-442a-8e0c-3e6c5cf2ec21",
   "metadata": {},
   "source": [
    "# Changing values(yes,no)into numeric values 0,1"
   ]
  },
  {
   "cell_type": "code",
   "execution_count": null,
   "id": "cf8483f7-d6d3-481f-bc5c-45f1fd7c5309",
   "metadata": {},
   "outputs": [],
   "source": [
    "df['AgeCategory'] = df['AgeCategory'].str[:2]"
   ]
  },
  {
   "cell_type": "code",
   "execution_count": null,
   "id": "50158469-b1fb-488f-ba48-6615d0bb191d",
   "metadata": {},
   "outputs": [],
   "source": [
    "df=df.replace('No','0')\n",
    "df= df.replace('Yes','1')\n",
    "df=df.replace('Female','0')\n",
    "df= df.replace('Male','1')\n",
    "df"
   ]
  },
  {
   "cell_type": "markdown",
   "id": "f64443bc-8ac6-4121-b7f3-91b9389f644a",
   "metadata": {},
   "source": [
    "# changing general health into numeric values"
   ]
  },
  {
   "cell_type": "code",
   "execution_count": null,
   "id": "0f25f698-fa0c-4d28-82da-97504db67511",
   "metadata": {},
   "outputs": [],
   "source": [
    "df['GenHealth']=df['GenHealth'].replace('Poor','0')\n",
    "df['GenHealth']=df['GenHealth'].replace('Fair','1')\n",
    "df['GenHealth']=df['GenHealth'].replace('Good','2')\n",
    "df['GenHealth']=df['GenHealth'].replace('Very good','3')\n",
    "df['GenHealth']=df['GenHealth'].replace('Excellent','4')"
   ]
  },
  {
   "cell_type": "code",
   "execution_count": null,
   "id": "848001bf-df75-46b9-9ec8-6944fa0b8bb0",
   "metadata": {},
   "outputs": [],
   "source": [
    "df[\"Diabetic\"]=df['Diabetic'].replace('No, borderline diabetes','3')\n",
    "df[\"Diabetic\"]=df['Diabetic'].replace('Yes (during pregnancy)','4')"
   ]
  },
  {
   "cell_type": "code",
   "execution_count": null,
   "id": "22e1dbe0-b1be-4c07-8717-33898d273ea7",
   "metadata": {},
   "outputs": [],
   "source": [
    "df"
   ]
  },
  {
   "cell_type": "code",
   "execution_count": null,
   "id": "c09f6285-77a4-4876-aa49-9a45a1588677",
   "metadata": {},
   "outputs": [],
   "source": [
    "x = df.drop(['HeartDisease','Race'],axis = 1)"
   ]
  },
  {
   "cell_type": "code",
   "execution_count": null,
   "id": "74a421f3-0b0e-4f98-868f-05dd7acd0779",
   "metadata": {},
   "outputs": [],
   "source": [
    "y = df['HeartDisease']"
   ]
  },
  {
   "cell_type": "code",
   "execution_count": null,
   "id": "bdca1b92-a1d9-4278-ae6b-f81fa7dc97f9",
   "metadata": {},
   "outputs": [],
   "source": [
    "x"
   ]
  },
  {
   "cell_type": "code",
   "execution_count": null,
   "id": "ec5ab78d-cf82-4edd-b03b-89d59e0b3657",
   "metadata": {},
   "outputs": [],
   "source": [
    "x.info()\n"
   ]
  },
  {
   "cell_type": "code",
   "execution_count": null,
   "id": "7354ef04-089e-4d40-bf5e-56929c038b8e",
   "metadata": {},
   "outputs": [],
   "source": [
    "x=x.astype('float32')\n"
   ]
  },
  {
   "cell_type": "code",
   "execution_count": null,
   "id": "2ec822c5-3eee-42c3-bf99-cc90fedf3b30",
   "metadata": {},
   "outputs": [],
   "source": [
    "x.info()\n"
   ]
  },
  {
   "cell_type": "code",
   "execution_count": null,
   "id": "ceae1e54-0311-48e9-8d7b-09426d1f3fef",
   "metadata": {},
   "outputs": [],
   "source": [
    "from sklearn.model_selection import train_test_split\n",
    "x_train,x_test,y_train,y_test=train_test_split(x,y,test_size=0.20,random_state=5)"
   ]
  },
  {
   "cell_type": "code",
   "execution_count": null,
   "id": "19822ce8-caec-4747-939b-df87fbc267e1",
   "metadata": {},
   "outputs": [],
   "source": [
    "y.value_counts()\n"
   ]
  },
  {
   "cell_type": "code",
   "execution_count": null,
   "id": "d92979e6-574c-4d76-86e9-91f91aeecc06",
   "metadata": {},
   "outputs": [],
   "source": [
    " y.value_counts().plot.pie(autopct = '%0.2f')\n"
   ]
  },
  {
   "cell_type": "markdown",
   "source": [
    "# 1. Prediction with imbalanced data"
   ],
   "metadata": {
    "collapsed": false
   }
  },
  {
   "cell_type": "code",
   "execution_count": null,
   "outputs": [],
   "source": [
    "# Placeholders for accuracy values\n",
    "decision_tree_accuracy_imbalanced = None\n",
    "logistic_regression_accuracy_imbalanced = None\n",
    "random_forest_accuracy_imbalanced = None\n",
    "decision_tree_accuracy_balanced_under = None\n",
    "logistic_regression_accuracy_balanced_under = None\n",
    "random_forest_accuracy_balanced_under = None\n",
    "decision_tree_accuracy_balanced_over = None\n",
    "logistic_regression_accuracy_balanced_over = None\n",
    "random_forest_accuracy_balanced_over = None\n",
    "\n",
    "# Placeholders for recall values\n",
    "decision_tree_recall_imbalanced = None\n",
    "logistic_regression_recall_imbalanced = None\n",
    "random_forest_recall_imbalanced = None\n",
    "decision_tree_recall_balanced_under = None\n",
    "logistic_regression_recall_balanced_under = None\n",
    "random_forest_recall_balanced_under = None\n",
    "decision_tree_recall_balanced_over = None\n",
    "logistic_regression_recall_balanced_over = None\n",
    "random_forest_recall_balanced_over = None"
   ],
   "metadata": {
    "collapsed": false
   }
  },
  {
   "cell_type": "code",
   "execution_count": null,
   "outputs": [],
   "source": [
    "import matplotlib.pyplot as plt\n",
    "import seaborn as sns\n",
    "from sklearn.metrics import confusion_matrix, classification_report\n",
    "from sklearn.model_selection import cross_val_score, KFold\n",
    "from sklearn.tree import DecisionTreeClassifier\n",
    "from sklearn.linear_model import LogisticRegression\n",
    "from sklearn.ensemble import RandomForestClassifier\n",
    "\n",
    "# Placeholders for recall values\n",
    "decision_tree_recall_imbalanced = None\n",
    "logistic_regression_recall_imbalanced = None\n",
    "random_forest_recall_imbalanced = None\n",
    "decision_tree_recall_balanced_under = None\n",
    "logistic_regression_recall_balanced_under = None\n",
    "random_forest_recall_balanced_under = None\n",
    "decision_tree_recall_balanced_over = None\n",
    "logistic_regression_recall_balanced_over = None\n",
    "random_forest_recall_balanced_over = None\n"
   ],
   "metadata": {
    "collapsed": false
   }
  },
  {
   "cell_type": "markdown",
   "source": [
    "## 1.1 Decision Tree Classifier"
   ],
   "metadata": {
    "collapsed": false
   }
  },
  {
   "cell_type": "code",
   "execution_count": null,
   "outputs": [],
   "source": [
    "from sklearn.tree import DecisionTreeClassifier\n",
    "\n",
    "dt = DecisionTreeClassifier(max_depth=5, max_features=4)\n",
    "dt.fit(x_train, y_train)\n",
    "dt.score(x_train, y_train)\n",
    "decision_tree_accuracy_imbalanced = dt.score(x_test, y_test)\n",
    "y_pred = dt.predict(x_test)\n",
    "\n"
   ],
   "metadata": {
    "collapsed": false
   }
  },
  {
   "cell_type": "markdown",
   "source": [
    "## Decision Tree Model Evaluation with imbalanced data"
   ],
   "metadata": {
    "collapsed": false
   }
  },
  {
   "cell_type": "code",
   "execution_count": null,
   "outputs": [],
   "source": [
    "con = confusion_matrix(y_test, y_pred)\n",
    "con\n",
    "plot_confusion_matrix(con)\n",
    "print(classification_report(y_test, y_pred))\n",
    "decision_tree_recall_imbalanced = classification_report(y_test, y_pred, output_dict=True)['1']['recall']"
   ],
   "metadata": {
    "collapsed": false
   }
  },
  {
   "cell_type": "markdown",
   "source": [
    "# Decision Tree - cross validation"
   ],
   "metadata": {
    "collapsed": false
   }
  },
  {
   "cell_type": "code",
   "execution_count": null,
   "outputs": [],
   "source": [
    "\n",
    "K_fold = KFold(n_splits=3, shuffle=True, random_state=42)\n",
    "scoring = \"accuracy\"\n",
    "score = cross_val_score(dt, x, y, cv=K_fold, scoring=scoring)\n",
    "print(score)\n",
    "round(np.mean(score) * 100, 2)"
   ],
   "metadata": {
    "collapsed": false
   }
  },
  {
   "cell_type": "markdown",
   "source": [
    "---"
   ],
   "metadata": {
    "collapsed": false
   }
  },
  {
   "cell_type": "markdown",
   "source": [
    "## 1.2 Logistic regression"
   ],
   "metadata": {
    "collapsed": false
   }
  },
  {
   "cell_type": "code",
   "execution_count": null,
   "outputs": [],
   "source": [
    "from sklearn.linear_model import LogisticRegression\n",
    "\n",
    "LOG = LogisticRegression().fit(x_train, y_train)\n",
    "\n",
    "LOG.score(x_train, y_train)\n",
    "\n",
    "logistic_regression_accuracy_imbalanced = LOG.score(x_test, y_test)\n",
    "\n",
    "y_pred = LOG.predict(x_test)\n"
   ],
   "metadata": {
    "collapsed": false
   }
  },
  {
   "cell_type": "markdown",
   "source": [
    "## Logistic regression Model Evaluation with imbalanced data"
   ],
   "metadata": {
    "collapsed": false
   }
  },
  {
   "cell_type": "code",
   "execution_count": null,
   "outputs": [],
   "source": [
    "\n",
    "con = confusion_matrix(y_test, y_pred)\n",
    "con\n",
    "plot_confusion_matrix(con)\n",
    "\n",
    "print(classification_report(y_test, y_pred))\n",
    "logistic_regression_recall_imbalanced = classification_report(y_test, y_pred, output_dict=True)['1']['recall']"
   ],
   "metadata": {
    "collapsed": false
   }
  },
  {
   "cell_type": "markdown",
   "source": [
    "## Logistic regression - cross validation"
   ],
   "metadata": {
    "collapsed": false
   }
  },
  {
   "cell_type": "code",
   "execution_count": null,
   "outputs": [],
   "source": [
    "\n",
    "K_fold = KFold(n_splits=3, shuffle=True, random_state=42)\n",
    "scoring = \"accuracy\"\n",
    "score = cross_val_score(LOG, x, y, cv=K_fold, scoring=scoring)\n",
    "print(score)\n",
    "\n",
    "round(np.mean(score) * 100, 2)"
   ],
   "metadata": {
    "collapsed": false
   }
  },
  {
   "cell_type": "markdown",
   "source": [
    "---\n"
   ],
   "metadata": {
    "collapsed": false
   }
  },
  {
   "cell_type": "markdown",
   "source": [
    "## 1.3 Random Forest Classifier"
   ],
   "metadata": {
    "collapsed": false
   }
  },
  {
   "cell_type": "code",
   "execution_count": null,
   "outputs": [],
   "source": [
    "from sklearn.ensemble import RandomForestClassifier\n",
    "\n",
    "rf = RandomForestClassifier(n_estimators=4, max_depth=3, max_features=4)\n",
    "\n",
    "rf.fit(x_train, y_train)\n",
    "\n",
    "rf.score(x_train, y_train)\n",
    "\n",
    "random_forest_accuracy_imbalanced = rf.score(x_test, y_test)\n",
    "\n",
    "y_pred = rf.predict(x_test)"
   ],
   "metadata": {
    "collapsed": false
   }
  },
  {
   "cell_type": "markdown",
   "source": [
    "# Random Forest Classifier Model Evaluation with imbalanced data"
   ],
   "metadata": {
    "collapsed": false
   }
  },
  {
   "cell_type": "code",
   "execution_count": null,
   "outputs": [],
   "source": [
    "\n",
    "con = confusion_matrix(y_test, y_pred)\n",
    "con\n",
    "plot_confusion_matrix(con)\n",
    "\n",
    "print(classification_report(y_test, y_pred))\n",
    "random_forest_recall_imbalanced = classification_report(y_test, y_pred, output_dict=True)['1']['recall']"
   ],
   "metadata": {
    "collapsed": false
   }
  },
  {
   "cell_type": "markdown",
   "source": [
    "# Random Forest Classifier - Cross validation"
   ],
   "metadata": {
    "collapsed": false
   }
  },
  {
   "cell_type": "code",
   "execution_count": null,
   "outputs": [],
   "source": [
    "\n",
    "K_fold = KFold(n_splits=3, shuffle=True, random_state=42)\n",
    "scoring = \"accuracy\"\n",
    "score = cross_val_score(rf, x, y, cv=K_fold, scoring=scoring)\n",
    "print(score)\n",
    "round(np.mean(score) * 100, 2)"
   ],
   "metadata": {
    "collapsed": false
   }
  },
  {
   "cell_type": "markdown",
   "source": [
    "---"
   ],
   "metadata": {
    "collapsed": false
   }
  },
  {
   "cell_type": "markdown",
   "source": [
    "# 2. Prediction with balanced data\n",
    "### Addressing the issue of imbalanced datasets using random under-sampling"
   ],
   "metadata": {
    "collapsed": false
   }
  },
  {
   "cell_type": "code",
   "execution_count": null,
   "id": "ddfb6e3c-b1c0-44cc-8696-2ade338f6710",
   "metadata": {},
   "outputs": [],
   "source": [
    "# Importing necessary libraries\n",
    "!pip install imblearn\n",
    "from imblearn.under_sampling import RandomUnderSampler"
   ]
  },
  {
   "cell_type": "code",
   "execution_count": null,
   "id": "cda594e8-ca1b-4431-8c11-c9f51bcf61eb",
   "metadata": {},
   "outputs": [],
   "source": [
    "# Initializing RandomUnderSampler\n",
    "RUS = RandomUnderSampler(sampling_strategy=1)"
   ]
  },
  {
   "cell_type": "code",
   "execution_count": null,
   "id": "a3027e66-5f55-456a-ab5c-28ff586bfc42",
   "metadata": {},
   "outputs": [],
   "source": [
    "# Performing under-sampling on the training data\n",
    "x_res , y_res = RUS.fit_resample(x_train,y_train)"
   ]
  },
  {
   "cell_type": "code",
   "execution_count": null,
   "id": "3f1336f1-3283-40fb-abdd-041381082954",
   "metadata": {},
   "outputs": [],
   "source": [
    "# Visualizing the class distribution using a pie chart\n",
    "y_res.value_counts().plot.pie(autopct='%.2f')"
   ]
  },
  {
   "cell_type": "code",
   "execution_count": null,
   "id": "13a88848-7a5e-4db3-aa0a-4810705792e0",
   "metadata": {},
   "outputs": [],
   "source": [
    "# Displaying the value counts of the resampled target variable\n",
    "y_res.value_counts()"
   ]
  },
  {
   "cell_type": "code",
   "execution_count": null,
   "id": "7439a577-7488-406d-b56d-5cadbcabac6c",
   "metadata": {},
   "outputs": [],
   "source": [
    "# Displaying the resampled feature data\n",
    "x_res"
   ]
  },
  {
   "cell_type": "markdown",
   "source": [
    "# 2.1 Decision tree classifier"
   ],
   "metadata": {
    "collapsed": false
   }
  },
  {
   "cell_type": "code",
   "execution_count": null,
   "id": "9fc0cdc8-fe99-45b9-ad74-6f96124c19f4",
   "metadata": {},
   "outputs": [],
   "source": [
    "from sklearn.tree import DecisionTreeClassifier"
   ]
  },
  {
   "cell_type": "code",
   "execution_count": null,
   "id": "d1ca4207-9c41-4d9b-8896-d7a9714ee74c",
   "metadata": {},
   "outputs": [],
   "source": [
    "dt = DecisionTreeClassifier(max_depth = 5 , max_features= 4)"
   ]
  },
  {
   "cell_type": "code",
   "execution_count": null,
   "id": "7a78e9b4-4d8b-4763-9f80-025f5a0cba89",
   "metadata": {},
   "outputs": [],
   "source": [
    "dt.fit(x_res,y_res)"
   ]
  },
  {
   "cell_type": "code",
   "execution_count": null,
   "id": "508956b0-53f0-48d8-8057-d5b341a789e6",
   "metadata": {},
   "outputs": [],
   "source": [
    "dt.score(x_res,y_res)"
   ]
  },
  {
   "cell_type": "code",
   "execution_count": null,
   "id": "1332a478-0a8d-458b-940c-44f29d6f0327",
   "metadata": {},
   "outputs": [],
   "source": [
    "decision_tree_accuracy_balanced_under = dt.score(x_test,y_test)"
   ]
  },
  {
   "cell_type": "code",
   "execution_count": null,
   "id": "8b2cd374-f463-4ec7-afb2-7b89652bd5a4",
   "metadata": {},
   "outputs": [],
   "source": [
    "y_pred = dt.predict(x_test)"
   ]
  },
  {
   "cell_type": "markdown",
   "id": "c1b9a758-841c-4b9a-a423-e1bf05f9f099",
   "metadata": {},
   "source": [
    "## Decision Tree Model Evaluation with Random Under-Sampled data"
   ]
  },
  {
   "cell_type": "code",
   "execution_count": null,
   "id": "cb57c7ab-34f6-4f35-a207-09d6e9563cdd",
   "metadata": {},
   "outputs": [],
   "source": [
    "con = confusion_matrix(y_test , y_pred)\n",
    "con"
   ]
  },
  {
   "cell_type": "code",
   "execution_count": null,
   "id": "49d32815-155a-4af1-aaed-986593317d2f",
   "metadata": {},
   "outputs": [],
   "source": [
    "plot_confusion_matrix(con )"
   ]
  },
  {
   "cell_type": "code",
   "execution_count": null,
   "id": "03e9b6bd-c3b8-4aba-b93f-5d49cc5a2192",
   "metadata": {},
   "outputs": [],
   "source": [
    "print (classification_report(y_test , y_pred))\n",
    "decision_tree_recall_balanced_under = classification_report(y_test, y_pred, output_dict=True)['1']['recall']\n"
   ]
  },
  {
   "cell_type": "markdown",
   "source": [
    "## Cross validation of Decision Tree"
   ],
   "metadata": {
    "collapsed": false
   }
  },
  {
   "cell_type": "code",
   "execution_count": null,
   "id": "2b3b9315-e541-4f19-8d9b-ff80ad4cc6dd",
   "metadata": {},
   "outputs": [],
   "source": [
    "K_fold = KFold(n_splits= 3 , shuffle  = True ,random_state= 42)\n",
    "scoring = \"accuracy\"\n",
    "score = cross_val_score(dt , x,y , cv = K_fold , scoring= scoring)\n",
    "print (score)"
   ]
  },
  {
   "cell_type": "code",
   "execution_count": null,
   "id": "292c3ab1-797b-4b82-97a5-9f2a13a17e04",
   "metadata": {},
   "outputs": [],
   "source": [
    "round(np.mean(score)*100 , 2)\n"
   ]
  },
  {
   "cell_type": "markdown",
   "source": [
    "# 2.2 Logistic Regression classifier"
   ],
   "metadata": {
    "collapsed": false
   }
  },
  {
   "cell_type": "code",
   "execution_count": null,
   "outputs": [],
   "source": [
    "from sklearn.linear_model import LogisticRegression\n",
    "\n",
    "LOG = LogisticRegression().fit(x_res, y_res)\n",
    "\n",
    "LOG.score(x_res, y_res)\n",
    "\n",
    "logistic_regression_accuracy_balanced_under = LOG.score(x_test, y_test)\n",
    "\n",
    "y_pred = LOG.predict(x_test)"
   ],
   "metadata": {
    "collapsed": false
   }
  },
  {
   "cell_type": "markdown",
   "source": [
    "## Logistic Regression Model Evaluation with Random Under-Sampled data"
   ],
   "metadata": {
    "collapsed": false
   }
  },
  {
   "cell_type": "code",
   "execution_count": null,
   "outputs": [],
   "source": [
    "con = confusion_matrix(y_test, y_pred)\n",
    "con\n",
    "plot_confusion_matrix(con)\n",
    "\n",
    "print(classification_report(y_test, y_pred))\n",
    "logistic_regression_recall_balanced_under = classification_report(y_test, y_pred, output_dict=True)['1']['recall']"
   ],
   "metadata": {
    "collapsed": false
   }
  },
  {
   "cell_type": "markdown",
   "source": [
    "## Logistic Regression - Cross validation"
   ],
   "metadata": {
    "collapsed": false
   }
  },
  {
   "cell_type": "code",
   "execution_count": null,
   "outputs": [],
   "source": [
    "K_fold = KFold(n_splits=3, shuffle=True, random_state=42)\n",
    "scoring = \"accuracy\"\n",
    "score = cross_val_score(LOG, x, y, cv=K_fold, scoring=scoring)\n",
    "print(score)\n",
    "\n",
    "round(np.mean(score) * 100, 2)"
   ],
   "metadata": {
    "collapsed": false
   }
  },
  {
   "cell_type": "markdown",
   "source": [
    "---"
   ],
   "metadata": {
    "collapsed": false
   }
  },
  {
   "cell_type": "markdown",
   "source": [
    "# 2.3 Random Forest classifier"
   ],
   "metadata": {
    "collapsed": false
   }
  },
  {
   "cell_type": "code",
   "execution_count": null,
   "outputs": [],
   "source": [
    "from sklearn.ensemble import RandomForestClassifier\n",
    "\n",
    "rf = RandomForestClassifier(n_estimators=4, max_depth=3, max_features=4)\n",
    "\n",
    "rf.fit(x_res, y_res)\n",
    "\n",
    "rf.score(x_res, y_res)\n",
    "\n",
    "random_forest_accuracy_balanced_under = rf.score(x_test, y_test)\n",
    "\n",
    "y_pred = rf.predict(x_test)\n"
   ],
   "metadata": {
    "collapsed": false
   }
  },
  {
   "cell_type": "markdown",
   "source": [
    "## Random Forest Classifier Model Evaluation with Random Under-Sampled data"
   ],
   "metadata": {
    "collapsed": false
   }
  },
  {
   "cell_type": "code",
   "execution_count": null,
   "outputs": [],
   "source": [
    "con = confusion_matrix(y_test, y_pred)\n",
    "con\n",
    "plot_confusion_matrix(con)\n",
    "\n",
    "print(classification_report(y_test, y_pred))\n",
    "random_forest_recall_balanced_under = classification_report(y_test, y_pred, output_dict=True)['1']['recall']"
   ],
   "metadata": {
    "collapsed": false
   }
  },
  {
   "cell_type": "markdown",
   "source": [
    "## Cross validation of Random Forest Classifier"
   ],
   "metadata": {
    "collapsed": false
   }
  },
  {
   "cell_type": "code",
   "execution_count": null,
   "outputs": [],
   "source": [
    "K_fold = KFold(n_splits=3, shuffle=True, random_state=42)\n",
    "scoring = \"accuracy\"\n",
    "score = cross_val_score(rf, x, y, cv=K_fold, scoring=scoring)\n",
    "print(score)\n",
    "round(np.mean(score) * 100, 2)"
   ],
   "metadata": {
    "collapsed": false
   }
  },
  {
   "cell_type": "markdown",
   "source": [
    "# 3. Prediction with balanced data\n",
    "### Addressing the issue of imbalanced datasets using Random Over-Sampling Technique"
   ],
   "metadata": {
    "collapsed": false
   }
  },
  {
   "cell_type": "code",
   "execution_count": null,
   "id": "b642dc53-7c83-4a7d-af7b-1d7cbd5b1248",
   "metadata": {},
   "outputs": [],
   "source": [
    "from imblearn.over_sampling import RandomOverSampler"
   ]
  },
  {
   "cell_type": "code",
   "execution_count": null,
   "id": "de48e210-c602-4f35-bf8b-ff8b58f1b935",
   "metadata": {},
   "outputs": [],
   "source": [
    "ROS = RandomOverSampler(sampling_strategy = 1)"
   ]
  },
  {
   "cell_type": "code",
   "execution_count": null,
   "id": "75bcf704-87bf-4c29-990b-4b964fb115a7",
   "metadata": {},
   "outputs": [],
   "source": [
    "x_res, y_res = ROS.fit_resample(x_train,y_train)"
   ]
  },
  {
   "cell_type": "code",
   "execution_count": null,
   "id": "7fedabb3-0508-4626-b745-b9ddcd2b7fa1",
   "metadata": {},
   "outputs": [],
   "source": [
    "y_res.value_counts().plot.pie(autopct = \"%.2f\")\n"
   ]
  },
  {
   "cell_type": "code",
   "execution_count": null,
   "id": "452a0261-79f4-463f-b830-b8958053d4ec",
   "metadata": {},
   "outputs": [],
   "source": [
    "y_res.value_counts()\n"
   ]
  },
  {
   "cell_type": "markdown",
   "source": [
    "# 3.1 Decision tree classifier"
   ],
   "metadata": {
    "collapsed": false
   }
  },
  {
   "cell_type": "code",
   "execution_count": null,
   "outputs": [],
   "source": [
    "\n",
    "from sklearn.tree import DecisionTreeClassifier\n",
    "\n",
    "dt = DecisionTreeClassifier(max_depth=5, max_features=4)\n",
    "dt.fit(x_res, y_res)\n",
    "dt.score(x_res, y_res)\n",
    "decision_tree_accuracy_balanced_over = dt.score(x_test, y_test)\n",
    "y_pred = dt.predict(x_test)"
   ],
   "metadata": {
    "collapsed": false
   }
  },
  {
   "cell_type": "markdown",
   "source": [
    "## Decision Tree Model Evaluation with Random Over-Sampled data"
   ],
   "metadata": {
    "collapsed": false
   }
  },
  {
   "cell_type": "code",
   "execution_count": null,
   "outputs": [],
   "source": [
    "## Decision Tree Model Evaluation with Random Under-sampled data\n",
    "con = confusion_matrix(y_test, y_pred)\n",
    "con\n",
    "plot_confusion_matrix(con)\n",
    "print(classification_report(y_test, y_pred))\n",
    "\n",
    "decision_tree_recall_balanced_over = classification_report(y_test, y_pred, output_dict=True)['1']['recall']\n"
   ],
   "metadata": {
    "collapsed": false
   }
  },
  {
   "cell_type": "markdown",
   "source": [
    "## Cross validation of Decision Tree Model"
   ],
   "metadata": {
    "collapsed": false
   }
  },
  {
   "cell_type": "code",
   "execution_count": null,
   "outputs": [],
   "source": [
    "## Cross validation of Decision Tree\n",
    "K_fold = KFold(n_splits=3, shuffle=True, random_state=42)\n",
    "scoring = \"accuracy\"\n",
    "score = cross_val_score(dt, x, y, cv=K_fold, scoring=scoring)\n",
    "print(score)\n",
    "round(np.mean(score) * 100, 2)"
   ],
   "metadata": {
    "collapsed": false
   }
  },
  {
   "cell_type": "markdown",
   "source": [
    "---"
   ],
   "metadata": {
    "collapsed": false
   }
  },
  {
   "cell_type": "markdown",
   "source": [
    "# 3.2 Logistic Regression classifier\n"
   ],
   "metadata": {
    "collapsed": false
   }
  },
  {
   "cell_type": "code",
   "execution_count": null,
   "outputs": [],
   "source": [
    "# 3.2 Logistic Regression classifier\n",
    "from sklearn.linear_model import LogisticRegression\n",
    "\n",
    "LOG = LogisticRegression().fit(x_res, y_res)\n",
    "\n",
    "LOG.score(x_res, y_res)\n",
    "\n",
    "logistic_regression_accuracy_balanced_over = LOG.score(x_test, y_test)\n",
    "\n",
    "y_pred = LOG.predict(x_test)"
   ],
   "metadata": {
    "collapsed": false
   }
  },
  {
   "cell_type": "markdown",
   "source": [
    "## Logistic Regression Model Evaluation with Random Over-Sampled data\n"
   ],
   "metadata": {
    "collapsed": false
   }
  },
  {
   "cell_type": "code",
   "execution_count": null,
   "outputs": [],
   "source": [
    "\n",
    "con = confusion_matrix(y_test, y_pred)\n",
    "con\n",
    "plot_confusion_matrix(con)\n",
    "\n",
    "print(classification_report(y_test, y_pred))\n",
    "logistic_regression_recall_balanced_over = classification_report(y_test, y_pred, output_dict=True)['1']['recall']\n"
   ],
   "metadata": {
    "collapsed": false
   }
  },
  {
   "cell_type": "markdown",
   "source": [
    "## Cross validation of Logistic Regression Model"
   ],
   "metadata": {
    "collapsed": false
   }
  },
  {
   "cell_type": "code",
   "execution_count": null,
   "outputs": [],
   "source": [
    "\n",
    "K_fold = KFold(n_splits=3, shuffle=True, random_state=42)\n",
    "scoring = \"accuracy\"\n",
    "score = cross_val_score(LOG, x, y, cv=K_fold, scoring=scoring)\n",
    "print(score)\n",
    "\n",
    "round(np.mean(score) * 100, 2)\n"
   ],
   "metadata": {
    "collapsed": false
   }
  },
  {
   "cell_type": "markdown",
   "source": [
    "# 3.3 Random Forest classifier"
   ],
   "metadata": {
    "collapsed": false
   }
  },
  {
   "cell_type": "code",
   "execution_count": null,
   "outputs": [],
   "source": [
    "\n",
    "# 3.3 Random Forest classifier\n",
    "from sklearn.ensemble import RandomForestClassifier\n",
    "\n",
    "rf = RandomForestClassifier(n_estimators=4, max_depth=3, max_features=4)\n",
    "\n",
    "rf.fit(x_res, y_res)\n",
    "\n",
    "rf.score(x_res, y_res)\n",
    "\n",
    "random_forest_accuracy_balanced_over = rf.score(x_test, y_test)\n",
    "\n",
    "y_pred = rf.predict(x_test)"
   ],
   "metadata": {
    "collapsed": false
   }
  },
  {
   "cell_type": "markdown",
   "source": [
    "## Random Forest Classifier Model Evaluation with Random Over-Sampled data\n"
   ],
   "metadata": {
    "collapsed": false
   }
  },
  {
   "cell_type": "code",
   "execution_count": null,
   "outputs": [],
   "source": [
    "\n",
    "con = confusion_matrix(y_test, y_pred)\n",
    "con\n",
    "plot_confusion_matrix(con)\n",
    "\n",
    "print(classification_report(y_test, y_pred))\n",
    "random_forest_recall_balanced_over = classification_report(y_test, y_pred, output_dict=True)['1']['recall']"
   ],
   "metadata": {
    "collapsed": false
   }
  },
  {
   "cell_type": "markdown",
   "source": [
    "## Cross validation of Random Forest Classifier"
   ],
   "metadata": {
    "collapsed": false
   }
  },
  {
   "cell_type": "code",
   "execution_count": null,
   "outputs": [],
   "source": [
    "\n",
    "K_fold = KFold(n_splits=3, shuffle=True, random_state=42)\n",
    "scoring = \"accuracy\"\n",
    "score = cross_val_score(rf, x, y, cv=K_fold, scoring=scoring)\n",
    "print(score)\n",
    "round(np.mean(score) * 100, 2)"
   ],
   "metadata": {
    "collapsed": false
   }
  },
  {
   "cell_type": "markdown",
   "source": [
    "---"
   ],
   "metadata": {
    "collapsed": false
   }
  },
  {
   "cell_type": "markdown",
   "source": [
    "# Performance Evaluation"
   ],
   "metadata": {
    "collapsed": false
   }
  },
  {
   "cell_type": "code",
   "execution_count": 395,
   "outputs": [
    {
     "name": "stdout",
     "output_type": "stream",
     "text": [
      "Accuracy Table:\n",
      "                 Model  Imbalanced Accuracy  Balanced (Under) Accuracy  \\\n",
      "0        Decision Tree             0.914805                   0.627949   \n",
      "1  Logistic Regression             0.914805                   0.753717   \n",
      "2        Random Forest             0.914602                   0.655795   \n",
      "\n",
      "   Balanced (Over) Accuracy  \n",
      "0                  0.700339  \n",
      "1                  0.750246  \n",
      "2                  0.724620  \n",
      "\n",
      "\n",
      "\n",
      "Recall Table:\n",
      "                 Model  Imbalanced Recall  Balanced (Under) Recall  \\\n",
      "0        Decision Tree           0.035518                 0.842365   \n",
      "1  Logistic Regression           0.135482                 0.776272   \n",
      "2        Random Forest           0.000000                 0.838521   \n",
      "\n",
      "   Balanced (Over) Recall  \n",
      "0                0.803003  \n",
      "1                0.777188  \n",
      "2                0.759429  \n"
     ]
    }
   ],
   "source": [
    "import pandas as pd\n",
    "\n",
    "# Creating a dictionary for the data\n",
    "data = {\n",
    "    'Model': ['Decision Tree', 'Logistic Regression', 'Random Forest'],\n",
    "    'Imbalanced Accuracy': [decision_tree_accuracy_imbalanced, logistic_regression_accuracy_imbalanced, random_forest_accuracy_imbalanced],\n",
    "    'Balanced (Under) Accuracy': [decision_tree_accuracy_balanced_under, logistic_regression_accuracy_balanced_under, random_forest_accuracy_balanced_under],\n",
    "    'Balanced (Over) Accuracy': [decision_tree_accuracy_balanced_over, logistic_regression_accuracy_balanced_over, random_forest_accuracy_balanced_over],\n",
    "    'Imbalanced Recall': [decision_tree_recall_imbalanced, logistic_regression_recall_imbalanced, random_forest_recall_imbalanced],\n",
    "    'Balanced (Under) Recall': [decision_tree_recall_balanced_under, logistic_regression_recall_balanced_under, random_forest_recall_balanced_under],\n",
    "    'Balanced (Over) Recall': [decision_tree_recall_balanced_over, logistic_regression_recall_balanced_over, random_forest_recall_balanced_over]\n",
    "}\n",
    "\n",
    "# Creating pandas DataFrames\n",
    "accuracy_df = pd.DataFrame(data, columns=['Model', 'Imbalanced Accuracy', 'Balanced (Under) Accuracy', 'Balanced (Over) Accuracy'])\n",
    "recall_df = pd.DataFrame(data, columns=['Model', 'Imbalanced Recall', 'Balanced (Under) Recall', 'Balanced (Over) Recall'])\n",
    "\n",
    "# Displaying the tables\n",
    "print(\"Accuracy Table:\")\n",
    "print(accuracy_df)\n",
    "print(\"\\n\\n\")\n",
    "print(\"Recall Table:\")\n",
    "print(recall_df)\n"
   ],
   "metadata": {
    "collapsed": false
   }
  },
  {
   "cell_type": "markdown",
   "source": [
    "# Visualising the performance Based on Accuracy"
   ],
   "metadata": {
    "collapsed": false
   }
  },
  {
   "cell_type": "code",
   "execution_count": null,
   "outputs": [],
   "source": [
    "# Define a function for visualizing the performance\n",
    "def visualize_performance(title, data_labels, values, xlabel, ylabel):\n",
    "    plt.figure(figsize=(8, 6))\n",
    "    sns.barplot(x=data_labels, y=values)\n",
    "    plt.title(title)\n",
    "    plt.xlabel(xlabel)\n",
    "    plt.ylabel(ylabel)\n",
    "    plt.show()"
   ],
   "metadata": {
    "collapsed": false
   }
  },
  {
   "cell_type": "code",
   "execution_count": 396,
   "outputs": [
    {
     "data": {
      "text/plain": "<Figure size 800x600 with 1 Axes>",
      "image/png": "[encoded data removed]"
     },
     "metadata": {},
     "output_type": "display_data"
    },
    {
     "data": {
      "text/plain": "<Figure size 800x600 with 1 Axes>",
      "image/png": "[encoded data removed]"
     },
     "metadata": {},
     "output_type": "display_data"
    },
    {
     "data": {
      "text/plain": "<Figure size 800x600 with 1 Axes>",
      "image/png": "[encoded data removed]"
     },
     "metadata": {},
     "output_type": "display_data"
    }
   ],
   "source": [
    "import matplotlib.pyplot as plt\n",
    "import seaborn as sns\n",
    "\n",
    "# Visualizing the performance of the classifiers\n",
    "imbalanced_data_labels = ['Decision Tree', 'Logistic Regression', 'Random Forest']\n",
    "imbalanced_values = [decision_tree_accuracy_imbalanced, logistic_regression_accuracy_imbalanced, random_forest_accuracy_imbalanced]\n",
    "visualize_performance(\"Performance of Classifiers on Imbalanced Data\", imbalanced_data_labels, imbalanced_values, \"Classifier\", \"Accuracy\")\n",
    "\n",
    "balanced_under_sampling_data_labels = ['Decision Tree', 'Logistic Regression', 'Random Forest']\n",
    "balanced_under_sampling_values = [decision_tree_accuracy_balanced_under, logistic_regression_accuracy_balanced_under, random_forest_accuracy_balanced_under]\n",
    "visualize_performance(\"Performance of Classifiers on Balanced Data using Random Under-Sampling\", balanced_under_sampling_data_labels, balanced_under_sampling_values, \"Classifier\", \"Accuracy\")\n",
    "\n",
    "balanced_over_sampling_data_labels = ['Decision Tree', 'Logistic Regression', 'Random Forest']\n",
    "balanced_over_sampling_values = [decision_tree_accuracy_balanced_over, logistic_regression_accuracy_balanced_over, random_forest_accuracy_balanced_over]\n",
    "visualize_performance(\"Performance of Classifiers on Balanced Data using Random Over-Sampling\", balanced_over_sampling_data_labels, balanced_over_sampling_values, \"Classifier\", \"Accuracy\")\n"
   ],
   "metadata": {
    "collapsed": false
   }
  },
  {
   "cell_type": "markdown",
   "source": [
    "---"
   ],
   "metadata": {
    "collapsed": false
   }
  },
  {
   "cell_type": "markdown",
   "source": [
    "# Visualising the performance Based on Recall Value"
   ],
   "metadata": {
    "collapsed": false
   }
  },
  {
   "cell_type": "code",
   "execution_count": null,
   "outputs": [],
   "source": [
    "\n",
    "# Define a function for visualizing the performance based on recall\n",
    "def visualize_recall_performance(title, data_labels, values, xlabel, ylabel):\n",
    "    plt.figure(figsize=(8, 6))\n",
    "    sns.barplot(x=data_labels, y=values)\n",
    "    plt.title(title)\n",
    "    plt.xlabel(xlabel)\n",
    "    plt.ylabel(ylabel)\n",
    "    plt.show()\n",
    "\n",
    "# Visualizing the performance of the classifiers based on recall\n",
    "imbalanced_data_labels = ['Decision Tree', 'Logistic Regression', 'Random Forest']\n",
    "imbalanced_values = [decision_tree_recall_imbalanced, logistic_regression_recall_imbalanced, random_forest_recall_imbalanced]\n",
    "visualize_recall_performance(\"Performance Comparison based on Recall (Imbalanced Data)\", imbalanced_data_labels, imbalanced_values, \"Classifier\", \"Recall\")\n",
    "\n",
    "balanced_under_sampling_data_labels = ['Decision Tree', 'Logistic Regression', 'Random Forest']\n",
    "balanced_under_sampling_values = [decision_tree_recall_balanced_under, logistic_regression_recall_balanced_under, random_forest_recall_balanced_under]\n",
    "visualize_recall_performance(\"Performance Comparison based on Recall (Balanced Data using Random Under-Sampling)\", balanced_under_sampling_data_labels, balanced_under_sampling_values, \"Classifier\", \"Recall\")\n",
    "\n",
    "balanced_over_sampling_data_labels = ['Decision Tree', 'Logistic Regression', 'Random Forest']\n",
    "balanced_over_sampling_values = [decision_tree_recall_balanced_over, logistic_regression_recall_balanced_over, random_forest_recall_balanced_over]\n",
    "visualize_recall_performance(\"Performance Comparison based on Recall (Balanced Data using Random Over-Sampling)\", balanced_over_sampling_data_labels, balanced_over_sampling_values, \"Classifier\", \"Recall\")"
   ],
   "metadata": {
    "collapsed": false
   }
  },
  {
   "cell_type": "markdown",
   "source": [
    "# Standard scalar\n"
   ],
   "metadata": {
    "collapsed": false
   }
  },
  {
   "cell_type": "code",
   "execution_count": null,
   "id": "e9cd7d97-e40e-4fa6-84aa-c2c776a1a9b6",
   "metadata": {},
   "outputs": [],
   "source": [
    "# Standardization of numeric data\n",
    "\n",
    "from sklearn.preprocessing import StandardScaler\n",
    "\n",
    "scaler = StandardScaler()\n",
    "scaler.fit(x_res)\n",
    "\n",
    "X_train_scaled = scaler.transform(x_res)\n",
    "X_test_scaled = scaler.transform(x_test)\n",
    "\n",
    "X_train_scaled = pd.DataFrame(data=X_train_scaled, columns=x_res.columns)\n",
    "X_test_scaled = pd.DataFrame(data=X_test_scaled, columns=x_test.columns)\n",
    "X_test_scaled.describe()"
   ]
  }
 ],
 "metadata": {
  "kernelspec": {
   "display_name": "Python 3 (ipykernel)",
   "language": "python",
   "name": "python3"
  },
  "language_info": {
   "codemirror_mode": {
    "name": "ipython",
    "version": 3
   },
   "file_extension": ".py",
   "mimetype": "text/x-python",
   "name": "python",
   "nbconvert_exporter": "python",
   "pygments_lexer": "ipython3",
   "version": "3.9.13"
  }
 },
 "nbformat": 4,
 "nbformat_minor": 5
}
