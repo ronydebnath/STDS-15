{
 "cells": [
  {
   "cell_type": "markdown",
   "id": "6097c9e8-419e-4c43-bb21-91e064b1c14e",
   "metadata": {
    "tags": []
   },
   "source": [
    "# Importing Necessary Libraries\n"
   ]
  },
  {
   "cell_type": "code",
   "execution_count": 397,
   "id": "0e98dafa-98c6-4908-8e25-71e83046b8d5",
   "metadata": {},
   "outputs": [
    {
     "name": "stdout",
     "output_type": "stream",
     "text": [
      "Requirement already satisfied: mlxtend in /Users/rony/opt/anaconda3/lib/python3.9/site-packages (0.23.0)\r\n",
      "Requirement already satisfied: scikit-learn>=1.0.2 in /Users/rony/opt/anaconda3/lib/python3.9/site-packages (from mlxtend) (1.0.2)\r\n",
      "Requirement already satisfied: pandas>=0.24.2 in /Users/rony/opt/anaconda3/lib/python3.9/site-packages (from mlxtend) (1.4.4)\r\n",
      "Requirement already satisfied: joblib>=0.13.2 in /Users/rony/opt/anaconda3/lib/python3.9/site-packages (from mlxtend) (1.2.0)\r\n",
      "Requirement already satisfied: scipy>=1.2.1 in /Users/rony/opt/anaconda3/lib/python3.9/site-packages (from mlxtend) (1.9.1)\r\n",
      "Requirement already satisfied: numpy>=1.16.2 in /Users/rony/opt/anaconda3/lib/python3.9/site-packages (from mlxtend) (1.21.6)\r\n",
      "Requirement already satisfied: matplotlib>=3.0.0 in /Users/rony/opt/anaconda3/lib/python3.9/site-packages (from mlxtend) (3.5.2)\r\n",
      "Requirement already satisfied: kiwisolver>=1.0.1 in /Users/rony/opt/anaconda3/lib/python3.9/site-packages (from matplotlib>=3.0.0->mlxtend) (1.4.2)\r\n",
      "Requirement already satisfied: fonttools>=4.22.0 in /Users/rony/opt/anaconda3/lib/python3.9/site-packages (from matplotlib>=3.0.0->mlxtend) (4.25.0)\r\n",
      "Requirement already satisfied: cycler>=0.10 in /Users/rony/opt/anaconda3/lib/python3.9/site-packages (from matplotlib>=3.0.0->mlxtend) (0.11.0)\r\n",
      "Requirement already satisfied: pyparsing>=2.2.1 in /Users/rony/opt/anaconda3/lib/python3.9/site-packages (from matplotlib>=3.0.0->mlxtend) (3.0.9)\r\n",
      "Requirement already satisfied: python-dateutil>=2.7 in /Users/rony/opt/anaconda3/lib/python3.9/site-packages (from matplotlib>=3.0.0->mlxtend) (2.8.2)\r\n",
      "Requirement already satisfied: packaging>=20.0 in /Users/rony/opt/anaconda3/lib/python3.9/site-packages (from matplotlib>=3.0.0->mlxtend) (21.3)\r\n",
      "Requirement already satisfied: pillow>=6.2.0 in /Users/rony/opt/anaconda3/lib/python3.9/site-packages (from matplotlib>=3.0.0->mlxtend) (9.2.0)\r\n",
      "Requirement already satisfied: pytz>=2020.1 in /Users/rony/opt/anaconda3/lib/python3.9/site-packages (from pandas>=0.24.2->mlxtend) (2022.1)\r\n",
      "Requirement already satisfied: threadpoolctl>=2.0.0 in /Users/rony/opt/anaconda3/lib/python3.9/site-packages (from scikit-learn>=1.0.2->mlxtend) (2.2.0)\r\n",
      "Requirement already satisfied: six>=1.5 in /Users/rony/opt/anaconda3/lib/python3.9/site-packages (from python-dateutil>=2.7->matplotlib>=3.0.0->mlxtend) (1.16.0)\r\n"
     ]
    }
   ],
   "source": [
    "import pandas as pd\n",
    "import numpy as np\n",
    "import altair as alt\n",
    "import seaborn as sns\n",
    "import matplotlib.pyplot as plt\n",
    "\n",
    "from sklearn.metrics import confusion_matrix , classification_report\n",
    "!pip install mlxtend\n",
    "from mlxtend.plotting import plot_confusion_matrix\n",
    "from sklearn.model_selection import KFold , cross_val_score\n",
    "from sklearn.model_selection import GridSearchCV"
   ]
  },
  {
   "cell_type": "markdown",
   "id": "5f72cdcc-ea61-4774-b869-71eac944b266",
   "metadata": {},
   "source": [
    "# Loading the dataset\n"
   ]
  },
  {
   "cell_type": "code",
   "execution_count": 398,
   "id": "2862c70c-b276-47e6-aabc-a000446e88cc",
   "metadata": {},
   "outputs": [],
   "source": [
    "url = \"https://raw.githubusercontent.com/ronydebnath/STDS-15/main/Dataset/heart_2020_cleaned.csv?token=GHSAT0AAAAAACHSU2OQOR67NPLGHE3UPBIIZIJGDTA\"\n",
    "df = pd.read_csv(url)"
   ]
  },
  {
   "cell_type": "markdown",
   "id": "2b3d8655-1eae-45a6-b677-98c52492270c",
   "metadata": {},
   "source": [
    "# General info about the dataset\n"
   ]
  },
  {
   "cell_type": "code",
   "execution_count": 399,
   "id": "9a5e2e18-32fd-469a-9d8b-27fec8642e78",
   "metadata": {},
   "outputs": [
    {
     "data": {
      "text/plain": "  HeartDisease    BMI Smoking AlcoholDrinking Stroke  PhysicalHealth  \\\n0           No  16.60     Yes              No     No             3.0   \n1           No  20.34      No              No    Yes             0.0   \n2           No  26.58     Yes              No     No            20.0   \n3           No  24.21      No              No     No             0.0   \n4           No  23.71      No              No     No            28.0   \n\n   MentalHealth DiffWalking     Sex  AgeCategory   Race Diabetic  \\\n0          30.0          No  Female        55-59  White      Yes   \n1           0.0          No  Female  80 or older  White       No   \n2          30.0          No    Male        65-69  White      Yes   \n3           0.0          No  Female        75-79  White       No   \n4           0.0         Yes  Female        40-44  White       No   \n\n  PhysicalActivity  GenHealth  SleepTime Asthma KidneyDisease SkinCancer  \n0              Yes  Very good        5.0    Yes            No        Yes  \n1              Yes  Very good        7.0     No            No         No  \n2              Yes       Fair        8.0    Yes            No         No  \n3               No       Good        6.0     No            No        Yes  \n4              Yes  Very good        8.0     No            No         No  ",
      "text/html": "<div>\n<style scoped>\n    .dataframe tbody tr th:only-of-type {\n        vertical-align: middle;\n    }\n\n    .dataframe tbody tr th {\n        vertical-align: top;\n    }\n\n    .dataframe thead th {\n        text-align: right;\n    }\n</style>\n<table border=\"1\" class=\"dataframe\">\n  <thead>\n    <tr style=\"text-align: right;\">\n      <th></th>\n      <th>HeartDisease</th>\n      <th>BMI</th>\n      <th>Smoking</th>\n      <th>AlcoholDrinking</th>\n      <th>Stroke</th>\n      <th>PhysicalHealth</th>\n      <th>MentalHealth</th>\n      <th>DiffWalking</th>\n      <th>Sex</th>\n      <th>AgeCategory</th>\n      <th>Race</th>\n      <th>Diabetic</th>\n      <th>PhysicalActivity</th>\n      <th>GenHealth</th>\n      <th>SleepTime</th>\n      <th>Asthma</th>\n      <th>KidneyDisease</th>\n      <th>SkinCancer</th>\n    </tr>\n  </thead>\n  <tbody>\n    <tr>\n      <th>0</th>\n      <td>No</td>\n      <td>16.60</td>\n      <td>Yes</td>\n      <td>No</td>\n      <td>No</td>\n      <td>3.0</td>\n      <td>30.0</td>\n      <td>No</td>\n      <td>Female</td>\n      <td>55-59</td>\n      <td>White</td>\n      <td>Yes</td>\n      <td>Yes</td>\n      <td>Very good</td>\n      <td>5.0</td>\n      <td>Yes</td>\n      <td>No</td>\n      <td>Yes</td>\n    </tr>\n    <tr>\n      <th>1</th>\n      <td>No</td>\n      <td>20.34</td>\n      <td>No</td>\n      <td>No</td>\n      <td>Yes</td>\n      <td>0.0</td>\n      <td>0.0</td>\n      <td>No</td>\n      <td>Female</td>\n      <td>80 or older</td>\n      <td>White</td>\n      <td>No</td>\n      <td>Yes</td>\n      <td>Very good</td>\n      <td>7.0</td>\n      <td>No</td>\n      <td>No</td>\n      <td>No</td>\n    </tr>\n    <tr>\n      <th>2</th>\n      <td>No</td>\n      <td>26.58</td>\n      <td>Yes</td>\n      <td>No</td>\n      <td>No</td>\n      <td>20.0</td>\n      <td>30.0</td>\n      <td>No</td>\n      <td>Male</td>\n      <td>65-69</td>\n      <td>White</td>\n      <td>Yes</td>\n      <td>Yes</td>\n      <td>Fair</td>\n      <td>8.0</td>\n      <td>Yes</td>\n      <td>No</td>\n      <td>No</td>\n    </tr>\n    <tr>\n      <th>3</th>\n      <td>No</td>\n      <td>24.21</td>\n      <td>No</td>\n      <td>No</td>\n      <td>No</td>\n      <td>0.0</td>\n      <td>0.0</td>\n      <td>No</td>\n      <td>Female</td>\n      <td>75-79</td>\n      <td>White</td>\n      <td>No</td>\n      <td>No</td>\n      <td>Good</td>\n      <td>6.0</td>\n      <td>No</td>\n      <td>No</td>\n      <td>Yes</td>\n    </tr>\n    <tr>\n      <th>4</th>\n      <td>No</td>\n      <td>23.71</td>\n      <td>No</td>\n      <td>No</td>\n      <td>No</td>\n      <td>28.0</td>\n      <td>0.0</td>\n      <td>Yes</td>\n      <td>Female</td>\n      <td>40-44</td>\n      <td>White</td>\n      <td>No</td>\n      <td>Yes</td>\n      <td>Very good</td>\n      <td>8.0</td>\n      <td>No</td>\n      <td>No</td>\n      <td>No</td>\n    </tr>\n  </tbody>\n</table>\n</div>"
     },
     "execution_count": 399,
     "metadata": {},
     "output_type": "execute_result"
    }
   ],
   "source": [
    "df.head()\n"
   ]
  },
  {
   "cell_type": "code",
   "execution_count": 400,
   "id": "67e0097a-82b9-49e8-851d-d0f4867e40d7",
   "metadata": {},
   "outputs": [
    {
     "data": {
      "text/plain": "(319795, 18)"
     },
     "execution_count": 400,
     "metadata": {},
     "output_type": "execute_result"
    }
   ],
   "source": [
    "df.shape"
   ]
  },
  {
   "cell_type": "code",
   "execution_count": 401,
   "id": "c9c55bce-ecab-4e0a-b81a-17a6d3d7abcb",
   "metadata": {},
   "outputs": [
    {
     "name": "stdout",
     "output_type": "stream",
     "text": [
      "<class 'pandas.core.frame.DataFrame'>\n",
      "RangeIndex: 319795 entries, 0 to 319794\n",
      "Data columns (total 18 columns):\n",
      " #   Column            Non-Null Count   Dtype  \n",
      "---  ------            --------------   -----  \n",
      " 0   HeartDisease      319795 non-null  object \n",
      " 1   BMI               319795 non-null  float64\n",
      " 2   Smoking           319795 non-null  object \n",
      " 3   AlcoholDrinking   319795 non-null  object \n",
      " 4   Stroke            319795 non-null  object \n",
      " 5   PhysicalHealth    319795 non-null  float64\n",
      " 6   MentalHealth      319795 non-null  float64\n",
      " 7   DiffWalking       319795 non-null  object \n",
      " 8   Sex               319795 non-null  object \n",
      " 9   AgeCategory       319795 non-null  object \n",
      " 10  Race              319795 non-null  object \n",
      " 11  Diabetic          319795 non-null  object \n",
      " 12  PhysicalActivity  319795 non-null  object \n",
      " 13  GenHealth         319795 non-null  object \n",
      " 14  SleepTime         319795 non-null  float64\n",
      " 15  Asthma            319795 non-null  object \n",
      " 16  KidneyDisease     319795 non-null  object \n",
      " 17  SkinCancer        319795 non-null  object \n",
      "dtypes: float64(4), object(14)\n",
      "memory usage: 43.9+ MB\n"
     ]
    }
   ],
   "source": [
    "df.info()"
   ]
  },
  {
   "cell_type": "markdown",
   "id": "820edd33-11c3-468e-b3d6-8759396b1eb7",
   "metadata": {},
   "source": [
    "There is no null object in our dataset"
   ]
  },
  {
   "cell_type": "code",
   "execution_count": 402,
   "id": "940658e1-e554-44bf-96cb-0cb64bbf4246",
   "metadata": {},
   "outputs": [
    {
     "data": {
      "text/plain": "18078"
     },
     "execution_count": 402,
     "metadata": {},
     "output_type": "execute_result"
    }
   ],
   "source": [
    "# checking the duplicate\n",
    "df.duplicated().sum()"
   ]
  },
  {
   "cell_type": "code",
   "execution_count": 403,
   "id": "5ff9b8b5-09bb-42ac-9709-83e9e621fbce",
   "metadata": {
    "scrolled": true
   },
   "outputs": [
    {
     "data": {
      "text/plain": "                 BMI  PhysicalHealth   MentalHealth      SleepTime\ncount  319795.000000    319795.00000  319795.000000  319795.000000\nmean       28.325399         3.37171       3.898366       7.097075\nstd         6.356100         7.95085       7.955235       1.436007\nmin        12.020000         0.00000       0.000000       1.000000\n25%        24.030000         0.00000       0.000000       6.000000\n50%        27.340000         0.00000       0.000000       7.000000\n75%        31.420000         2.00000       3.000000       8.000000\nmax        94.850000        30.00000      30.000000      24.000000",
      "text/html": "<div>\n<style scoped>\n    .dataframe tbody tr th:only-of-type {\n        vertical-align: middle;\n    }\n\n    .dataframe tbody tr th {\n        vertical-align: top;\n    }\n\n    .dataframe thead th {\n        text-align: right;\n    }\n</style>\n<table border=\"1\" class=\"dataframe\">\n  <thead>\n    <tr style=\"text-align: right;\">\n      <th></th>\n      <th>BMI</th>\n      <th>PhysicalHealth</th>\n      <th>MentalHealth</th>\n      <th>SleepTime</th>\n    </tr>\n  </thead>\n  <tbody>\n    <tr>\n      <th>count</th>\n      <td>319795.000000</td>\n      <td>319795.00000</td>\n      <td>319795.000000</td>\n      <td>319795.000000</td>\n    </tr>\n    <tr>\n      <th>mean</th>\n      <td>28.325399</td>\n      <td>3.37171</td>\n      <td>3.898366</td>\n      <td>7.097075</td>\n    </tr>\n    <tr>\n      <th>std</th>\n      <td>6.356100</td>\n      <td>7.95085</td>\n      <td>7.955235</td>\n      <td>1.436007</td>\n    </tr>\n    <tr>\n      <th>min</th>\n      <td>12.020000</td>\n      <td>0.00000</td>\n      <td>0.000000</td>\n      <td>1.000000</td>\n    </tr>\n    <tr>\n      <th>25%</th>\n      <td>24.030000</td>\n      <td>0.00000</td>\n      <td>0.000000</td>\n      <td>6.000000</td>\n    </tr>\n    <tr>\n      <th>50%</th>\n      <td>27.340000</td>\n      <td>0.00000</td>\n      <td>0.000000</td>\n      <td>7.000000</td>\n    </tr>\n    <tr>\n      <th>75%</th>\n      <td>31.420000</td>\n      <td>2.00000</td>\n      <td>3.000000</td>\n      <td>8.000000</td>\n    </tr>\n    <tr>\n      <th>max</th>\n      <td>94.850000</td>\n      <td>30.00000</td>\n      <td>30.000000</td>\n      <td>24.000000</td>\n    </tr>\n  </tbody>\n</table>\n</div>"
     },
     "execution_count": 403,
     "metadata": {},
     "output_type": "execute_result"
    }
   ],
   "source": [
    "# General description about our dataset\n",
    "df.describe()"
   ]
  },
  {
   "cell_type": "code",
   "execution_count": 404,
   "id": "3c5bda33-377c-44f8-b4c4-d5456db2f1b7",
   "metadata": {},
   "outputs": [
    {
     "data": {
      "text/plain": "65-69          34151\n60-64          33686\n70-74          31065\n55-59          29757\n50-54          25382\n80 or older    24153\n45-49          21791\n75-79          21482\n18-24          21064\n40-44          21006\n35-39          20550\n30-34          18753\n25-29          16955\nName: AgeCategory, dtype: int64"
     },
     "execution_count": 404,
     "metadata": {},
     "output_type": "execute_result"
    }
   ],
   "source": [
    "df['AgeCategory'].value_counts()"
   ]
  },
  {
   "cell_type": "markdown",
   "id": "5ef09b33-157e-442a-8e0c-3e6c5cf2ec21",
   "metadata": {},
   "source": [
    "# Changing values(yes,no)into numeric values 0,1"
   ]
  },
  {
   "cell_type": "code",
   "execution_count": 405,
   "id": "cf8483f7-d6d3-481f-bc5c-45f1fd7c5309",
   "metadata": {},
   "outputs": [],
   "source": [
    "df['AgeCategory'] = df['AgeCategory'].str[:2]"
   ]
  },
  {
   "cell_type": "code",
   "execution_count": 406,
   "id": "50158469-b1fb-488f-ba48-6615d0bb191d",
   "metadata": {},
   "outputs": [
    {
     "data": {
      "text/plain": "       HeartDisease    BMI Smoking AlcoholDrinking Stroke  PhysicalHealth  \\\n0                 0  16.60       1               0      0             3.0   \n1                 0  20.34       0               0      1             0.0   \n2                 0  26.58       1               0      0            20.0   \n3                 0  24.21       0               0      0             0.0   \n4                 0  23.71       0               0      0            28.0   \n...             ...    ...     ...             ...    ...             ...   \n319790            1  27.41       1               0      0             7.0   \n319791            0  29.84       1               0      0             0.0   \n319792            0  24.24       0               0      0             0.0   \n319793            0  32.81       0               0      0             0.0   \n319794            0  46.56       0               0      0             0.0   \n\n        MentalHealth DiffWalking Sex AgeCategory      Race Diabetic  \\\n0               30.0           0   0          55     White        1   \n1                0.0           0   0          80     White        0   \n2               30.0           0   1          65     White        1   \n3                0.0           0   0          75     White        0   \n4                0.0           1   0          40     White        0   \n...              ...         ...  ..         ...       ...      ...   \n319790           0.0           1   1          60  Hispanic        1   \n319791           0.0           0   1          35  Hispanic        0   \n319792           0.0           0   0          45  Hispanic        0   \n319793           0.0           0   0          25  Hispanic        0   \n319794           0.0           0   0          80  Hispanic        0   \n\n       PhysicalActivity  GenHealth  SleepTime Asthma KidneyDisease SkinCancer  \n0                     1  Very good        5.0      1             0          1  \n1                     1  Very good        7.0      0             0          0  \n2                     1       Fair        8.0      1             0          0  \n3                     0       Good        6.0      0             0          1  \n4                     1  Very good        8.0      0             0          0  \n...                 ...        ...        ...    ...           ...        ...  \n319790                0       Fair        6.0      1             0          0  \n319791                1  Very good        5.0      1             0          0  \n319792                1       Good        6.0      0             0          0  \n319793                0       Good       12.0      0             0          0  \n319794                1       Good        8.0      0             0          0  \n\n[319795 rows x 18 columns]",
      "text/html": "<div>\n<style scoped>\n    .dataframe tbody tr th:only-of-type {\n        vertical-align: middle;\n    }\n\n    .dataframe tbody tr th {\n        vertical-align: top;\n    }\n\n    .dataframe thead th {\n        text-align: right;\n    }\n</style>\n<table border=\"1\" class=\"dataframe\">\n  <thead>\n    <tr style=\"text-align: right;\">\n      <th></th>\n      <th>HeartDisease</th>\n      <th>BMI</th>\n      <th>Smoking</th>\n      <th>AlcoholDrinking</th>\n      <th>Stroke</th>\n      <th>PhysicalHealth</th>\n      <th>MentalHealth</th>\n      <th>DiffWalking</th>\n      <th>Sex</th>\n      <th>AgeCategory</th>\n      <th>Race</th>\n      <th>Diabetic</th>\n      <th>PhysicalActivity</th>\n      <th>GenHealth</th>\n      <th>SleepTime</th>\n      <th>Asthma</th>\n      <th>KidneyDisease</th>\n      <th>SkinCancer</th>\n    </tr>\n  </thead>\n  <tbody>\n    <tr>\n      <th>0</th>\n      <td>0</td>\n      <td>16.60</td>\n      <td>1</td>\n      <td>0</td>\n      <td>0</td>\n      <td>3.0</td>\n      <td>30.0</td>\n      <td>0</td>\n      <td>0</td>\n      <td>55</td>\n      <td>White</td>\n      <td>1</td>\n      <td>1</td>\n      <td>Very good</td>\n      <td>5.0</td>\n      <td>1</td>\n      <td>0</td>\n      <td>1</td>\n    </tr>\n    <tr>\n      <th>1</th>\n      <td>0</td>\n      <td>20.34</td>\n      <td>0</td>\n      <td>0</td>\n      <td>1</td>\n      <td>0.0</td>\n      <td>0.0</td>\n      <td>0</td>\n      <td>0</td>\n      <td>80</td>\n      <td>White</td>\n      <td>0</td>\n      <td>1</td>\n      <td>Very good</td>\n      <td>7.0</td>\n      <td>0</td>\n      <td>0</td>\n      <td>0</td>\n    </tr>\n    <tr>\n      <th>2</th>\n      <td>0</td>\n      <td>26.58</td>\n      <td>1</td>\n      <td>0</td>\n      <td>0</td>\n      <td>20.0</td>\n      <td>30.0</td>\n      <td>0</td>\n      <td>1</td>\n      <td>65</td>\n      <td>White</td>\n      <td>1</td>\n      <td>1</td>\n      <td>Fair</td>\n      <td>8.0</td>\n      <td>1</td>\n      <td>0</td>\n      <td>0</td>\n    </tr>\n    <tr>\n      <th>3</th>\n      <td>0</td>\n      <td>24.21</td>\n      <td>0</td>\n      <td>0</td>\n      <td>0</td>\n      <td>0.0</td>\n      <td>0.0</td>\n      <td>0</td>\n      <td>0</td>\n      <td>75</td>\n      <td>White</td>\n      <td>0</td>\n      <td>0</td>\n      <td>Good</td>\n      <td>6.0</td>\n      <td>0</td>\n      <td>0</td>\n      <td>1</td>\n    </tr>\n    <tr>\n      <th>4</th>\n      <td>0</td>\n      <td>23.71</td>\n      <td>0</td>\n      <td>0</td>\n      <td>0</td>\n      <td>28.0</td>\n      <td>0.0</td>\n      <td>1</td>\n      <td>0</td>\n      <td>40</td>\n      <td>White</td>\n      <td>0</td>\n      <td>1</td>\n      <td>Very good</td>\n      <td>8.0</td>\n      <td>0</td>\n      <td>0</td>\n      <td>0</td>\n    </tr>\n    <tr>\n      <th>...</th>\n      <td>...</td>\n      <td>...</td>\n      <td>...</td>\n      <td>...</td>\n      <td>...</td>\n      <td>...</td>\n      <td>...</td>\n      <td>...</td>\n      <td>...</td>\n      <td>...</td>\n      <td>...</td>\n      <td>...</td>\n      <td>...</td>\n      <td>...</td>\n      <td>...</td>\n      <td>...</td>\n      <td>...</td>\n      <td>...</td>\n    </tr>\n    <tr>\n      <th>319790</th>\n      <td>1</td>\n      <td>27.41</td>\n      <td>1</td>\n      <td>0</td>\n      <td>0</td>\n      <td>7.0</td>\n      <td>0.0</td>\n      <td>1</td>\n      <td>1</td>\n      <td>60</td>\n      <td>Hispanic</td>\n      <td>1</td>\n      <td>0</td>\n      <td>Fair</td>\n      <td>6.0</td>\n      <td>1</td>\n      <td>0</td>\n      <td>0</td>\n    </tr>\n    <tr>\n      <th>319791</th>\n      <td>0</td>\n      <td>29.84</td>\n      <td>1</td>\n      <td>0</td>\n      <td>0</td>\n      <td>0.0</td>\n      <td>0.0</td>\n      <td>0</td>\n      <td>1</td>\n      <td>35</td>\n      <td>Hispanic</td>\n      <td>0</td>\n      <td>1</td>\n      <td>Very good</td>\n      <td>5.0</td>\n      <td>1</td>\n      <td>0</td>\n      <td>0</td>\n    </tr>\n    <tr>\n      <th>319792</th>\n      <td>0</td>\n      <td>24.24</td>\n      <td>0</td>\n      <td>0</td>\n      <td>0</td>\n      <td>0.0</td>\n      <td>0.0</td>\n      <td>0</td>\n      <td>0</td>\n      <td>45</td>\n      <td>Hispanic</td>\n      <td>0</td>\n      <td>1</td>\n      <td>Good</td>\n      <td>6.0</td>\n      <td>0</td>\n      <td>0</td>\n      <td>0</td>\n    </tr>\n    <tr>\n      <th>319793</th>\n      <td>0</td>\n      <td>32.81</td>\n      <td>0</td>\n      <td>0</td>\n      <td>0</td>\n      <td>0.0</td>\n      <td>0.0</td>\n      <td>0</td>\n      <td>0</td>\n      <td>25</td>\n      <td>Hispanic</td>\n      <td>0</td>\n      <td>0</td>\n      <td>Good</td>\n      <td>12.0</td>\n      <td>0</td>\n      <td>0</td>\n      <td>0</td>\n    </tr>\n    <tr>\n      <th>319794</th>\n      <td>0</td>\n      <td>46.56</td>\n      <td>0</td>\n      <td>0</td>\n      <td>0</td>\n      <td>0.0</td>\n      <td>0.0</td>\n      <td>0</td>\n      <td>0</td>\n      <td>80</td>\n      <td>Hispanic</td>\n      <td>0</td>\n      <td>1</td>\n      <td>Good</td>\n      <td>8.0</td>\n      <td>0</td>\n      <td>0</td>\n      <td>0</td>\n    </tr>\n  </tbody>\n</table>\n<p>319795 rows × 18 columns</p>\n</div>"
     },
     "execution_count": 406,
     "metadata": {},
     "output_type": "execute_result"
    }
   ],
   "source": [
    "df=df.replace('No','0')\n",
    "df= df.replace('Yes','1')\n",
    "df=df.replace('Female','0')\n",
    "df= df.replace('Male','1')\n",
    "df"
   ]
  },
  {
   "cell_type": "markdown",
   "id": "f64443bc-8ac6-4121-b7f3-91b9389f644a",
   "metadata": {},
   "source": [
    "# changing general health into numeric values"
   ]
  },
  {
   "cell_type": "code",
   "execution_count": 407,
   "id": "0f25f698-fa0c-4d28-82da-97504db67511",
   "metadata": {},
   "outputs": [],
   "source": [
    "df['GenHealth']=df['GenHealth'].replace('Poor','0')\n",
    "df['GenHealth']=df['GenHealth'].replace('Fair','1')\n",
    "df['GenHealth']=df['GenHealth'].replace('Good','2')\n",
    "df['GenHealth']=df['GenHealth'].replace('Very good','3')\n",
    "df['GenHealth']=df['GenHealth'].replace('Excellent','4')"
   ]
  },
  {
   "cell_type": "code",
   "execution_count": 408,
   "id": "848001bf-df75-46b9-9ec8-6944fa0b8bb0",
   "metadata": {},
   "outputs": [],
   "source": [
    "df[\"Diabetic\"]=df['Diabetic'].replace('No, borderline diabetes','3')\n",
    "df[\"Diabetic\"]=df['Diabetic'].replace('Yes (during pregnancy)','4')"
   ]
  },
  {
   "cell_type": "code",
   "execution_count": 409,
   "id": "22e1dbe0-b1be-4c07-8717-33898d273ea7",
   "metadata": {},
   "outputs": [
    {
     "data": {
      "text/plain": "       HeartDisease    BMI Smoking AlcoholDrinking Stroke  PhysicalHealth  \\\n0                 0  16.60       1               0      0             3.0   \n1                 0  20.34       0               0      1             0.0   \n2                 0  26.58       1               0      0            20.0   \n3                 0  24.21       0               0      0             0.0   \n4                 0  23.71       0               0      0            28.0   \n...             ...    ...     ...             ...    ...             ...   \n319790            1  27.41       1               0      0             7.0   \n319791            0  29.84       1               0      0             0.0   \n319792            0  24.24       0               0      0             0.0   \n319793            0  32.81       0               0      0             0.0   \n319794            0  46.56       0               0      0             0.0   \n\n        MentalHealth DiffWalking Sex AgeCategory      Race Diabetic  \\\n0               30.0           0   0          55     White        1   \n1                0.0           0   0          80     White        0   \n2               30.0           0   1          65     White        1   \n3                0.0           0   0          75     White        0   \n4                0.0           1   0          40     White        0   \n...              ...         ...  ..         ...       ...      ...   \n319790           0.0           1   1          60  Hispanic        1   \n319791           0.0           0   1          35  Hispanic        0   \n319792           0.0           0   0          45  Hispanic        0   \n319793           0.0           0   0          25  Hispanic        0   \n319794           0.0           0   0          80  Hispanic        0   \n\n       PhysicalActivity GenHealth  SleepTime Asthma KidneyDisease SkinCancer  \n0                     1         3        5.0      1             0          1  \n1                     1         3        7.0      0             0          0  \n2                     1         1        8.0      1             0          0  \n3                     0         2        6.0      0             0          1  \n4                     1         3        8.0      0             0          0  \n...                 ...       ...        ...    ...           ...        ...  \n319790                0         1        6.0      1             0          0  \n319791                1         3        5.0      1             0          0  \n319792                1         2        6.0      0             0          0  \n319793                0         2       12.0      0             0          0  \n319794                1         2        8.0      0             0          0  \n\n[319795 rows x 18 columns]",
      "text/html": "<div>\n<style scoped>\n    .dataframe tbody tr th:only-of-type {\n        vertical-align: middle;\n    }\n\n    .dataframe tbody tr th {\n        vertical-align: top;\n    }\n\n    .dataframe thead th {\n        text-align: right;\n    }\n</style>\n<table border=\"1\" class=\"dataframe\">\n  <thead>\n    <tr style=\"text-align: right;\">\n      <th></th>\n      <th>HeartDisease</th>\n      <th>BMI</th>\n      <th>Smoking</th>\n      <th>AlcoholDrinking</th>\n      <th>Stroke</th>\n      <th>PhysicalHealth</th>\n      <th>MentalHealth</th>\n      <th>DiffWalking</th>\n      <th>Sex</th>\n      <th>AgeCategory</th>\n      <th>Race</th>\n      <th>Diabetic</th>\n      <th>PhysicalActivity</th>\n      <th>GenHealth</th>\n      <th>SleepTime</th>\n      <th>Asthma</th>\n      <th>KidneyDisease</th>\n      <th>SkinCancer</th>\n    </tr>\n  </thead>\n  <tbody>\n    <tr>\n      <th>0</th>\n      <td>0</td>\n      <td>16.60</td>\n      <td>1</td>\n      <td>0</td>\n      <td>0</td>\n      <td>3.0</td>\n      <td>30.0</td>\n      <td>0</td>\n      <td>0</td>\n      <td>55</td>\n      <td>White</td>\n      <td>1</td>\n      <td>1</td>\n      <td>3</td>\n      <td>5.0</td>\n      <td>1</td>\n      <td>0</td>\n      <td>1</td>\n    </tr>\n    <tr>\n      <th>1</th>\n      <td>0</td>\n      <td>20.34</td>\n      <td>0</td>\n      <td>0</td>\n      <td>1</td>\n      <td>0.0</td>\n      <td>0.0</td>\n      <td>0</td>\n      <td>0</td>\n      <td>80</td>\n      <td>White</td>\n      <td>0</td>\n      <td>1</td>\n      <td>3</td>\n      <td>7.0</td>\n      <td>0</td>\n      <td>0</td>\n      <td>0</td>\n    </tr>\n    <tr>\n      <th>2</th>\n      <td>0</td>\n      <td>26.58</td>\n      <td>1</td>\n      <td>0</td>\n      <td>0</td>\n      <td>20.0</td>\n      <td>30.0</td>\n      <td>0</td>\n      <td>1</td>\n      <td>65</td>\n      <td>White</td>\n      <td>1</td>\n      <td>1</td>\n      <td>1</td>\n      <td>8.0</td>\n      <td>1</td>\n      <td>0</td>\n      <td>0</td>\n    </tr>\n    <tr>\n      <th>3</th>\n      <td>0</td>\n      <td>24.21</td>\n      <td>0</td>\n      <td>0</td>\n      <td>0</td>\n      <td>0.0</td>\n      <td>0.0</td>\n      <td>0</td>\n      <td>0</td>\n      <td>75</td>\n      <td>White</td>\n      <td>0</td>\n      <td>0</td>\n      <td>2</td>\n      <td>6.0</td>\n      <td>0</td>\n      <td>0</td>\n      <td>1</td>\n    </tr>\n    <tr>\n      <th>4</th>\n      <td>0</td>\n      <td>23.71</td>\n      <td>0</td>\n      <td>0</td>\n      <td>0</td>\n      <td>28.0</td>\n      <td>0.0</td>\n      <td>1</td>\n      <td>0</td>\n      <td>40</td>\n      <td>White</td>\n      <td>0</td>\n      <td>1</td>\n      <td>3</td>\n      <td>8.0</td>\n      <td>0</td>\n      <td>0</td>\n      <td>0</td>\n    </tr>\n    <tr>\n      <th>...</th>\n      <td>...</td>\n      <td>...</td>\n      <td>...</td>\n      <td>...</td>\n      <td>...</td>\n      <td>...</td>\n      <td>...</td>\n      <td>...</td>\n      <td>...</td>\n      <td>...</td>\n      <td>...</td>\n      <td>...</td>\n      <td>...</td>\n      <td>...</td>\n      <td>...</td>\n      <td>...</td>\n      <td>...</td>\n      <td>...</td>\n    </tr>\n    <tr>\n      <th>319790</th>\n      <td>1</td>\n      <td>27.41</td>\n      <td>1</td>\n      <td>0</td>\n      <td>0</td>\n      <td>7.0</td>\n      <td>0.0</td>\n      <td>1</td>\n      <td>1</td>\n      <td>60</td>\n      <td>Hispanic</td>\n      <td>1</td>\n      <td>0</td>\n      <td>1</td>\n      <td>6.0</td>\n      <td>1</td>\n      <td>0</td>\n      <td>0</td>\n    </tr>\n    <tr>\n      <th>319791</th>\n      <td>0</td>\n      <td>29.84</td>\n      <td>1</td>\n      <td>0</td>\n      <td>0</td>\n      <td>0.0</td>\n      <td>0.0</td>\n      <td>0</td>\n      <td>1</td>\n      <td>35</td>\n      <td>Hispanic</td>\n      <td>0</td>\n      <td>1</td>\n      <td>3</td>\n      <td>5.0</td>\n      <td>1</td>\n      <td>0</td>\n      <td>0</td>\n    </tr>\n    <tr>\n      <th>319792</th>\n      <td>0</td>\n      <td>24.24</td>\n      <td>0</td>\n      <td>0</td>\n      <td>0</td>\n      <td>0.0</td>\n      <td>0.0</td>\n      <td>0</td>\n      <td>0</td>\n      <td>45</td>\n      <td>Hispanic</td>\n      <td>0</td>\n      <td>1</td>\n      <td>2</td>\n      <td>6.0</td>\n      <td>0</td>\n      <td>0</td>\n      <td>0</td>\n    </tr>\n    <tr>\n      <th>319793</th>\n      <td>0</td>\n      <td>32.81</td>\n      <td>0</td>\n      <td>0</td>\n      <td>0</td>\n      <td>0.0</td>\n      <td>0.0</td>\n      <td>0</td>\n      <td>0</td>\n      <td>25</td>\n      <td>Hispanic</td>\n      <td>0</td>\n      <td>0</td>\n      <td>2</td>\n      <td>12.0</td>\n      <td>0</td>\n      <td>0</td>\n      <td>0</td>\n    </tr>\n    <tr>\n      <th>319794</th>\n      <td>0</td>\n      <td>46.56</td>\n      <td>0</td>\n      <td>0</td>\n      <td>0</td>\n      <td>0.0</td>\n      <td>0.0</td>\n      <td>0</td>\n      <td>0</td>\n      <td>80</td>\n      <td>Hispanic</td>\n      <td>0</td>\n      <td>1</td>\n      <td>2</td>\n      <td>8.0</td>\n      <td>0</td>\n      <td>0</td>\n      <td>0</td>\n    </tr>\n  </tbody>\n</table>\n<p>319795 rows × 18 columns</p>\n</div>"
     },
     "execution_count": 409,
     "metadata": {},
     "output_type": "execute_result"
    }
   ],
   "source": [
    "df"
   ]
  },
  {
   "cell_type": "code",
   "execution_count": 410,
   "id": "c09f6285-77a4-4876-aa49-9a45a1588677",
   "metadata": {},
   "outputs": [],
   "source": [
    "x = df.drop(['HeartDisease','Race'],axis = 1)"
   ]
  },
  {
   "cell_type": "code",
   "execution_count": 411,
   "id": "74a421f3-0b0e-4f98-868f-05dd7acd0779",
   "metadata": {},
   "outputs": [],
   "source": [
    "y = df['HeartDisease']"
   ]
  },
  {
   "cell_type": "code",
   "execution_count": 412,
   "id": "bdca1b92-a1d9-4278-ae6b-f81fa7dc97f9",
   "metadata": {},
   "outputs": [
    {
     "data": {
      "text/plain": "          BMI Smoking AlcoholDrinking Stroke  PhysicalHealth  MentalHealth  \\\n0       16.60       1               0      0             3.0          30.0   \n1       20.34       0               0      1             0.0           0.0   \n2       26.58       1               0      0            20.0          30.0   \n3       24.21       0               0      0             0.0           0.0   \n4       23.71       0               0      0            28.0           0.0   \n...       ...     ...             ...    ...             ...           ...   \n319790  27.41       1               0      0             7.0           0.0   \n319791  29.84       1               0      0             0.0           0.0   \n319792  24.24       0               0      0             0.0           0.0   \n319793  32.81       0               0      0             0.0           0.0   \n319794  46.56       0               0      0             0.0           0.0   \n\n       DiffWalking Sex AgeCategory Diabetic PhysicalActivity GenHealth  \\\n0                0   0          55        1                1         3   \n1                0   0          80        0                1         3   \n2                0   1          65        1                1         1   \n3                0   0          75        0                0         2   \n4                1   0          40        0                1         3   \n...            ...  ..         ...      ...              ...       ...   \n319790           1   1          60        1                0         1   \n319791           0   1          35        0                1         3   \n319792           0   0          45        0                1         2   \n319793           0   0          25        0                0         2   \n319794           0   0          80        0                1         2   \n\n        SleepTime Asthma KidneyDisease SkinCancer  \n0             5.0      1             0          1  \n1             7.0      0             0          0  \n2             8.0      1             0          0  \n3             6.0      0             0          1  \n4             8.0      0             0          0  \n...           ...    ...           ...        ...  \n319790        6.0      1             0          0  \n319791        5.0      1             0          0  \n319792        6.0      0             0          0  \n319793       12.0      0             0          0  \n319794        8.0      0             0          0  \n\n[319795 rows x 16 columns]",
      "text/html": "<div>\n<style scoped>\n    .dataframe tbody tr th:only-of-type {\n        vertical-align: middle;\n    }\n\n    .dataframe tbody tr th {\n        vertical-align: top;\n    }\n\n    .dataframe thead th {\n        text-align: right;\n    }\n</style>\n<table border=\"1\" class=\"dataframe\">\n  <thead>\n    <tr style=\"text-align: right;\">\n      <th></th>\n      <th>BMI</th>\n      <th>Smoking</th>\n      <th>AlcoholDrinking</th>\n      <th>Stroke</th>\n      <th>PhysicalHealth</th>\n      <th>MentalHealth</th>\n      <th>DiffWalking</th>\n      <th>Sex</th>\n      <th>AgeCategory</th>\n      <th>Diabetic</th>\n      <th>PhysicalActivity</th>\n      <th>GenHealth</th>\n      <th>SleepTime</th>\n      <th>Asthma</th>\n      <th>KidneyDisease</th>\n      <th>SkinCancer</th>\n    </tr>\n  </thead>\n  <tbody>\n    <tr>\n      <th>0</th>\n      <td>16.60</td>\n      <td>1</td>\n      <td>0</td>\n      <td>0</td>\n      <td>3.0</td>\n      <td>30.0</td>\n      <td>0</td>\n      <td>0</td>\n      <td>55</td>\n      <td>1</td>\n      <td>1</td>\n      <td>3</td>\n      <td>5.0</td>\n      <td>1</td>\n      <td>0</td>\n      <td>1</td>\n    </tr>\n    <tr>\n      <th>1</th>\n      <td>20.34</td>\n      <td>0</td>\n      <td>0</td>\n      <td>1</td>\n      <td>0.0</td>\n      <td>0.0</td>\n      <td>0</td>\n      <td>0</td>\n      <td>80</td>\n      <td>0</td>\n      <td>1</td>\n      <td>3</td>\n      <td>7.0</td>\n      <td>0</td>\n      <td>0</td>\n      <td>0</td>\n    </tr>\n    <tr>\n      <th>2</th>\n      <td>26.58</td>\n      <td>1</td>\n      <td>0</td>\n      <td>0</td>\n      <td>20.0</td>\n      <td>30.0</td>\n      <td>0</td>\n      <td>1</td>\n      <td>65</td>\n      <td>1</td>\n      <td>1</td>\n      <td>1</td>\n      <td>8.0</td>\n      <td>1</td>\n      <td>0</td>\n      <td>0</td>\n    </tr>\n    <tr>\n      <th>3</th>\n      <td>24.21</td>\n      <td>0</td>\n      <td>0</td>\n      <td>0</td>\n      <td>0.0</td>\n      <td>0.0</td>\n      <td>0</td>\n      <td>0</td>\n      <td>75</td>\n      <td>0</td>\n      <td>0</td>\n      <td>2</td>\n      <td>6.0</td>\n      <td>0</td>\n      <td>0</td>\n      <td>1</td>\n    </tr>\n    <tr>\n      <th>4</th>\n      <td>23.71</td>\n      <td>0</td>\n      <td>0</td>\n      <td>0</td>\n      <td>28.0</td>\n      <td>0.0</td>\n      <td>1</td>\n      <td>0</td>\n      <td>40</td>\n      <td>0</td>\n      <td>1</td>\n      <td>3</td>\n      <td>8.0</td>\n      <td>0</td>\n      <td>0</td>\n      <td>0</td>\n    </tr>\n    <tr>\n      <th>...</th>\n      <td>...</td>\n      <td>...</td>\n      <td>...</td>\n      <td>...</td>\n      <td>...</td>\n      <td>...</td>\n      <td>...</td>\n      <td>...</td>\n      <td>...</td>\n      <td>...</td>\n      <td>...</td>\n      <td>...</td>\n      <td>...</td>\n      <td>...</td>\n      <td>...</td>\n      <td>...</td>\n    </tr>\n    <tr>\n      <th>319790</th>\n      <td>27.41</td>\n      <td>1</td>\n      <td>0</td>\n      <td>0</td>\n      <td>7.0</td>\n      <td>0.0</td>\n      <td>1</td>\n      <td>1</td>\n      <td>60</td>\n      <td>1</td>\n      <td>0</td>\n      <td>1</td>\n      <td>6.0</td>\n      <td>1</td>\n      <td>0</td>\n      <td>0</td>\n    </tr>\n    <tr>\n      <th>319791</th>\n      <td>29.84</td>\n      <td>1</td>\n      <td>0</td>\n      <td>0</td>\n      <td>0.0</td>\n      <td>0.0</td>\n      <td>0</td>\n      <td>1</td>\n      <td>35</td>\n      <td>0</td>\n      <td>1</td>\n      <td>3</td>\n      <td>5.0</td>\n      <td>1</td>\n      <td>0</td>\n      <td>0</td>\n    </tr>\n    <tr>\n      <th>319792</th>\n      <td>24.24</td>\n      <td>0</td>\n      <td>0</td>\n      <td>0</td>\n      <td>0.0</td>\n      <td>0.0</td>\n      <td>0</td>\n      <td>0</td>\n      <td>45</td>\n      <td>0</td>\n      <td>1</td>\n      <td>2</td>\n      <td>6.0</td>\n      <td>0</td>\n      <td>0</td>\n      <td>0</td>\n    </tr>\n    <tr>\n      <th>319793</th>\n      <td>32.81</td>\n      <td>0</td>\n      <td>0</td>\n      <td>0</td>\n      <td>0.0</td>\n      <td>0.0</td>\n      <td>0</td>\n      <td>0</td>\n      <td>25</td>\n      <td>0</td>\n      <td>0</td>\n      <td>2</td>\n      <td>12.0</td>\n      <td>0</td>\n      <td>0</td>\n      <td>0</td>\n    </tr>\n    <tr>\n      <th>319794</th>\n      <td>46.56</td>\n      <td>0</td>\n      <td>0</td>\n      <td>0</td>\n      <td>0.0</td>\n      <td>0.0</td>\n      <td>0</td>\n      <td>0</td>\n      <td>80</td>\n      <td>0</td>\n      <td>1</td>\n      <td>2</td>\n      <td>8.0</td>\n      <td>0</td>\n      <td>0</td>\n      <td>0</td>\n    </tr>\n  </tbody>\n</table>\n<p>319795 rows × 16 columns</p>\n</div>"
     },
     "execution_count": 412,
     "metadata": {},
     "output_type": "execute_result"
    }
   ],
   "source": [
    "x"
   ]
  },
  {
   "cell_type": "code",
   "execution_count": 413,
   "id": "ec5ab78d-cf82-4edd-b03b-89d59e0b3657",
   "metadata": {},
   "outputs": [
    {
     "name": "stdout",
     "output_type": "stream",
     "text": [
      "<class 'pandas.core.frame.DataFrame'>\n",
      "RangeIndex: 319795 entries, 0 to 319794\n",
      "Data columns (total 16 columns):\n",
      " #   Column            Non-Null Count   Dtype  \n",
      "---  ------            --------------   -----  \n",
      " 0   BMI               319795 non-null  float64\n",
      " 1   Smoking           319795 non-null  object \n",
      " 2   AlcoholDrinking   319795 non-null  object \n",
      " 3   Stroke            319795 non-null  object \n",
      " 4   PhysicalHealth    319795 non-null  float64\n",
      " 5   MentalHealth      319795 non-null  float64\n",
      " 6   DiffWalking       319795 non-null  object \n",
      " 7   Sex               319795 non-null  object \n",
      " 8   AgeCategory       319795 non-null  object \n",
      " 9   Diabetic          319795 non-null  object \n",
      " 10  PhysicalActivity  319795 non-null  object \n",
      " 11  GenHealth         319795 non-null  object \n",
      " 12  SleepTime         319795 non-null  float64\n",
      " 13  Asthma            319795 non-null  object \n",
      " 14  KidneyDisease     319795 non-null  object \n",
      " 15  SkinCancer        319795 non-null  object \n",
      "dtypes: float64(4), object(12)\n",
      "memory usage: 39.0+ MB\n"
     ]
    }
   ],
   "source": [
    "x.info()\n"
   ]
  },
  {
   "cell_type": "code",
   "execution_count": 414,
   "id": "7354ef04-089e-4d40-bf5e-56929c038b8e",
   "metadata": {},
   "outputs": [],
   "source": [
    "x=x.astype('float32')\n"
   ]
  },
  {
   "cell_type": "code",
   "execution_count": 415,
   "id": "2ec822c5-3eee-42c3-bf99-cc90fedf3b30",
   "metadata": {},
   "outputs": [
    {
     "name": "stdout",
     "output_type": "stream",
     "text": [
      "<class 'pandas.core.frame.DataFrame'>\n",
      "RangeIndex: 319795 entries, 0 to 319794\n",
      "Data columns (total 16 columns):\n",
      " #   Column            Non-Null Count   Dtype  \n",
      "---  ------            --------------   -----  \n",
      " 0   BMI               319795 non-null  float32\n",
      " 1   Smoking           319795 non-null  float32\n",
      " 2   AlcoholDrinking   319795 non-null  float32\n",
      " 3   Stroke            319795 non-null  float32\n",
      " 4   PhysicalHealth    319795 non-null  float32\n",
      " 5   MentalHealth      319795 non-null  float32\n",
      " 6   DiffWalking       319795 non-null  float32\n",
      " 7   Sex               319795 non-null  float32\n",
      " 8   AgeCategory       319795 non-null  float32\n",
      " 9   Diabetic          319795 non-null  float32\n",
      " 10  PhysicalActivity  319795 non-null  float32\n",
      " 11  GenHealth         319795 non-null  float32\n",
      " 12  SleepTime         319795 non-null  float32\n",
      " 13  Asthma            319795 non-null  float32\n",
      " 14  KidneyDisease     319795 non-null  float32\n",
      " 15  SkinCancer        319795 non-null  float32\n",
      "dtypes: float32(16)\n",
      "memory usage: 19.5 MB\n"
     ]
    }
   ],
   "source": [
    "x.info()\n"
   ]
  },
  {
   "cell_type": "code",
   "execution_count": 416,
   "id": "ceae1e54-0311-48e9-8d7b-09426d1f3fef",
   "metadata": {},
   "outputs": [],
   "source": [
    "from sklearn.model_selection import train_test_split\n",
    "x_train,x_test,y_train,y_test=train_test_split(x,y,test_size=0.20,random_state=5)"
   ]
  },
  {
   "cell_type": "code",
   "execution_count": 417,
   "id": "19822ce8-caec-4747-939b-df87fbc267e1",
   "metadata": {},
   "outputs": [
    {
     "data": {
      "text/plain": "0    292422\n1     27373\nName: HeartDisease, dtype: int64"
     },
     "execution_count": 417,
     "metadata": {},
     "output_type": "execute_result"
    }
   ],
   "source": [
    "y.value_counts()\n"
   ]
  },
  {
   "cell_type": "code",
   "execution_count": 418,
   "id": "d92979e6-574c-4d76-86e9-91f91aeecc06",
   "metadata": {},
   "outputs": [
    {
     "data": {
      "text/plain": "<AxesSubplot:ylabel='HeartDisease'>"
     },
     "execution_count": 418,
     "metadata": {},
     "output_type": "execute_result"
    },
    {
     "data": {
      "text/plain": "<Figure size 640x480 with 1 Axes>",
      "image/png": "[encoded data removed]"
     },
     "metadata": {},
     "output_type": "display_data"
    }
   ],
   "source": [
    " y.value_counts().plot.pie(autopct = '%0.2f')\n"
   ]
  },
  {
   "cell_type": "markdown",
   "source": [
    "# 1. Prediction with imbalanced data"
   ],
   "metadata": {
    "collapsed": false
   }
  },
  {
   "cell_type": "code",
   "execution_count": 419,
   "outputs": [],
   "source": [
    "# Placeholders for accuracy values\n",
    "decision_tree_accuracy_imbalanced = None\n",
    "logistic_regression_accuracy_imbalanced = None\n",
    "random_forest_accuracy_imbalanced = None\n",
    "decision_tree_accuracy_balanced_under = None\n",
    "logistic_regression_accuracy_balanced_under = None\n",
    "random_forest_accuracy_balanced_under = None\n",
    "decision_tree_accuracy_balanced_over = None\n",
    "logistic_regression_accuracy_balanced_over = None\n",
    "random_forest_accuracy_balanced_over = None\n",
    "\n",
    "# Placeholders for recall values\n",
    "decision_tree_recall_imbalanced = None\n",
    "logistic_regression_recall_imbalanced = None\n",
    "random_forest_recall_imbalanced = None\n",
    "decision_tree_recall_balanced_under = None\n",
    "logistic_regression_recall_balanced_under = None\n",
    "random_forest_recall_balanced_under = None\n",
    "decision_tree_recall_balanced_over = None\n",
    "logistic_regression_recall_balanced_over = None\n",
    "random_forest_recall_balanced_over = None"
   ],
   "metadata": {
    "collapsed": false
   }
  },
  {
   "cell_type": "code",
   "execution_count": 420,
   "outputs": [],
   "source": [
    "import matplotlib.pyplot as plt\n",
    "import seaborn as sns\n",
    "from sklearn.metrics import confusion_matrix, classification_report\n",
    "from sklearn.model_selection import cross_val_score, KFold\n",
    "from sklearn.tree import DecisionTreeClassifier\n",
    "from sklearn.linear_model import LogisticRegression\n",
    "from sklearn.ensemble import RandomForestClassifier\n",
    "\n",
    "# Placeholders for recall values\n",
    "decision_tree_recall_imbalanced = None\n",
    "logistic_regression_recall_imbalanced = None\n",
    "random_forest_recall_imbalanced = None\n",
    "decision_tree_recall_balanced_under = None\n",
    "logistic_regression_recall_balanced_under = None\n",
    "random_forest_recall_balanced_under = None\n",
    "decision_tree_recall_balanced_over = None\n",
    "logistic_regression_recall_balanced_over = None\n",
    "random_forest_recall_balanced_over = None\n"
   ],
   "metadata": {
    "collapsed": false
   }
  },
  {
   "cell_type": "markdown",
   "source": [
    "## 1.1 Decision Tree Classifier"
   ],
   "metadata": {
    "collapsed": false
   }
  },
  {
   "cell_type": "code",
   "execution_count": 421,
   "outputs": [],
   "source": [
    "from sklearn.tree import DecisionTreeClassifier\n",
    "\n",
    "dt = DecisionTreeClassifier(max_depth=5, max_features=4)\n",
    "dt.fit(x_train, y_train)\n",
    "dt.score(x_train, y_train)\n",
    "decision_tree_accuracy_imbalanced = dt.score(x_test, y_test)\n",
    "y_pred = dt.predict(x_test)\n",
    "\n"
   ],
   "metadata": {
    "collapsed": false
   }
  },
  {
   "cell_type": "markdown",
   "source": [
    "## Decision Tree Model Evaluation with imbalanced data"
   ],
   "metadata": {
    "collapsed": false
   }
  },
  {
   "cell_type": "code",
   "execution_count": 422,
   "outputs": [
    {
     "name": "stdout",
     "output_type": "stream",
     "text": [
      "              precision    recall  f1-score   support\n",
      "\n",
      "           0       0.92      1.00      0.96     58497\n",
      "           1       0.54      0.06      0.10      5462\n",
      "\n",
      "    accuracy                           0.92     63959\n",
      "   macro avg       0.73      0.53      0.53     63959\n",
      "weighted avg       0.89      0.92      0.88     63959\n",
      "\n"
     ]
    },
    {
     "data": {
      "text/plain": "<Figure size 640x480 with 1 Axes>",
      "image/png": "[encoded data removed]"
     },
     "metadata": {},
     "output_type": "display_data"
    }
   ],
   "source": [
    "con = confusion_matrix(y_test, y_pred)\n",
    "con\n",
    "plot_confusion_matrix(con)\n",
    "print(classification_report(y_test, y_pred))\n",
    "decision_tree_recall_imbalanced = classification_report(y_test, y_pred, output_dict=True)['1']['recall']"
   ],
   "metadata": {
    "collapsed": false
   }
  },
  {
   "cell_type": "markdown",
   "source": [
    "# Decision Tree - cross validation"
   ],
   "metadata": {
    "collapsed": false
   }
  },
  {
   "cell_type": "code",
   "execution_count": 423,
   "outputs": [
    {
     "name": "stdout",
     "output_type": "stream",
     "text": [
      "[0.91415492 0.91473574 0.91589898]\n"
     ]
    },
    {
     "data": {
      "text/plain": "91.49"
     },
     "execution_count": 423,
     "metadata": {},
     "output_type": "execute_result"
    }
   ],
   "source": [
    "\n",
    "K_fold = KFold(n_splits=3, shuffle=True, random_state=42)\n",
    "scoring = \"accuracy\"\n",
    "score = cross_val_score(dt, x, y, cv=K_fold, scoring=scoring)\n",
    "print(score)\n",
    "round(np.mean(score) * 100, 2)"
   ],
   "metadata": {
    "collapsed": false
   }
  },
  {
   "cell_type": "markdown",
   "source": [
    "---"
   ],
   "metadata": {
    "collapsed": false
   }
  },
  {
   "cell_type": "markdown",
   "source": [
    "## 1.2 Logistic regression"
   ],
   "metadata": {
    "collapsed": false
   }
  },
  {
   "cell_type": "code",
   "execution_count": 424,
   "outputs": [
    {
     "name": "stderr",
     "output_type": "stream",
     "text": [
      "/Users/rony/opt/anaconda3/lib/python3.9/site-packages/sklearn/linear_model/_logistic.py:814: ConvergenceWarning: lbfgs failed to converge (status=1):\n",
      "STOP: TOTAL NO. of ITERATIONS REACHED LIMIT.\n",
      "\n",
      "Increase the number of iterations (max_iter) or scale the data as shown in:\n",
      "    https://scikit-learn.org/stable/modules/preprocessing.html\n",
      "Please also refer to the documentation for alternative solver options:\n",
      "    https://scikit-learn.org/stable/modules/linear_model.html#logistic-regression\n",
      "  n_iter_i = _check_optimize_result(\n"
     ]
    }
   ],
   "source": [
    "from sklearn.linear_model import LogisticRegression\n",
    "\n",
    "LOG = LogisticRegression().fit(x_train, y_train)\n",
    "\n",
    "LOG.score(x_train, y_train)\n",
    "\n",
    "logistic_regression_accuracy_imbalanced = LOG.score(x_test, y_test)\n",
    "\n",
    "y_pred = LOG.predict(x_test)\n"
   ],
   "metadata": {
    "collapsed": false
   }
  },
  {
   "cell_type": "markdown",
   "source": [
    "## Logistic regression Model Evaluation with imbalanced data"
   ],
   "metadata": {
    "collapsed": false
   }
  },
  {
   "cell_type": "code",
   "execution_count": 425,
   "outputs": [
    {
     "name": "stdout",
     "output_type": "stream",
     "text": [
      "              precision    recall  f1-score   support\n",
      "\n",
      "           0       0.92      0.99      0.95     58497\n",
      "           1       0.50      0.14      0.21      5462\n",
      "\n",
      "    accuracy                           0.91     63959\n",
      "   macro avg       0.71      0.56      0.58     63959\n",
      "weighted avg       0.89      0.91      0.89     63959\n",
      "\n"
     ]
    },
    {
     "data": {
      "text/plain": "<Figure size 640x480 with 1 Axes>",
      "image/png": "[encoded data removed]"
     },
     "metadata": {},
     "output_type": "display_data"
    }
   ],
   "source": [
    "\n",
    "con = confusion_matrix(y_test, y_pred)\n",
    "con\n",
    "plot_confusion_matrix(con)\n",
    "\n",
    "print(classification_report(y_test, y_pred))\n",
    "logistic_regression_recall_imbalanced = classification_report(y_test, y_pred, output_dict=True)['1']['recall']"
   ],
   "metadata": {
    "collapsed": false
   }
  },
  {
   "cell_type": "markdown",
   "source": [
    "## Logistic regression - cross validation"
   ],
   "metadata": {
    "collapsed": false
   }
  },
  {
   "cell_type": "code",
   "execution_count": 426,
   "outputs": [
    {
     "name": "stderr",
     "output_type": "stream",
     "text": [
      "/Users/rony/opt/anaconda3/lib/python3.9/site-packages/sklearn/linear_model/_logistic.py:814: ConvergenceWarning: lbfgs failed to converge (status=1):\n",
      "STOP: TOTAL NO. of ITERATIONS REACHED LIMIT.\n",
      "\n",
      "Increase the number of iterations (max_iter) or scale the data as shown in:\n",
      "    https://scikit-learn.org/stable/modules/preprocessing.html\n",
      "Please also refer to the documentation for alternative solver options:\n",
      "    https://scikit-learn.org/stable/modules/linear_model.html#logistic-regression\n",
      "  n_iter_i = _check_optimize_result(\n",
      "/Users/rony/opt/anaconda3/lib/python3.9/site-packages/sklearn/linear_model/_logistic.py:814: ConvergenceWarning: lbfgs failed to converge (status=1):\n",
      "STOP: TOTAL NO. of ITERATIONS REACHED LIMIT.\n",
      "\n",
      "Increase the number of iterations (max_iter) or scale the data as shown in:\n",
      "    https://scikit-learn.org/stable/modules/preprocessing.html\n",
      "Please also refer to the documentation for alternative solver options:\n",
      "    https://scikit-learn.org/stable/modules/linear_model.html#logistic-regression\n",
      "  n_iter_i = _check_optimize_result(\n"
     ]
    },
    {
     "name": "stdout",
     "output_type": "stream",
     "text": [
      "[0.91407987 0.91527046 0.91601156]\n"
     ]
    },
    {
     "name": "stderr",
     "output_type": "stream",
     "text": [
      "/Users/rony/opt/anaconda3/lib/python3.9/site-packages/sklearn/linear_model/_logistic.py:814: ConvergenceWarning: lbfgs failed to converge (status=1):\n",
      "STOP: TOTAL NO. of ITERATIONS REACHED LIMIT.\n",
      "\n",
      "Increase the number of iterations (max_iter) or scale the data as shown in:\n",
      "    https://scikit-learn.org/stable/modules/preprocessing.html\n",
      "Please also refer to the documentation for alternative solver options:\n",
      "    https://scikit-learn.org/stable/modules/linear_model.html#logistic-regression\n",
      "  n_iter_i = _check_optimize_result(\n"
     ]
    },
    {
     "data": {
      "text/plain": "91.51"
     },
     "execution_count": 426,
     "metadata": {},
     "output_type": "execute_result"
    }
   ],
   "source": [
    "\n",
    "K_fold = KFold(n_splits=3, shuffle=True, random_state=42)\n",
    "scoring = \"accuracy\"\n",
    "score = cross_val_score(LOG, x, y, cv=K_fold, scoring=scoring)\n",
    "print(score)\n",
    "\n",
    "round(np.mean(score) * 100, 2)"
   ],
   "metadata": {
    "collapsed": false
   }
  },
  {
   "cell_type": "markdown",
   "source": [
    "---\n"
   ],
   "metadata": {
    "collapsed": false
   }
  },
  {
   "cell_type": "markdown",
   "source": [
    "## 1.3 Random Forest Classifier"
   ],
   "metadata": {
    "collapsed": false
   }
  },
  {
   "cell_type": "code",
   "execution_count": 427,
   "outputs": [],
   "source": [
    "from sklearn.ensemble import RandomForestClassifier\n",
    "\n",
    "rf = RandomForestClassifier(n_estimators=4, max_depth=3, max_features=4)\n",
    "\n",
    "rf.fit(x_train, y_train)\n",
    "\n",
    "rf.score(x_train, y_train)\n",
    "\n",
    "random_forest_accuracy_imbalanced = rf.score(x_test, y_test)\n",
    "\n",
    "y_pred = rf.predict(x_test)"
   ],
   "metadata": {
    "collapsed": false
   }
  },
  {
   "cell_type": "markdown",
   "source": [
    "# Random Forest Classifier Model Evaluation with imbalanced data"
   ],
   "metadata": {
    "collapsed": false
   }
  },
  {
   "cell_type": "code",
   "execution_count": 428,
   "outputs": [
    {
     "name": "stderr",
     "output_type": "stream",
     "text": [
      "/Users/rony/opt/anaconda3/lib/python3.9/site-packages/sklearn/metrics/_classification.py:1318: UndefinedMetricWarning: Precision and F-score are ill-defined and being set to 0.0 in labels with no predicted samples. Use `zero_division` parameter to control this behavior.\n",
      "  _warn_prf(average, modifier, msg_start, len(result))\n",
      "/Users/rony/opt/anaconda3/lib/python3.9/site-packages/sklearn/metrics/_classification.py:1318: UndefinedMetricWarning: Precision and F-score are ill-defined and being set to 0.0 in labels with no predicted samples. Use `zero_division` parameter to control this behavior.\n",
      "  _warn_prf(average, modifier, msg_start, len(result))\n",
      "/Users/rony/opt/anaconda3/lib/python3.9/site-packages/sklearn/metrics/_classification.py:1318: UndefinedMetricWarning: Precision and F-score are ill-defined and being set to 0.0 in labels with no predicted samples. Use `zero_division` parameter to control this behavior.\n",
      "  _warn_prf(average, modifier, msg_start, len(result))\n"
     ]
    },
    {
     "name": "stdout",
     "output_type": "stream",
     "text": [
      "              precision    recall  f1-score   support\n",
      "\n",
      "           0       0.91      1.00      0.96     58497\n",
      "           1       0.00      0.00      0.00      5462\n",
      "\n",
      "    accuracy                           0.91     63959\n",
      "   macro avg       0.46      0.50      0.48     63959\n",
      "weighted avg       0.84      0.91      0.87     63959\n",
      "\n"
     ]
    },
    {
     "name": "stderr",
     "output_type": "stream",
     "text": [
      "/Users/rony/opt/anaconda3/lib/python3.9/site-packages/sklearn/metrics/_classification.py:1318: UndefinedMetricWarning: Precision and F-score are ill-defined and being set to 0.0 in labels with no predicted samples. Use `zero_division` parameter to control this behavior.\n",
      "  _warn_prf(average, modifier, msg_start, len(result))\n",
      "/Users/rony/opt/anaconda3/lib/python3.9/site-packages/sklearn/metrics/_classification.py:1318: UndefinedMetricWarning: Precision and F-score are ill-defined and being set to 0.0 in labels with no predicted samples. Use `zero_division` parameter to control this behavior.\n",
      "  _warn_prf(average, modifier, msg_start, len(result))\n",
      "/Users/rony/opt/anaconda3/lib/python3.9/site-packages/sklearn/metrics/_classification.py:1318: UndefinedMetricWarning: Precision and F-score are ill-defined and being set to 0.0 in labels with no predicted samples. Use `zero_division` parameter to control this behavior.\n",
      "  _warn_prf(average, modifier, msg_start, len(result))\n"
     ]
    },
    {
     "data": {
      "text/plain": "<Figure size 640x480 with 1 Axes>",
      "image/png": "[encoded data removed]"
     },
     "metadata": {},
     "output_type": "display_data"
    }
   ],
   "source": [
    "\n",
    "con = confusion_matrix(y_test, y_pred)\n",
    "con\n",
    "plot_confusion_matrix(con)\n",
    "\n",
    "print(classification_report(y_test, y_pred))\n",
    "random_forest_recall_imbalanced = classification_report(y_test, y_pred, output_dict=True)['1']['recall']"
   ],
   "metadata": {
    "collapsed": false
   }
  },
  {
   "cell_type": "markdown",
   "source": [
    "# Random Forest Classifier - Cross validation"
   ],
   "metadata": {
    "collapsed": false
   }
  },
  {
   "cell_type": "code",
   "execution_count": 429,
   "outputs": [
    {
     "name": "stdout",
     "output_type": "stream",
     "text": [
      "[0.91344196 0.91457626 0.91519541]\n"
     ]
    },
    {
     "data": {
      "text/plain": "91.44"
     },
     "execution_count": 429,
     "metadata": {},
     "output_type": "execute_result"
    }
   ],
   "source": [
    "\n",
    "K_fold = KFold(n_splits=3, shuffle=True, random_state=42)\n",
    "scoring = \"accuracy\"\n",
    "score = cross_val_score(rf, x, y, cv=K_fold, scoring=scoring)\n",
    "print(score)\n",
    "round(np.mean(score) * 100, 2)"
   ],
   "metadata": {
    "collapsed": false
   }
  },
  {
   "cell_type": "markdown",
   "source": [
    "---"
   ],
   "metadata": {
    "collapsed": false
   }
  },
  {
   "cell_type": "markdown",
   "source": [
    "# 2. Prediction with balanced data\n",
    "### Addressing the issue of imbalanced datasets using random under-sampling"
   ],
   "metadata": {
    "collapsed": false
   }
  },
  {
   "cell_type": "code",
   "execution_count": 430,
   "id": "ddfb6e3c-b1c0-44cc-8696-2ade338f6710",
   "metadata": {},
   "outputs": [
    {
     "name": "stdout",
     "output_type": "stream",
     "text": [
      "Requirement already satisfied: imblearn in /Users/rony/opt/anaconda3/lib/python3.9/site-packages (0.0)\r\n",
      "Requirement already satisfied: imbalanced-learn in /Users/rony/opt/anaconda3/lib/python3.9/site-packages (from imblearn) (0.11.0)\r\n",
      "Requirement already satisfied: threadpoolctl>=2.0.0 in /Users/rony/opt/anaconda3/lib/python3.9/site-packages (from imbalanced-learn->imblearn) (2.2.0)\r\n",
      "Requirement already satisfied: scipy>=1.5.0 in /Users/rony/opt/anaconda3/lib/python3.9/site-packages (from imbalanced-learn->imblearn) (1.9.1)\r\n",
      "Requirement already satisfied: numpy>=1.17.3 in /Users/rony/opt/anaconda3/lib/python3.9/site-packages (from imbalanced-learn->imblearn) (1.21.6)\r\n",
      "Requirement already satisfied: scikit-learn>=1.0.2 in /Users/rony/opt/anaconda3/lib/python3.9/site-packages (from imbalanced-learn->imblearn) (1.0.2)\r\n",
      "Requirement already satisfied: joblib>=1.1.1 in /Users/rony/opt/anaconda3/lib/python3.9/site-packages (from imbalanced-learn->imblearn) (1.2.0)\r\n"
     ]
    }
   ],
   "source": [
    "# Importing necessary libraries\n",
    "!pip install imblearn\n",
    "from imblearn.under_sampling import RandomUnderSampler"
   ]
  },
  {
   "cell_type": "code",
   "execution_count": 431,
   "id": "cda594e8-ca1b-4431-8c11-c9f51bcf61eb",
   "metadata": {},
   "outputs": [],
   "source": [
    "# Initializing RandomUnderSampler\n",
    "RUS = RandomUnderSampler(sampling_strategy=1)"
   ]
  },
  {
   "cell_type": "code",
   "execution_count": 432,
   "id": "a3027e66-5f55-456a-ab5c-28ff586bfc42",
   "metadata": {},
   "outputs": [],
   "source": [
    "# Performing under-sampling on the training data\n",
    "x_res , y_res = RUS.fit_resample(x_train,y_train)"
   ]
  },
  {
   "cell_type": "code",
   "execution_count": 433,
   "id": "3f1336f1-3283-40fb-abdd-041381082954",
   "metadata": {},
   "outputs": [
    {
     "data": {
      "text/plain": "<AxesSubplot:ylabel='HeartDisease'>"
     },
     "execution_count": 433,
     "metadata": {},
     "output_type": "execute_result"
    },
    {
     "data": {
      "text/plain": "<Figure size 640x480 with 1 Axes>",
      "image/png": "[encoded data removed]"
     },
     "metadata": {},
     "output_type": "display_data"
    }
   ],
   "source": [
    "# Visualizing the class distribution using a pie chart\n",
    "y_res.value_counts().plot.pie(autopct='%.2f')"
   ]
  },
  {
   "cell_type": "code",
   "execution_count": 434,
   "id": "13a88848-7a5e-4db3-aa0a-4810705792e0",
   "metadata": {},
   "outputs": [
    {
     "data": {
      "text/plain": "0    21911\n1    21911\nName: HeartDisease, dtype: int64"
     },
     "execution_count": 434,
     "metadata": {},
     "output_type": "execute_result"
    }
   ],
   "source": [
    "# Displaying the value counts of the resampled target variable\n",
    "y_res.value_counts()"
   ]
  },
  {
   "cell_type": "code",
   "execution_count": 435,
   "id": "7439a577-7488-406d-b56d-5cadbcabac6c",
   "metadata": {},
   "outputs": [
    {
     "data": {
      "text/plain": "              BMI  Smoking  AlcoholDrinking  Stroke  PhysicalHealth  \\\n92222   32.779999      0.0              0.0     0.0             0.0   \n268813  45.980000      1.0              0.0     0.0            30.0   \n296740  27.440001      1.0              0.0     0.0             3.0   \n258723  24.330000      0.0              0.0     0.0             2.0   \n102946  36.259998      0.0              0.0     0.0             0.0   \n...           ...      ...              ...     ...             ...   \n189650  18.650000      1.0              0.0     0.0             8.0   \n209121  30.540001      1.0              0.0     0.0             6.0   \n54746   31.750000      0.0              0.0     0.0             0.0   \n86407   30.270000      0.0              0.0     0.0            14.0   \n154468  19.799999      1.0              0.0     1.0            29.0   \n\n        MentalHealth  DiffWalking  Sex  AgeCategory  Diabetic  \\\n92222            0.0          0.0  1.0         65.0       0.0   \n268813          30.0          1.0  0.0         60.0       0.0   \n296740           3.0          0.0  0.0         50.0       0.0   \n258723           0.0          0.0  1.0         65.0       0.0   \n102946           2.0          0.0  1.0         65.0       0.0   \n...              ...          ...  ...          ...       ...   \n189650           0.0          1.0  1.0         60.0       0.0   \n209121           0.0          0.0  1.0         75.0       0.0   \n54746           30.0          1.0  0.0         75.0       1.0   \n86407            0.0          0.0  1.0         70.0       0.0   \n154468          25.0          1.0  0.0         50.0       0.0   \n\n        PhysicalActivity  GenHealth  SleepTime  Asthma  KidneyDisease  \\\n92222                1.0        3.0        7.0     1.0            0.0   \n268813               1.0        2.0        6.0     0.0            0.0   \n296740               1.0        4.0        7.0     0.0            0.0   \n258723               1.0        3.0        7.0     0.0            0.0   \n102946               0.0        2.0        7.0     0.0            0.0   \n...                  ...        ...        ...     ...            ...   \n189650               0.0        1.0       12.0     0.0            0.0   \n209121               0.0        2.0        9.0     0.0            0.0   \n54746                1.0        2.0        8.0     0.0            0.0   \n86407                1.0        2.0        7.0     0.0            0.0   \n154468               1.0        0.0       20.0     0.0            0.0   \n\n        SkinCancer  \n92222          1.0  \n268813         0.0  \n296740         0.0  \n258723         0.0  \n102946         0.0  \n...            ...  \n189650         0.0  \n209121         0.0  \n54746          0.0  \n86407          0.0  \n154468         0.0  \n\n[43822 rows x 16 columns]",
      "text/html": "<div>\n<style scoped>\n    .dataframe tbody tr th:only-of-type {\n        vertical-align: middle;\n    }\n\n    .dataframe tbody tr th {\n        vertical-align: top;\n    }\n\n    .dataframe thead th {\n        text-align: right;\n    }\n</style>\n<table border=\"1\" class=\"dataframe\">\n  <thead>\n    <tr style=\"text-align: right;\">\n      <th></th>\n      <th>BMI</th>\n      <th>Smoking</th>\n      <th>AlcoholDrinking</th>\n      <th>Stroke</th>\n      <th>PhysicalHealth</th>\n      <th>MentalHealth</th>\n      <th>DiffWalking</th>\n      <th>Sex</th>\n      <th>AgeCategory</th>\n      <th>Diabetic</th>\n      <th>PhysicalActivity</th>\n      <th>GenHealth</th>\n      <th>SleepTime</th>\n      <th>Asthma</th>\n      <th>KidneyDisease</th>\n      <th>SkinCancer</th>\n    </tr>\n  </thead>\n  <tbody>\n    <tr>\n      <th>92222</th>\n      <td>32.779999</td>\n      <td>0.0</td>\n      <td>0.0</td>\n      <td>0.0</td>\n      <td>0.0</td>\n      <td>0.0</td>\n      <td>0.0</td>\n      <td>1.0</td>\n      <td>65.0</td>\n      <td>0.0</td>\n      <td>1.0</td>\n      <td>3.0</td>\n      <td>7.0</td>\n      <td>1.0</td>\n      <td>0.0</td>\n      <td>1.0</td>\n    </tr>\n    <tr>\n      <th>268813</th>\n      <td>45.980000</td>\n      <td>1.0</td>\n      <td>0.0</td>\n      <td>0.0</td>\n      <td>30.0</td>\n      <td>30.0</td>\n      <td>1.0</td>\n      <td>0.0</td>\n      <td>60.0</td>\n      <td>0.0</td>\n      <td>1.0</td>\n      <td>2.0</td>\n      <td>6.0</td>\n      <td>0.0</td>\n      <td>0.0</td>\n      <td>0.0</td>\n    </tr>\n    <tr>\n      <th>296740</th>\n      <td>27.440001</td>\n      <td>1.0</td>\n      <td>0.0</td>\n      <td>0.0</td>\n      <td>3.0</td>\n      <td>3.0</td>\n      <td>0.0</td>\n      <td>0.0</td>\n      <td>50.0</td>\n      <td>0.0</td>\n      <td>1.0</td>\n      <td>4.0</td>\n      <td>7.0</td>\n      <td>0.0</td>\n      <td>0.0</td>\n      <td>0.0</td>\n    </tr>\n    <tr>\n      <th>258723</th>\n      <td>24.330000</td>\n      <td>0.0</td>\n      <td>0.0</td>\n      <td>0.0</td>\n      <td>2.0</td>\n      <td>0.0</td>\n      <td>0.0</td>\n      <td>1.0</td>\n      <td>65.0</td>\n      <td>0.0</td>\n      <td>1.0</td>\n      <td>3.0</td>\n      <td>7.0</td>\n      <td>0.0</td>\n      <td>0.0</td>\n      <td>0.0</td>\n    </tr>\n    <tr>\n      <th>102946</th>\n      <td>36.259998</td>\n      <td>0.0</td>\n      <td>0.0</td>\n      <td>0.0</td>\n      <td>0.0</td>\n      <td>2.0</td>\n      <td>0.0</td>\n      <td>1.0</td>\n      <td>65.0</td>\n      <td>0.0</td>\n      <td>0.0</td>\n      <td>2.0</td>\n      <td>7.0</td>\n      <td>0.0</td>\n      <td>0.0</td>\n      <td>0.0</td>\n    </tr>\n    <tr>\n      <th>...</th>\n      <td>...</td>\n      <td>...</td>\n      <td>...</td>\n      <td>...</td>\n      <td>...</td>\n      <td>...</td>\n      <td>...</td>\n      <td>...</td>\n      <td>...</td>\n      <td>...</td>\n      <td>...</td>\n      <td>...</td>\n      <td>...</td>\n      <td>...</td>\n      <td>...</td>\n      <td>...</td>\n    </tr>\n    <tr>\n      <th>189650</th>\n      <td>18.650000</td>\n      <td>1.0</td>\n      <td>0.0</td>\n      <td>0.0</td>\n      <td>8.0</td>\n      <td>0.0</td>\n      <td>1.0</td>\n      <td>1.0</td>\n      <td>60.0</td>\n      <td>0.0</td>\n      <td>0.0</td>\n      <td>1.0</td>\n      <td>12.0</td>\n      <td>0.0</td>\n      <td>0.0</td>\n      <td>0.0</td>\n    </tr>\n    <tr>\n      <th>209121</th>\n      <td>30.540001</td>\n      <td>1.0</td>\n      <td>0.0</td>\n      <td>0.0</td>\n      <td>6.0</td>\n      <td>0.0</td>\n      <td>0.0</td>\n      <td>1.0</td>\n      <td>75.0</td>\n      <td>0.0</td>\n      <td>0.0</td>\n      <td>2.0</td>\n      <td>9.0</td>\n      <td>0.0</td>\n      <td>0.0</td>\n      <td>0.0</td>\n    </tr>\n    <tr>\n      <th>54746</th>\n      <td>31.750000</td>\n      <td>0.0</td>\n      <td>0.0</td>\n      <td>0.0</td>\n      <td>0.0</td>\n      <td>30.0</td>\n      <td>1.0</td>\n      <td>0.0</td>\n      <td>75.0</td>\n      <td>1.0</td>\n      <td>1.0</td>\n      <td>2.0</td>\n      <td>8.0</td>\n      <td>0.0</td>\n      <td>0.0</td>\n      <td>0.0</td>\n    </tr>\n    <tr>\n      <th>86407</th>\n      <td>30.270000</td>\n      <td>0.0</td>\n      <td>0.0</td>\n      <td>0.0</td>\n      <td>14.0</td>\n      <td>0.0</td>\n      <td>0.0</td>\n      <td>1.0</td>\n      <td>70.0</td>\n      <td>0.0</td>\n      <td>1.0</td>\n      <td>2.0</td>\n      <td>7.0</td>\n      <td>0.0</td>\n      <td>0.0</td>\n      <td>0.0</td>\n    </tr>\n    <tr>\n      <th>154468</th>\n      <td>19.799999</td>\n      <td>1.0</td>\n      <td>0.0</td>\n      <td>1.0</td>\n      <td>29.0</td>\n      <td>25.0</td>\n      <td>1.0</td>\n      <td>0.0</td>\n      <td>50.0</td>\n      <td>0.0</td>\n      <td>1.0</td>\n      <td>0.0</td>\n      <td>20.0</td>\n      <td>0.0</td>\n      <td>0.0</td>\n      <td>0.0</td>\n    </tr>\n  </tbody>\n</table>\n<p>43822 rows × 16 columns</p>\n</div>"
     },
     "execution_count": 435,
     "metadata": {},
     "output_type": "execute_result"
    }
   ],
   "source": [
    "# Displaying the resampled feature data\n",
    "x_res"
   ]
  },
  {
   "cell_type": "markdown",
   "source": [
    "# 2.1 Decision tree classifier"
   ],
   "metadata": {
    "collapsed": false
   }
  },
  {
   "cell_type": "code",
   "execution_count": 436,
   "id": "9fc0cdc8-fe99-45b9-ad74-6f96124c19f4",
   "metadata": {},
   "outputs": [],
   "source": [
    "from sklearn.tree import DecisionTreeClassifier"
   ]
  },
  {
   "cell_type": "code",
   "execution_count": 437,
   "id": "d1ca4207-9c41-4d9b-8896-d7a9714ee74c",
   "metadata": {},
   "outputs": [],
   "source": [
    "dt = DecisionTreeClassifier(max_depth = 5 , max_features= 4)"
   ]
  },
  {
   "cell_type": "code",
   "execution_count": 438,
   "id": "7a78e9b4-4d8b-4763-9f80-025f5a0cba89",
   "metadata": {},
   "outputs": [
    {
     "data": {
      "text/plain": "DecisionTreeClassifier(max_depth=5, max_features=4)"
     },
     "execution_count": 438,
     "metadata": {},
     "output_type": "execute_result"
    }
   ],
   "source": [
    "dt.fit(x_res,y_res)"
   ]
  },
  {
   "cell_type": "code",
   "execution_count": 439,
   "id": "508956b0-53f0-48d8-8057-d5b341a789e6",
   "metadata": {},
   "outputs": [
    {
     "data": {
      "text/plain": "0.7329423577198667"
     },
     "execution_count": 439,
     "metadata": {},
     "output_type": "execute_result"
    }
   ],
   "source": [
    "dt.score(x_res,y_res)"
   ]
  },
  {
   "cell_type": "code",
   "execution_count": 440,
   "id": "1332a478-0a8d-458b-940c-44f29d6f0327",
   "metadata": {},
   "outputs": [],
   "source": [
    "decision_tree_accuracy_balanced_under = dt.score(x_test,y_test)"
   ]
  },
  {
   "cell_type": "code",
   "execution_count": 441,
   "id": "8b2cd374-f463-4ec7-afb2-7b89652bd5a4",
   "metadata": {},
   "outputs": [],
   "source": [
    "y_pred = dt.predict(x_test)"
   ]
  },
  {
   "cell_type": "markdown",
   "id": "c1b9a758-841c-4b9a-a423-e1bf05f9f099",
   "metadata": {},
   "source": [
    "## Decision Tree Model Evaluation with Random Under-Sampled data"
   ]
  },
  {
   "cell_type": "code",
   "execution_count": 442,
   "id": "cb57c7ab-34f6-4f35-a207-09d6e9563cdd",
   "metadata": {},
   "outputs": [
    {
     "data": {
      "text/plain": "array([[42608, 15889],\n       [ 1401,  4061]])"
     },
     "execution_count": 442,
     "metadata": {},
     "output_type": "execute_result"
    }
   ],
   "source": [
    "con = confusion_matrix(y_test , y_pred)\n",
    "con"
   ]
  },
  {
   "cell_type": "code",
   "execution_count": 443,
   "id": "49d32815-155a-4af1-aaed-986593317d2f",
   "metadata": {},
   "outputs": [
    {
     "data": {
      "text/plain": "(<Figure size 640x480 with 1 Axes>,\n <AxesSubplot:xlabel='predicted label', ylabel='true label'>)"
     },
     "execution_count": 443,
     "metadata": {},
     "output_type": "execute_result"
    },
    {
     "data": {
      "text/plain": "<Figure size 640x480 with 1 Axes>",
      "image/png": "[encoded data removed]"
     },
     "metadata": {},
     "output_type": "display_data"
    }
   ],
   "source": [
    "plot_confusion_matrix(con )"
   ]
  },
  {
   "cell_type": "code",
   "execution_count": 444,
   "id": "03e9b6bd-c3b8-4aba-b93f-5d49cc5a2192",
   "metadata": {},
   "outputs": [
    {
     "name": "stdout",
     "output_type": "stream",
     "text": [
      "              precision    recall  f1-score   support\n",
      "\n",
      "           0       0.97      0.73      0.83     58497\n",
      "           1       0.20      0.74      0.32      5462\n",
      "\n",
      "    accuracy                           0.73     63959\n",
      "   macro avg       0.59      0.74      0.58     63959\n",
      "weighted avg       0.90      0.73      0.79     63959\n",
      "\n"
     ]
    }
   ],
   "source": [
    "print (classification_report(y_test , y_pred))\n",
    "decision_tree_recall_balanced_under = classification_report(y_test, y_pred, output_dict=True)['1']['recall']\n"
   ]
  },
  {
   "cell_type": "markdown",
   "source": [
    "## Cross validation of Decision Tree"
   ],
   "metadata": {
    "collapsed": false
   }
  },
  {
   "cell_type": "code",
   "execution_count": 445,
   "id": "2b3b9315-e541-4f19-8d9b-ff80ad4cc6dd",
   "metadata": {},
   "outputs": [
    {
     "name": "stdout",
     "output_type": "stream",
     "text": [
      "[0.91389225 0.91505469 0.91525169]\n"
     ]
    }
   ],
   "source": [
    "K_fold = KFold(n_splits= 3 , shuffle  = True ,random_state= 42)\n",
    "scoring = \"accuracy\"\n",
    "score = cross_val_score(dt , x,y , cv = K_fold , scoring= scoring)\n",
    "print (score)"
   ]
  },
  {
   "cell_type": "code",
   "execution_count": 446,
   "id": "292c3ab1-797b-4b82-97a5-9f2a13a17e04",
   "metadata": {},
   "outputs": [
    {
     "data": {
      "text/plain": "91.47"
     },
     "execution_count": 446,
     "metadata": {},
     "output_type": "execute_result"
    }
   ],
   "source": [
    "round(np.mean(score)*100 , 2)\n"
   ]
  },
  {
   "cell_type": "markdown",
   "source": [
    "# 2.2 Logistic Regression classifier"
   ],
   "metadata": {
    "collapsed": false
   }
  },
  {
   "cell_type": "code",
   "execution_count": 447,
   "outputs": [
    {
     "name": "stderr",
     "output_type": "stream",
     "text": [
      "/Users/rony/opt/anaconda3/lib/python3.9/site-packages/sklearn/linear_model/_logistic.py:814: ConvergenceWarning: lbfgs failed to converge (status=1):\n",
      "STOP: TOTAL NO. of ITERATIONS REACHED LIMIT.\n",
      "\n",
      "Increase the number of iterations (max_iter) or scale the data as shown in:\n",
      "    https://scikit-learn.org/stable/modules/preprocessing.html\n",
      "Please also refer to the documentation for alternative solver options:\n",
      "    https://scikit-learn.org/stable/modules/linear_model.html#logistic-regression\n",
      "  n_iter_i = _check_optimize_result(\n"
     ]
    }
   ],
   "source": [
    "from sklearn.linear_model import LogisticRegression\n",
    "\n",
    "LOG = LogisticRegression().fit(x_res, y_res)\n",
    "\n",
    "LOG.score(x_res, y_res)\n",
    "\n",
    "logistic_regression_accuracy_balanced_under = LOG.score(x_test, y_test)\n",
    "\n",
    "y_pred = LOG.predict(x_test)"
   ],
   "metadata": {
    "collapsed": false
   }
  },
  {
   "cell_type": "markdown",
   "source": [
    "## Logistic Regression Model Evaluation with Random Under-Sampled data"
   ],
   "metadata": {
    "collapsed": false
   }
  },
  {
   "cell_type": "code",
   "execution_count": 448,
   "outputs": [
    {
     "name": "stdout",
     "output_type": "stream",
     "text": [
      "              precision    recall  f1-score   support\n",
      "\n",
      "           0       0.97      0.75      0.85     58497\n",
      "           1       0.22      0.77      0.35      5462\n",
      "\n",
      "    accuracy                           0.75     63959\n",
      "   macro avg       0.60      0.76      0.60     63959\n",
      "weighted avg       0.91      0.75      0.80     63959\n",
      "\n"
     ]
    },
    {
     "data": {
      "text/plain": "<Figure size 640x480 with 1 Axes>",
      "image/png": "[encoded data removed]"
     },
     "metadata": {},
     "output_type": "display_data"
    }
   ],
   "source": [
    "con = confusion_matrix(y_test, y_pred)\n",
    "con\n",
    "plot_confusion_matrix(con)\n",
    "\n",
    "print(classification_report(y_test, y_pred))\n",
    "logistic_regression_recall_balanced_under = classification_report(y_test, y_pred, output_dict=True)['1']['recall']"
   ],
   "metadata": {
    "collapsed": false
   }
  },
  {
   "cell_type": "markdown",
   "source": [
    "## Logistic Regression - Cross validation"
   ],
   "metadata": {
    "collapsed": false
   }
  },
  {
   "cell_type": "code",
   "execution_count": 449,
   "outputs": [
    {
     "name": "stderr",
     "output_type": "stream",
     "text": [
      "/Users/rony/opt/anaconda3/lib/python3.9/site-packages/sklearn/linear_model/_logistic.py:814: ConvergenceWarning: lbfgs failed to converge (status=1):\n",
      "STOP: TOTAL NO. of ITERATIONS REACHED LIMIT.\n",
      "\n",
      "Increase the number of iterations (max_iter) or scale the data as shown in:\n",
      "    https://scikit-learn.org/stable/modules/preprocessing.html\n",
      "Please also refer to the documentation for alternative solver options:\n",
      "    https://scikit-learn.org/stable/modules/linear_model.html#logistic-regression\n",
      "  n_iter_i = _check_optimize_result(\n",
      "/Users/rony/opt/anaconda3/lib/python3.9/site-packages/sklearn/linear_model/_logistic.py:814: ConvergenceWarning: lbfgs failed to converge (status=1):\n",
      "STOP: TOTAL NO. of ITERATIONS REACHED LIMIT.\n",
      "\n",
      "Increase the number of iterations (max_iter) or scale the data as shown in:\n",
      "    https://scikit-learn.org/stable/modules/preprocessing.html\n",
      "Please also refer to the documentation for alternative solver options:\n",
      "    https://scikit-learn.org/stable/modules/linear_model.html#logistic-regression\n",
      "  n_iter_i = _check_optimize_result(\n"
     ]
    },
    {
     "name": "stdout",
     "output_type": "stream",
     "text": [
      "[0.91407987 0.91527046 0.91601156]\n"
     ]
    },
    {
     "name": "stderr",
     "output_type": "stream",
     "text": [
      "/Users/rony/opt/anaconda3/lib/python3.9/site-packages/sklearn/linear_model/_logistic.py:814: ConvergenceWarning: lbfgs failed to converge (status=1):\n",
      "STOP: TOTAL NO. of ITERATIONS REACHED LIMIT.\n",
      "\n",
      "Increase the number of iterations (max_iter) or scale the data as shown in:\n",
      "    https://scikit-learn.org/stable/modules/preprocessing.html\n",
      "Please also refer to the documentation for alternative solver options:\n",
      "    https://scikit-learn.org/stable/modules/linear_model.html#logistic-regression\n",
      "  n_iter_i = _check_optimize_result(\n"
     ]
    },
    {
     "data": {
      "text/plain": "91.51"
     },
     "execution_count": 449,
     "metadata": {},
     "output_type": "execute_result"
    }
   ],
   "source": [
    "K_fold = KFold(n_splits=3, shuffle=True, random_state=42)\n",
    "scoring = \"accuracy\"\n",
    "score = cross_val_score(LOG, x, y, cv=K_fold, scoring=scoring)\n",
    "print(score)\n",
    "\n",
    "round(np.mean(score) * 100, 2)"
   ],
   "metadata": {
    "collapsed": false
   }
  },
  {
   "cell_type": "markdown",
   "source": [
    "---"
   ],
   "metadata": {
    "collapsed": false
   }
  },
  {
   "cell_type": "markdown",
   "source": [
    "# 2.3 Random Forest classifier"
   ],
   "metadata": {
    "collapsed": false
   }
  },
  {
   "cell_type": "code",
   "execution_count": 450,
   "outputs": [],
   "source": [
    "from sklearn.ensemble import RandomForestClassifier\n",
    "\n",
    "rf = RandomForestClassifier(n_estimators=4, max_depth=3, max_features=4)\n",
    "\n",
    "rf.fit(x_res, y_res)\n",
    "\n",
    "rf.score(x_res, y_res)\n",
    "\n",
    "random_forest_accuracy_balanced_under = rf.score(x_test, y_test)\n",
    "\n",
    "y_pred = rf.predict(x_test)\n"
   ],
   "metadata": {
    "collapsed": false
   }
  },
  {
   "cell_type": "markdown",
   "source": [
    "## Random Forest Classifier Model Evaluation with Random Under-Sampled data"
   ],
   "metadata": {
    "collapsed": false
   }
  },
  {
   "cell_type": "code",
   "execution_count": 451,
   "outputs": [
    {
     "name": "stdout",
     "output_type": "stream",
     "text": [
      "              precision    recall  f1-score   support\n",
      "\n",
      "           0       0.97      0.73      0.83     58497\n",
      "           1       0.20      0.76      0.32      5462\n",
      "\n",
      "    accuracy                           0.73     63959\n",
      "   macro avg       0.59      0.74      0.58     63959\n",
      "weighted avg       0.90      0.73      0.79     63959\n",
      "\n"
     ]
    },
    {
     "data": {
      "text/plain": "<Figure size 640x480 with 1 Axes>",
      "image/png": "[encoded data removed]"
     },
     "metadata": {},
     "output_type": "display_data"
    }
   ],
   "source": [
    "con = confusion_matrix(y_test, y_pred)\n",
    "con\n",
    "plot_confusion_matrix(con)\n",
    "\n",
    "print(classification_report(y_test, y_pred))\n",
    "random_forest_recall_balanced_under = classification_report(y_test, y_pred, output_dict=True)['1']['recall']"
   ],
   "metadata": {
    "collapsed": false
   }
  },
  {
   "cell_type": "markdown",
   "source": [
    "## Cross validation of Random Forest Classifier"
   ],
   "metadata": {
    "collapsed": false
   }
  },
  {
   "cell_type": "code",
   "execution_count": 452,
   "outputs": [
    {
     "name": "stdout",
     "output_type": "stream",
     "text": [
      "[0.91376092 0.91457626 0.91519541]\n"
     ]
    },
    {
     "data": {
      "text/plain": "91.45"
     },
     "execution_count": 452,
     "metadata": {},
     "output_type": "execute_result"
    }
   ],
   "source": [
    "K_fold = KFold(n_splits=3, shuffle=True, random_state=42)\n",
    "scoring = \"accuracy\"\n",
    "score = cross_val_score(rf, x, y, cv=K_fold, scoring=scoring)\n",
    "print(score)\n",
    "round(np.mean(score) * 100, 2)"
   ],
   "metadata": {
    "collapsed": false
   }
  },
  {
   "cell_type": "markdown",
   "source": [
    "# 3. Prediction with balanced data\n",
    "### Addressing the issue of imbalanced datasets using Random Over-Sampling Technique"
   ],
   "metadata": {
    "collapsed": false
   }
  },
  {
   "cell_type": "code",
   "execution_count": 453,
   "id": "b642dc53-7c83-4a7d-af7b-1d7cbd5b1248",
   "metadata": {},
   "outputs": [],
   "source": [
    "from imblearn.over_sampling import RandomOverSampler"
   ]
  },
  {
   "cell_type": "code",
   "execution_count": 454,
   "id": "de48e210-c602-4f35-bf8b-ff8b58f1b935",
   "metadata": {},
   "outputs": [],
   "source": [
    "ROS = RandomOverSampler(sampling_strategy = 1)"
   ]
  },
  {
   "cell_type": "code",
   "execution_count": 455,
   "id": "75bcf704-87bf-4c29-990b-4b964fb115a7",
   "metadata": {},
   "outputs": [],
   "source": [
    "x_res, y_res = ROS.fit_resample(x_train,y_train)"
   ]
  },
  {
   "cell_type": "code",
   "execution_count": 456,
   "id": "7fedabb3-0508-4626-b745-b9ddcd2b7fa1",
   "metadata": {},
   "outputs": [
    {
     "data": {
      "text/plain": "<AxesSubplot:ylabel='HeartDisease'>"
     },
     "execution_count": 456,
     "metadata": {},
     "output_type": "execute_result"
    },
    {
     "data": {
      "text/plain": "<Figure size 640x480 with 1 Axes>",
      "image/png": "[encoded data removed]"
     },
     "metadata": {},
     "output_type": "display_data"
    }
   ],
   "source": [
    "y_res.value_counts().plot.pie(autopct = \"%.2f\")\n"
   ]
  },
  {
   "cell_type": "code",
   "execution_count": 457,
   "id": "452a0261-79f4-463f-b830-b8958053d4ec",
   "metadata": {},
   "outputs": [
    {
     "data": {
      "text/plain": "0    233925\n1    233925\nName: HeartDisease, dtype: int64"
     },
     "execution_count": 457,
     "metadata": {},
     "output_type": "execute_result"
    }
   ],
   "source": [
    "y_res.value_counts()\n"
   ]
  },
  {
   "cell_type": "markdown",
   "source": [
    "# 3.1 Decision tree classifier"
   ],
   "metadata": {
    "collapsed": false
   }
  },
  {
   "cell_type": "code",
   "execution_count": 458,
   "outputs": [],
   "source": [
    "\n",
    "from sklearn.tree import DecisionTreeClassifier\n",
    "\n",
    "dt = DecisionTreeClassifier(max_depth=5, max_features=4)\n",
    "dt.fit(x_res, y_res)\n",
    "dt.score(x_res, y_res)\n",
    "decision_tree_accuracy_balanced_over = dt.score(x_test, y_test)\n",
    "y_pred = dt.predict(x_test)"
   ],
   "metadata": {
    "collapsed": false
   }
  },
  {
   "cell_type": "markdown",
   "source": [
    "## Decision Tree Model Evaluation with Random Over-Sampled data"
   ],
   "metadata": {
    "collapsed": false
   }
  },
  {
   "cell_type": "code",
   "execution_count": 459,
   "outputs": [
    {
     "name": "stdout",
     "output_type": "stream",
     "text": [
      "              precision    recall  f1-score   support\n",
      "\n",
      "           0       0.97      0.69      0.81     58497\n",
      "           1       0.20      0.81      0.32      5462\n",
      "\n",
      "    accuracy                           0.70     63959\n",
      "   macro avg       0.59      0.75      0.56     63959\n",
      "weighted avg       0.91      0.70      0.77     63959\n",
      "\n"
     ]
    },
    {
     "data": {
      "text/plain": "<Figure size 640x480 with 1 Axes>",
      "image/png": "[encoded data removed]"
     },
     "metadata": {},
     "output_type": "display_data"
    }
   ],
   "source": [
    "## Decision Tree Model Evaluation with Random Under-sampled data\n",
    "con = confusion_matrix(y_test, y_pred)\n",
    "con\n",
    "plot_confusion_matrix(con)\n",
    "print(classification_report(y_test, y_pred))\n",
    "\n",
    "decision_tree_recall_balanced_over = classification_report(y_test, y_pred, output_dict=True)['1']['recall']\n"
   ],
   "metadata": {
    "collapsed": false
   }
  },
  {
   "cell_type": "markdown",
   "source": [
    "## Cross validation of Decision Tree Model"
   ],
   "metadata": {
    "collapsed": false
   }
  },
  {
   "cell_type": "code",
   "execution_count": 460,
   "outputs": [
    {
     "name": "stdout",
     "output_type": "stream",
     "text": [
      "[0.91409863 0.91547684 0.91525169]\n"
     ]
    },
    {
     "data": {
      "text/plain": "91.49"
     },
     "execution_count": 460,
     "metadata": {},
     "output_type": "execute_result"
    }
   ],
   "source": [
    "## Cross validation of Decision Tree\n",
    "K_fold = KFold(n_splits=3, shuffle=True, random_state=42)\n",
    "scoring = \"accuracy\"\n",
    "score = cross_val_score(dt, x, y, cv=K_fold, scoring=scoring)\n",
    "print(score)\n",
    "round(np.mean(score) * 100, 2)"
   ],
   "metadata": {
    "collapsed": false
   }
  },
  {
   "cell_type": "markdown",
   "source": [
    "---"
   ],
   "metadata": {
    "collapsed": false
   }
  },
  {
   "cell_type": "markdown",
   "source": [
    "# 3.2 Logistic Regression classifier\n"
   ],
   "metadata": {
    "collapsed": false
   }
  },
  {
   "cell_type": "code",
   "execution_count": 461,
   "outputs": [
    {
     "name": "stderr",
     "output_type": "stream",
     "text": [
      "/Users/rony/opt/anaconda3/lib/python3.9/site-packages/sklearn/linear_model/_logistic.py:814: ConvergenceWarning: lbfgs failed to converge (status=1):\n",
      "STOP: TOTAL NO. of ITERATIONS REACHED LIMIT.\n",
      "\n",
      "Increase the number of iterations (max_iter) or scale the data as shown in:\n",
      "    https://scikit-learn.org/stable/modules/preprocessing.html\n",
      "Please also refer to the documentation for alternative solver options:\n",
      "    https://scikit-learn.org/stable/modules/linear_model.html#logistic-regression\n",
      "  n_iter_i = _check_optimize_result(\n"
     ]
    }
   ],
   "source": [
    "# 3.2 Logistic Regression classifier\n",
    "from sklearn.linear_model import LogisticRegression\n",
    "\n",
    "LOG = LogisticRegression().fit(x_res, y_res)\n",
    "\n",
    "LOG.score(x_res, y_res)\n",
    "\n",
    "logistic_regression_accuracy_balanced_over = LOG.score(x_test, y_test)\n",
    "\n",
    "y_pred = LOG.predict(x_test)"
   ],
   "metadata": {
    "collapsed": false
   }
  },
  {
   "cell_type": "markdown",
   "source": [
    "## Logistic Regression Model Evaluation with Random Over-Sampled data\n"
   ],
   "metadata": {
    "collapsed": false
   }
  },
  {
   "cell_type": "code",
   "execution_count": 462,
   "outputs": [
    {
     "name": "stdout",
     "output_type": "stream",
     "text": [
      "              precision    recall  f1-score   support\n",
      "\n",
      "           0       0.97      0.75      0.85     58497\n",
      "           1       0.22      0.78      0.35      5462\n",
      "\n",
      "    accuracy                           0.75     63959\n",
      "   macro avg       0.60      0.76      0.60     63959\n",
      "weighted avg       0.91      0.75      0.80     63959\n",
      "\n"
     ]
    },
    {
     "data": {
      "text/plain": "<Figure size 640x480 with 1 Axes>",
      "image/png": "[encoded data removed]"
     },
     "metadata": {},
     "output_type": "display_data"
    }
   ],
   "source": [
    "\n",
    "con = confusion_matrix(y_test, y_pred)\n",
    "con\n",
    "plot_confusion_matrix(con)\n",
    "\n",
    "print(classification_report(y_test, y_pred))\n",
    "logistic_regression_recall_balanced_over = classification_report(y_test, y_pred, output_dict=True)['1']['recall']\n"
   ],
   "metadata": {
    "collapsed": false
   }
  },
  {
   "cell_type": "markdown",
   "source": [
    "## Cross validation of Logistic Regression Model"
   ],
   "metadata": {
    "collapsed": false
   }
  },
  {
   "cell_type": "code",
   "execution_count": 463,
   "outputs": [
    {
     "name": "stderr",
     "output_type": "stream",
     "text": [
      "/Users/rony/opt/anaconda3/lib/python3.9/site-packages/sklearn/linear_model/_logistic.py:814: ConvergenceWarning: lbfgs failed to converge (status=1):\n",
      "STOP: TOTAL NO. of ITERATIONS REACHED LIMIT.\n",
      "\n",
      "Increase the number of iterations (max_iter) or scale the data as shown in:\n",
      "    https://scikit-learn.org/stable/modules/preprocessing.html\n",
      "Please also refer to the documentation for alternative solver options:\n",
      "    https://scikit-learn.org/stable/modules/linear_model.html#logistic-regression\n",
      "  n_iter_i = _check_optimize_result(\n",
      "/Users/rony/opt/anaconda3/lib/python3.9/site-packages/sklearn/linear_model/_logistic.py:814: ConvergenceWarning: lbfgs failed to converge (status=1):\n",
      "STOP: TOTAL NO. of ITERATIONS REACHED LIMIT.\n",
      "\n",
      "Increase the number of iterations (max_iter) or scale the data as shown in:\n",
      "    https://scikit-learn.org/stable/modules/preprocessing.html\n",
      "Please also refer to the documentation for alternative solver options:\n",
      "    https://scikit-learn.org/stable/modules/linear_model.html#logistic-regression\n",
      "  n_iter_i = _check_optimize_result(\n"
     ]
    },
    {
     "name": "stdout",
     "output_type": "stream",
     "text": [
      "[0.91407987 0.91527046 0.91601156]\n"
     ]
    },
    {
     "name": "stderr",
     "output_type": "stream",
     "text": [
      "/Users/rony/opt/anaconda3/lib/python3.9/site-packages/sklearn/linear_model/_logistic.py:814: ConvergenceWarning: lbfgs failed to converge (status=1):\n",
      "STOP: TOTAL NO. of ITERATIONS REACHED LIMIT.\n",
      "\n",
      "Increase the number of iterations (max_iter) or scale the data as shown in:\n",
      "    https://scikit-learn.org/stable/modules/preprocessing.html\n",
      "Please also refer to the documentation for alternative solver options:\n",
      "    https://scikit-learn.org/stable/modules/linear_model.html#logistic-regression\n",
      "  n_iter_i = _check_optimize_result(\n"
     ]
    },
    {
     "data": {
      "text/plain": "91.51"
     },
     "execution_count": 463,
     "metadata": {},
     "output_type": "execute_result"
    }
   ],
   "source": [
    "\n",
    "K_fold = KFold(n_splits=3, shuffle=True, random_state=42)\n",
    "scoring = \"accuracy\"\n",
    "score = cross_val_score(LOG, x, y, cv=K_fold, scoring=scoring)\n",
    "print(score)\n",
    "\n",
    "round(np.mean(score) * 100, 2)\n"
   ],
   "metadata": {
    "collapsed": false
   }
  },
  {
   "cell_type": "markdown",
   "source": [
    "# 3.3 Random Forest classifier"
   ],
   "metadata": {
    "collapsed": false
   }
  },
  {
   "cell_type": "code",
   "execution_count": 464,
   "outputs": [],
   "source": [
    "\n",
    "# 3.3 Random Forest classifier\n",
    "from sklearn.ensemble import RandomForestClassifier\n",
    "\n",
    "rf = RandomForestClassifier(n_estimators=4, max_depth=3, max_features=4)\n",
    "\n",
    "rf.fit(x_res, y_res)\n",
    "\n",
    "rf.score(x_res, y_res)\n",
    "\n",
    "random_forest_accuracy_balanced_over = rf.score(x_test, y_test)\n",
    "\n",
    "y_pred = rf.predict(x_test)"
   ],
   "metadata": {
    "collapsed": false
   }
  },
  {
   "cell_type": "markdown",
   "source": [
    "## Random Forest Classifier Model Evaluation with Random Over-Sampled data\n"
   ],
   "metadata": {
    "collapsed": false
   }
  },
  {
   "cell_type": "code",
   "execution_count": 465,
   "outputs": [
    {
     "name": "stdout",
     "output_type": "stream",
     "text": [
      "              precision    recall  f1-score   support\n",
      "\n",
      "           0       0.97      0.73      0.83     58497\n",
      "           1       0.21      0.75      0.33      5462\n",
      "\n",
      "    accuracy                           0.73     63959\n",
      "   macro avg       0.59      0.74      0.58     63959\n",
      "weighted avg       0.90      0.73      0.79     63959\n",
      "\n"
     ]
    },
    {
     "data": {
      "text/plain": "<Figure size 640x480 with 1 Axes>",
      "image/png": "[encoded data removed]"
     },
     "metadata": {},
     "output_type": "display_data"
    }
   ],
   "source": [
    "\n",
    "con = confusion_matrix(y_test, y_pred)\n",
    "con\n",
    "plot_confusion_matrix(con)\n",
    "\n",
    "print(classification_report(y_test, y_pred))\n",
    "random_forest_recall_balanced_over = classification_report(y_test, y_pred, output_dict=True)['1']['recall']"
   ],
   "metadata": {
    "collapsed": false
   }
  },
  {
   "cell_type": "markdown",
   "source": [
    "## Cross validation of Random Forest Classifier"
   ],
   "metadata": {
    "collapsed": false
   }
  },
  {
   "cell_type": "code",
   "execution_count": 466,
   "outputs": [
    {
     "name": "stdout",
     "output_type": "stream",
     "text": [
      "[0.91344196 0.91457626 0.91519541]\n"
     ]
    },
    {
     "data": {
      "text/plain": "91.44"
     },
     "execution_count": 466,
     "metadata": {},
     "output_type": "execute_result"
    }
   ],
   "source": [
    "\n",
    "K_fold = KFold(n_splits=3, shuffle=True, random_state=42)\n",
    "scoring = \"accuracy\"\n",
    "score = cross_val_score(rf, x, y, cv=K_fold, scoring=scoring)\n",
    "print(score)\n",
    "round(np.mean(score) * 100, 2)"
   ],
   "metadata": {
    "collapsed": false
   }
  },
  {
   "cell_type": "markdown",
   "source": [
    "---"
   ],
   "metadata": {
    "collapsed": false
   }
  },
  {
   "cell_type": "markdown",
   "source": [
    "# Performance Evaluation"
   ],
   "metadata": {
    "collapsed": false
   }
  },
  {
   "cell_type": "code",
   "execution_count": 467,
   "outputs": [
    {
     "name": "stdout",
     "output_type": "stream",
     "text": [
      "Accuracy Table:\n",
      "                 Model  Imbalanced Accuracy  Balanced (Under) Accuracy  \\\n",
      "0        Decision Tree             0.915336                   0.729671   \n",
      "1  Logistic Regression             0.914805                   0.751841   \n",
      "2        Random Forest             0.914602                   0.728248   \n",
      "\n",
      "   Balanced (Over) Accuracy  \n",
      "0                  0.702294  \n",
      "1                  0.752326  \n",
      "2                  0.734158  \n",
      "\n",
      "\n",
      "\n",
      "Recall Table:\n",
      "                 Model  Imbalanced Recall  Balanced (Under) Recall  \\\n",
      "0        Decision Tree           0.056939                 0.743501   \n",
      "1  Logistic Regression           0.135482                 0.773160   \n",
      "2        Random Forest           0.000000                 0.756866   \n",
      "\n",
      "   Balanced (Over) Recall  \n",
      "0                0.806481  \n",
      "1                0.775357  \n",
      "2                0.749908  \n"
     ]
    }
   ],
   "source": [
    "import pandas as pd\n",
    "\n",
    "# Creating a dictionary for the data\n",
    "data = {\n",
    "    'Model': ['Decision Tree', 'Logistic Regression', 'Random Forest'],\n",
    "    'Imbalanced Accuracy': [decision_tree_accuracy_imbalanced, logistic_regression_accuracy_imbalanced, random_forest_accuracy_imbalanced],\n",
    "    'Balanced (Under) Accuracy': [decision_tree_accuracy_balanced_under, logistic_regression_accuracy_balanced_under, random_forest_accuracy_balanced_under],\n",
    "    'Balanced (Over) Accuracy': [decision_tree_accuracy_balanced_over, logistic_regression_accuracy_balanced_over, random_forest_accuracy_balanced_over],\n",
    "    'Imbalanced Recall': [decision_tree_recall_imbalanced, logistic_regression_recall_imbalanced, random_forest_recall_imbalanced],\n",
    "    'Balanced (Under) Recall': [decision_tree_recall_balanced_under, logistic_regression_recall_balanced_under, random_forest_recall_balanced_under],\n",
    "    'Balanced (Over) Recall': [decision_tree_recall_balanced_over, logistic_regression_recall_balanced_over, random_forest_recall_balanced_over]\n",
    "}\n",
    "\n",
    "# Creating pandas DataFrames\n",
    "accuracy_df = pd.DataFrame(data, columns=['Model', 'Imbalanced Accuracy', 'Balanced (Under) Accuracy', 'Balanced (Over) Accuracy'])\n",
    "recall_df = pd.DataFrame(data, columns=['Model', 'Imbalanced Recall', 'Balanced (Under) Recall', 'Balanced (Over) Recall'])\n",
    "\n",
    "# Displaying the tables\n",
    "print(\"Accuracy Table:\")\n",
    "print(accuracy_df)\n",
    "print(\"\\n\\n\")\n",
    "print(\"Recall Table:\")\n",
    "print(recall_df)\n"
   ],
   "metadata": {
    "collapsed": false
   }
  },
  {
   "cell_type": "markdown",
   "source": [
    "# Visualising the performance Based on Accuracy"
   ],
   "metadata": {
    "collapsed": false
   }
  },
  {
   "cell_type": "code",
   "execution_count": 468,
   "outputs": [],
   "source": [
    "# Define a function for visualizing the performance\n",
    "def visualize_performance(title, data_labels, values, xlabel, ylabel):\n",
    "    plt.figure(figsize=(8, 6))\n",
    "    sns.barplot(x=data_labels, y=values)\n",
    "    plt.title(title)\n",
    "    plt.xlabel(xlabel)\n",
    "    plt.ylabel(ylabel)\n",
    "    plt.show()"
   ],
   "metadata": {
    "collapsed": false
   }
  },
  {
   "cell_type": "code",
   "execution_count": 469,
   "outputs": [
    {
     "data": {
      "text/plain": "<Figure size 800x600 with 1 Axes>",
      "image/png": "[encoded data removed]"
     },
     "metadata": {},
     "output_type": "display_data"
    },
    {
     "data": {
      "text/plain": "<Figure size 800x600 with 1 Axes>",
      "image/png": "[encoded data removed]"
     },
     "metadata": {},
     "output_type": "display_data"
    },
    {
     "data": {
      "text/plain": "<Figure size 800x600 with 1 Axes>",
      "image/png": "[encoded data removed]"
     },
     "metadata": {},
     "output_type": "display_data"
    }
   ],
   "source": [
    "import matplotlib.pyplot as plt\n",
    "import seaborn as sns\n",
    "\n",
    "# Visualizing the performance of the classifiers\n",
    "imbalanced_data_labels = ['Decision Tree', 'Logistic Regression', 'Random Forest']\n",
    "imbalanced_values = [decision_tree_accuracy_imbalanced, logistic_regression_accuracy_imbalanced, random_forest_accuracy_imbalanced]\n",
    "visualize_performance(\"Performance of Classifiers on Imbalanced Data\", imbalanced_data_labels, imbalanced_values, \"Classifier\", \"Accuracy\")\n",
    "\n",
    "balanced_under_sampling_data_labels = ['Decision Tree', 'Logistic Regression', 'Random Forest']\n",
    "balanced_under_sampling_values = [decision_tree_accuracy_balanced_under, logistic_regression_accuracy_balanced_under, random_forest_accuracy_balanced_under]\n",
    "visualize_performance(\"Performance of Classifiers on Balanced Data using Random Under-Sampling\", balanced_under_sampling_data_labels, balanced_under_sampling_values, \"Classifier\", \"Accuracy\")\n",
    "\n",
    "balanced_over_sampling_data_labels = ['Decision Tree', 'Logistic Regression', 'Random Forest']\n",
    "balanced_over_sampling_values = [decision_tree_accuracy_balanced_over, logistic_regression_accuracy_balanced_over, random_forest_accuracy_balanced_over]\n",
    "visualize_performance(\"Performance of Classifiers on Balanced Data using Random Over-Sampling\", balanced_over_sampling_data_labels, balanced_over_sampling_values, \"Classifier\", \"Accuracy\")\n"
   ],
   "metadata": {
    "collapsed": false
   }
  },
  {
   "cell_type": "markdown",
   "source": [
    "---"
   ],
   "metadata": {
    "collapsed": false
   }
  },
  {
   "cell_type": "markdown",
   "source": [
    "# Visualising the performance Based on Recall Value"
   ],
   "metadata": {
    "collapsed": false
   }
  },
  {
   "cell_type": "code",
   "execution_count": 470,
   "outputs": [
    {
     "data": {
      "text/plain": "<Figure size 800x600 with 1 Axes>",
      "image/png": "[encoded data removed]"
     },
     "metadata": {},
     "output_type": "display_data"
    },
    {
     "data": {
      "text/plain": "<Figure size 800x600 with 1 Axes>",
      "image/png": "[encoded data removed]"
     },
     "metadata": {},
     "output_type": "display_data"
    },
    {
     "data": {
      "text/plain": "<Figure size 800x600 with 1 Axes>",
      "image/png": "[encoded data removed]"
     },
     "metadata": {},
     "output_type": "display_data"
    }
   ],
   "source": [
    "\n",
    "# Define a function for visualizing the performance based on recall\n",
    "def visualize_recall_performance(title, data_labels, values, xlabel, ylabel):\n",
    "    plt.figure(figsize=(8, 6))\n",
    "    sns.barplot(x=data_labels, y=values)\n",
    "    plt.title(title)\n",
    "    plt.xlabel(xlabel)\n",
    "    plt.ylabel(ylabel)\n",
    "    plt.show()\n",
    "\n",
    "# Visualizing the performance of the classifiers based on recall\n",
    "imbalanced_data_labels = ['Decision Tree', 'Logistic Regression', 'Random Forest']\n",
    "imbalanced_values = [decision_tree_recall_imbalanced, logistic_regression_recall_imbalanced, random_forest_recall_imbalanced]\n",
    "visualize_recall_performance(\"Performance Comparison based on Recall (Imbalanced Data)\", imbalanced_data_labels, imbalanced_values, \"Classifier\", \"Recall\")\n",
    "\n",
    "balanced_under_sampling_data_labels = ['Decision Tree', 'Logistic Regression', 'Random Forest']\n",
    "balanced_under_sampling_values = [decision_tree_recall_balanced_under, logistic_regression_recall_balanced_under, random_forest_recall_balanced_under]\n",
    "visualize_recall_performance(\"Performance Comparison based on Recall (Balanced Data using Random Under-Sampling)\", balanced_under_sampling_data_labels, balanced_under_sampling_values, \"Classifier\", \"Recall\")\n",
    "\n",
    "balanced_over_sampling_data_labels = ['Decision Tree', 'Logistic Regression', 'Random Forest']\n",
    "balanced_over_sampling_values = [decision_tree_recall_balanced_over, logistic_regression_recall_balanced_over, random_forest_recall_balanced_over]\n",
    "visualize_recall_performance(\"Performance Comparison based on Recall (Balanced Data using Random Over-Sampling)\", balanced_over_sampling_data_labels, balanced_over_sampling_values, \"Classifier\", \"Recall\")"
   ],
   "metadata": {
    "collapsed": false
   }
  },
  {
   "cell_type": "markdown",
   "source": [
    "# Standard scalar\n"
   ],
   "metadata": {
    "collapsed": false
   }
  },
  {
   "cell_type": "code",
   "execution_count": 471,
   "id": "e9cd7d97-e40e-4fa6-84aa-c2c776a1a9b6",
   "metadata": {},
   "outputs": [
    {
     "data": {
      "text/plain": "                BMI       Smoking  AlcoholDrinking        Stroke  \\\ncount  63959.000000  63959.000000     63959.000000  63959.000000   \nmean      -0.073576     -0.152352         0.060146     -0.186933   \nstd        0.985786      0.985024         1.108868      0.661871   \nmin       -2.588652     -0.978385        -0.242567     -0.318615   \n25%       -0.738889     -0.978385        -0.242567     -0.318615   \n50%       -0.229624     -0.978385        -0.242567     -0.318615   \n75%        0.389543      1.022093        -0.242567     -0.318615   \nmax       10.223468      1.022093         4.122574      3.138584   \n\n       PhysicalHealth  MentalHealth   DiffWalking           Sex   AgeCategory  \\\ncount    63959.000000  63959.000000  63959.000000  63959.000000  63959.000000   \nmean        -0.197427     -0.031558     -0.239784     -0.101720     -0.368767   \nstd          0.803644      0.939609      0.807821      1.000427      1.055762   \nmin         -0.538799     -0.495897     -0.563868     -1.055025     -2.380454   \n25%         -0.538799     -0.495897     -0.563868     -1.055025     -1.092561   \n50%         -0.538799     -0.495897     -0.563868     -1.055025     -0.214452   \n75%         -0.337510     -0.143971     -0.563868      0.947845      0.370955   \nmax          2.480538      3.023368      1.773466      0.947845      1.249064   \n\n           Diabetic  PhysicalActivity     GenHealth     SleepTime  \\\ncount  63959.000000      63959.000000  63959.000000  63959.000000   \nmean      -0.131937          0.138080      0.325083     -0.017199   \nstd        0.962005          0.922295      0.916049      0.899222   \nmin       -0.476758         -1.578431     -1.950676     -3.817820   \n25%       -0.476758          0.633541     -0.195573     -0.697756   \n50%       -0.476758          0.633541      0.681979     -0.073744   \n75%       -0.476758          0.633541      0.681979      0.550269   \nmax        5.559975          0.633541      1.559530     10.534471   \n\n             Asthma  KidneyDisease    SkinCancer  \ncount  63959.000000   63959.000000  63959.000000  \nmean      -0.053569      -0.148686     -0.116739  \nstd        0.946171       0.710869      0.856865  \nmin       -0.427311      -0.288356     -0.391996  \n25%       -0.427311      -0.288356     -0.391996  \n50%       -0.427311      -0.288356     -0.391996  \n75%       -0.427311      -0.288356     -0.391996  \nmax        2.340213       3.467937      2.551044  ",
      "text/html": "<div>\n<style scoped>\n    .dataframe tbody tr th:only-of-type {\n        vertical-align: middle;\n    }\n\n    .dataframe tbody tr th {\n        vertical-align: top;\n    }\n\n    .dataframe thead th {\n        text-align: right;\n    }\n</style>\n<table border=\"1\" class=\"dataframe\">\n  <thead>\n    <tr style=\"text-align: right;\">\n      <th></th>\n      <th>BMI</th>\n      <th>Smoking</th>\n      <th>AlcoholDrinking</th>\n      <th>Stroke</th>\n      <th>PhysicalHealth</th>\n      <th>MentalHealth</th>\n      <th>DiffWalking</th>\n      <th>Sex</th>\n      <th>AgeCategory</th>\n      <th>Diabetic</th>\n      <th>PhysicalActivity</th>\n      <th>GenHealth</th>\n      <th>SleepTime</th>\n      <th>Asthma</th>\n      <th>KidneyDisease</th>\n      <th>SkinCancer</th>\n    </tr>\n  </thead>\n  <tbody>\n    <tr>\n      <th>count</th>\n      <td>63959.000000</td>\n      <td>63959.000000</td>\n      <td>63959.000000</td>\n      <td>63959.000000</td>\n      <td>63959.000000</td>\n      <td>63959.000000</td>\n      <td>63959.000000</td>\n      <td>63959.000000</td>\n      <td>63959.000000</td>\n      <td>63959.000000</td>\n      <td>63959.000000</td>\n      <td>63959.000000</td>\n      <td>63959.000000</td>\n      <td>63959.000000</td>\n      <td>63959.000000</td>\n      <td>63959.000000</td>\n    </tr>\n    <tr>\n      <th>mean</th>\n      <td>-0.073576</td>\n      <td>-0.152352</td>\n      <td>0.060146</td>\n      <td>-0.186933</td>\n      <td>-0.197427</td>\n      <td>-0.031558</td>\n      <td>-0.239784</td>\n      <td>-0.101720</td>\n      <td>-0.368767</td>\n      <td>-0.131937</td>\n      <td>0.138080</td>\n      <td>0.325083</td>\n      <td>-0.017199</td>\n      <td>-0.053569</td>\n      <td>-0.148686</td>\n      <td>-0.116739</td>\n    </tr>\n    <tr>\n      <th>std</th>\n      <td>0.985786</td>\n      <td>0.985024</td>\n      <td>1.108868</td>\n      <td>0.661871</td>\n      <td>0.803644</td>\n      <td>0.939609</td>\n      <td>0.807821</td>\n      <td>1.000427</td>\n      <td>1.055762</td>\n      <td>0.962005</td>\n      <td>0.922295</td>\n      <td>0.916049</td>\n      <td>0.899222</td>\n      <td>0.946171</td>\n      <td>0.710869</td>\n      <td>0.856865</td>\n    </tr>\n    <tr>\n      <th>min</th>\n      <td>-2.588652</td>\n      <td>-0.978385</td>\n      <td>-0.242567</td>\n      <td>-0.318615</td>\n      <td>-0.538799</td>\n      <td>-0.495897</td>\n      <td>-0.563868</td>\n      <td>-1.055025</td>\n      <td>-2.380454</td>\n      <td>-0.476758</td>\n      <td>-1.578431</td>\n      <td>-1.950676</td>\n      <td>-3.817820</td>\n      <td>-0.427311</td>\n      <td>-0.288356</td>\n      <td>-0.391996</td>\n    </tr>\n    <tr>\n      <th>25%</th>\n      <td>-0.738889</td>\n      <td>-0.978385</td>\n      <td>-0.242567</td>\n      <td>-0.318615</td>\n      <td>-0.538799</td>\n      <td>-0.495897</td>\n      <td>-0.563868</td>\n      <td>-1.055025</td>\n      <td>-1.092561</td>\n      <td>-0.476758</td>\n      <td>0.633541</td>\n      <td>-0.195573</td>\n      <td>-0.697756</td>\n      <td>-0.427311</td>\n      <td>-0.288356</td>\n      <td>-0.391996</td>\n    </tr>\n    <tr>\n      <th>50%</th>\n      <td>-0.229624</td>\n      <td>-0.978385</td>\n      <td>-0.242567</td>\n      <td>-0.318615</td>\n      <td>-0.538799</td>\n      <td>-0.495897</td>\n      <td>-0.563868</td>\n      <td>-1.055025</td>\n      <td>-0.214452</td>\n      <td>-0.476758</td>\n      <td>0.633541</td>\n      <td>0.681979</td>\n      <td>-0.073744</td>\n      <td>-0.427311</td>\n      <td>-0.288356</td>\n      <td>-0.391996</td>\n    </tr>\n    <tr>\n      <th>75%</th>\n      <td>0.389543</td>\n      <td>1.022093</td>\n      <td>-0.242567</td>\n      <td>-0.318615</td>\n      <td>-0.337510</td>\n      <td>-0.143971</td>\n      <td>-0.563868</td>\n      <td>0.947845</td>\n      <td>0.370955</td>\n      <td>-0.476758</td>\n      <td>0.633541</td>\n      <td>0.681979</td>\n      <td>0.550269</td>\n      <td>-0.427311</td>\n      <td>-0.288356</td>\n      <td>-0.391996</td>\n    </tr>\n    <tr>\n      <th>max</th>\n      <td>10.223468</td>\n      <td>1.022093</td>\n      <td>4.122574</td>\n      <td>3.138584</td>\n      <td>2.480538</td>\n      <td>3.023368</td>\n      <td>1.773466</td>\n      <td>0.947845</td>\n      <td>1.249064</td>\n      <td>5.559975</td>\n      <td>0.633541</td>\n      <td>1.559530</td>\n      <td>10.534471</td>\n      <td>2.340213</td>\n      <td>3.467937</td>\n      <td>2.551044</td>\n    </tr>\n  </tbody>\n</table>\n</div>"
     },
     "execution_count": 471,
     "metadata": {},
     "output_type": "execute_result"
    }
   ],
   "source": [
    "# Standardization of numeric data\n",
    "\n",
    "from sklearn.preprocessing import StandardScaler\n",
    "\n",
    "scaler = StandardScaler()\n",
    "scaler.fit(x_res)\n",
    "\n",
    "X_train_scaled = scaler.transform(x_res)\n",
    "X_test_scaled = scaler.transform(x_test)\n",
    "\n",
    "X_train_scaled = pd.DataFrame(data=X_train_scaled, columns=x_res.columns)\n",
    "X_test_scaled = pd.DataFrame(data=X_test_scaled, columns=x_test.columns)\n",
    "X_test_scaled.describe()"
   ]
  }
 ],
 "metadata": {
  "kernelspec": {
   "display_name": "Python 3 (ipykernel)",
   "language": "python",
   "name": "python3"
  },
  "language_info": {
   "codemirror_mode": {
    "name": "ipython",
    "version": 3
   },
   "file_extension": ".py",
   "mimetype": "text/x-python",
   "name": "python",
   "nbconvert_exporter": "python",
   "pygments_lexer": "ipython3",
   "version": "3.9.13"
  }
 },
 "nbformat": 4,
 "nbformat_minor": 5
}
