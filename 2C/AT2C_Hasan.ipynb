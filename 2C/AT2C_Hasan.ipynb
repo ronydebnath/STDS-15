{
 "cells": [
  {
   "cell_type": "markdown",
   "id": "6097c9e8-419e-4c43-bb21-91e064b1c14e",
   "metadata": {
    "tags": []
   },
   "source": [
    "# importing pakages\n"
   ]
  },
  {
   "cell_type": "code",
   "execution_count": 5,
   "id": "0e98dafa-98c6-4908-8e25-71e83046b8d5",
   "metadata": {},
   "outputs": [
    {
     "name": "stdout",
     "output_type": "stream",
     "text": [
      "Collecting mlxtend\r\n",
      "  Downloading mlxtend-0.23.0-py3-none-any.whl (1.4 MB)\r\n",
      "\u001B[2K     \u001B[90m━━━━━━━━━━━━━━━━━━━━━━━━━━━━━━━━━━━━━━━━\u001B[0m \u001B[32m1.4/1.4 MB\u001B[0m \u001B[31m8.0 MB/s\u001B[0m eta \u001B[36m0:00:00\u001B[0ma \u001B[36m0:00:01\u001B[0m\r\n",
      "\u001B[?25hRequirement already satisfied: joblib>=0.13.2 in /Users/rony/opt/anaconda3/lib/python3.9/site-packages (from mlxtend) (1.2.0)\r\n",
      "Requirement already satisfied: matplotlib>=3.0.0 in /Users/rony/opt/anaconda3/lib/python3.9/site-packages (from mlxtend) (3.5.2)\r\n",
      "Requirement already satisfied: pandas>=0.24.2 in /Users/rony/opt/anaconda3/lib/python3.9/site-packages (from mlxtend) (1.4.4)\r\n",
      "Requirement already satisfied: scikit-learn>=1.0.2 in /Users/rony/opt/anaconda3/lib/python3.9/site-packages (from mlxtend) (1.0.2)\r\n",
      "Requirement already satisfied: scipy>=1.2.1 in /Users/rony/opt/anaconda3/lib/python3.9/site-packages (from mlxtend) (1.9.1)\r\n",
      "Requirement already satisfied: numpy>=1.16.2 in /Users/rony/opt/anaconda3/lib/python3.9/site-packages (from mlxtend) (1.21.6)\r\n",
      "Requirement already satisfied: pyparsing>=2.2.1 in /Users/rony/opt/anaconda3/lib/python3.9/site-packages (from matplotlib>=3.0.0->mlxtend) (3.0.9)\r\n",
      "Requirement already satisfied: pillow>=6.2.0 in /Users/rony/opt/anaconda3/lib/python3.9/site-packages (from matplotlib>=3.0.0->mlxtend) (9.2.0)\r\n",
      "Requirement already satisfied: fonttools>=4.22.0 in /Users/rony/opt/anaconda3/lib/python3.9/site-packages (from matplotlib>=3.0.0->mlxtend) (4.25.0)\r\n",
      "Requirement already satisfied: packaging>=20.0 in /Users/rony/opt/anaconda3/lib/python3.9/site-packages (from matplotlib>=3.0.0->mlxtend) (21.3)\r\n",
      "Requirement already satisfied: cycler>=0.10 in /Users/rony/opt/anaconda3/lib/python3.9/site-packages (from matplotlib>=3.0.0->mlxtend) (0.11.0)\r\n",
      "Requirement already satisfied: python-dateutil>=2.7 in /Users/rony/opt/anaconda3/lib/python3.9/site-packages (from matplotlib>=3.0.0->mlxtend) (2.8.2)\r\n",
      "Requirement already satisfied: kiwisolver>=1.0.1 in /Users/rony/opt/anaconda3/lib/python3.9/site-packages (from matplotlib>=3.0.0->mlxtend) (1.4.2)\r\n",
      "Requirement already satisfied: pytz>=2020.1 in /Users/rony/opt/anaconda3/lib/python3.9/site-packages (from pandas>=0.24.2->mlxtend) (2022.1)\r\n",
      "Requirement already satisfied: threadpoolctl>=2.0.0 in /Users/rony/opt/anaconda3/lib/python3.9/site-packages (from scikit-learn>=1.0.2->mlxtend) (2.2.0)\r\n",
      "Requirement already satisfied: six>=1.5 in /Users/rony/opt/anaconda3/lib/python3.9/site-packages (from python-dateutil>=2.7->matplotlib>=3.0.0->mlxtend) (1.16.0)\r\n",
      "Installing collected packages: mlxtend\r\n",
      "Successfully installed mlxtend-0.23.0\r\n"
     ]
    }
   ],
   "source": [
    "import pandas as pd\n",
    "import numpy as np\n",
    "import altair as alt\n",
    "import seaborn as sns\n",
    "import matplotlib.pyplot as plt\n",
    "\n",
    "from sklearn.metrics import confusion_matrix , classification_report\n",
    "!pip install mlxtend\n",
    "from mlxtend.plotting import plot_confusion_matrix\n",
    "from sklearn.model_selection import KFold , cross_val_score\n",
    "from sklearn.model_selection import GridSearchCV"
   ]
  },
  {
   "cell_type": "markdown",
   "id": "5f72cdcc-ea61-4774-b869-71eac944b266",
   "metadata": {},
   "source": [
    "# loading the dataset\n"
   ]
  },
  {
   "cell_type": "code",
   "execution_count": 6,
   "id": "2862c70c-b276-47e6-aabc-a000446e88cc",
   "metadata": {},
   "outputs": [],
   "source": [
    "url = \"https://raw.githubusercontent.com/ronydebnath/STDS-15/main/Dataset/heart_2020_cleaned.csv?token=GHSAT0AAAAAACHSU2OQOR67NPLGHE3UPBIIZIJGDTA\"\n",
    "df = pd.read_csv(url)"
   ]
  },
  {
   "cell_type": "markdown",
   "id": "2b3d8655-1eae-45a6-b677-98c52492270c",
   "metadata": {},
   "source": [
    "# genral info about the dataset\n"
   ]
  },
  {
   "cell_type": "code",
   "execution_count": 7,
   "id": "9a5e2e18-32fd-469a-9d8b-27fec8642e78",
   "metadata": {},
   "outputs": [
    {
     "data": {
      "text/plain": "  HeartDisease    BMI Smoking AlcoholDrinking Stroke  PhysicalHealth  \\\n0           No  16.60     Yes              No     No             3.0   \n1           No  20.34      No              No    Yes             0.0   \n2           No  26.58     Yes              No     No            20.0   \n3           No  24.21      No              No     No             0.0   \n4           No  23.71      No              No     No            28.0   \n\n   MentalHealth DiffWalking     Sex  AgeCategory   Race Diabetic  \\\n0          30.0          No  Female        55-59  White      Yes   \n1           0.0          No  Female  80 or older  White       No   \n2          30.0          No    Male        65-69  White      Yes   \n3           0.0          No  Female        75-79  White       No   \n4           0.0         Yes  Female        40-44  White       No   \n\n  PhysicalActivity  GenHealth  SleepTime Asthma KidneyDisease SkinCancer  \n0              Yes  Very good        5.0    Yes            No        Yes  \n1              Yes  Very good        7.0     No            No         No  \n2              Yes       Fair        8.0    Yes            No         No  \n3               No       Good        6.0     No            No        Yes  \n4              Yes  Very good        8.0     No            No         No  ",
      "text/html": "<div>\n<style scoped>\n    .dataframe tbody tr th:only-of-type {\n        vertical-align: middle;\n    }\n\n    .dataframe tbody tr th {\n        vertical-align: top;\n    }\n\n    .dataframe thead th {\n        text-align: right;\n    }\n</style>\n<table border=\"1\" class=\"dataframe\">\n  <thead>\n    <tr style=\"text-align: right;\">\n      <th></th>\n      <th>HeartDisease</th>\n      <th>BMI</th>\n      <th>Smoking</th>\n      <th>AlcoholDrinking</th>\n      <th>Stroke</th>\n      <th>PhysicalHealth</th>\n      <th>MentalHealth</th>\n      <th>DiffWalking</th>\n      <th>Sex</th>\n      <th>AgeCategory</th>\n      <th>Race</th>\n      <th>Diabetic</th>\n      <th>PhysicalActivity</th>\n      <th>GenHealth</th>\n      <th>SleepTime</th>\n      <th>Asthma</th>\n      <th>KidneyDisease</th>\n      <th>SkinCancer</th>\n    </tr>\n  </thead>\n  <tbody>\n    <tr>\n      <th>0</th>\n      <td>No</td>\n      <td>16.60</td>\n      <td>Yes</td>\n      <td>No</td>\n      <td>No</td>\n      <td>3.0</td>\n      <td>30.0</td>\n      <td>No</td>\n      <td>Female</td>\n      <td>55-59</td>\n      <td>White</td>\n      <td>Yes</td>\n      <td>Yes</td>\n      <td>Very good</td>\n      <td>5.0</td>\n      <td>Yes</td>\n      <td>No</td>\n      <td>Yes</td>\n    </tr>\n    <tr>\n      <th>1</th>\n      <td>No</td>\n      <td>20.34</td>\n      <td>No</td>\n      <td>No</td>\n      <td>Yes</td>\n      <td>0.0</td>\n      <td>0.0</td>\n      <td>No</td>\n      <td>Female</td>\n      <td>80 or older</td>\n      <td>White</td>\n      <td>No</td>\n      <td>Yes</td>\n      <td>Very good</td>\n      <td>7.0</td>\n      <td>No</td>\n      <td>No</td>\n      <td>No</td>\n    </tr>\n    <tr>\n      <th>2</th>\n      <td>No</td>\n      <td>26.58</td>\n      <td>Yes</td>\n      <td>No</td>\n      <td>No</td>\n      <td>20.0</td>\n      <td>30.0</td>\n      <td>No</td>\n      <td>Male</td>\n      <td>65-69</td>\n      <td>White</td>\n      <td>Yes</td>\n      <td>Yes</td>\n      <td>Fair</td>\n      <td>8.0</td>\n      <td>Yes</td>\n      <td>No</td>\n      <td>No</td>\n    </tr>\n    <tr>\n      <th>3</th>\n      <td>No</td>\n      <td>24.21</td>\n      <td>No</td>\n      <td>No</td>\n      <td>No</td>\n      <td>0.0</td>\n      <td>0.0</td>\n      <td>No</td>\n      <td>Female</td>\n      <td>75-79</td>\n      <td>White</td>\n      <td>No</td>\n      <td>No</td>\n      <td>Good</td>\n      <td>6.0</td>\n      <td>No</td>\n      <td>No</td>\n      <td>Yes</td>\n    </tr>\n    <tr>\n      <th>4</th>\n      <td>No</td>\n      <td>23.71</td>\n      <td>No</td>\n      <td>No</td>\n      <td>No</td>\n      <td>28.0</td>\n      <td>0.0</td>\n      <td>Yes</td>\n      <td>Female</td>\n      <td>40-44</td>\n      <td>White</td>\n      <td>No</td>\n      <td>Yes</td>\n      <td>Very good</td>\n      <td>8.0</td>\n      <td>No</td>\n      <td>No</td>\n      <td>No</td>\n    </tr>\n  </tbody>\n</table>\n</div>"
     },
     "execution_count": 7,
     "metadata": {},
     "output_type": "execute_result"
    }
   ],
   "source": [
    "df.head()\n"
   ]
  },
  {
   "cell_type": "code",
   "execution_count": 8,
   "id": "67e0097a-82b9-49e8-851d-d0f4867e40d7",
   "metadata": {},
   "outputs": [
    {
     "data": {
      "text/plain": "(319795, 18)"
     },
     "execution_count": 8,
     "metadata": {},
     "output_type": "execute_result"
    }
   ],
   "source": [
    "df.shape"
   ]
  },
  {
   "cell_type": "code",
   "execution_count": 9,
   "id": "c9c55bce-ecab-4e0a-b81a-17a6d3d7abcb",
   "metadata": {},
   "outputs": [
    {
     "name": "stdout",
     "output_type": "stream",
     "text": [
      "<class 'pandas.core.frame.DataFrame'>\n",
      "RangeIndex: 319795 entries, 0 to 319794\n",
      "Data columns (total 18 columns):\n",
      " #   Column            Non-Null Count   Dtype  \n",
      "---  ------            --------------   -----  \n",
      " 0   HeartDisease      319795 non-null  object \n",
      " 1   BMI               319795 non-null  float64\n",
      " 2   Smoking           319795 non-null  object \n",
      " 3   AlcoholDrinking   319795 non-null  object \n",
      " 4   Stroke            319795 non-null  object \n",
      " 5   PhysicalHealth    319795 non-null  float64\n",
      " 6   MentalHealth      319795 non-null  float64\n",
      " 7   DiffWalking       319795 non-null  object \n",
      " 8   Sex               319795 non-null  object \n",
      " 9   AgeCategory       319795 non-null  object \n",
      " 10  Race              319795 non-null  object \n",
      " 11  Diabetic          319795 non-null  object \n",
      " 12  PhysicalActivity  319795 non-null  object \n",
      " 13  GenHealth         319795 non-null  object \n",
      " 14  SleepTime         319795 non-null  float64\n",
      " 15  Asthma            319795 non-null  object \n",
      " 16  KidneyDisease     319795 non-null  object \n",
      " 17  SkinCancer        319795 non-null  object \n",
      "dtypes: float64(4), object(14)\n",
      "memory usage: 43.9+ MB\n"
     ]
    }
   ],
   "source": [
    "df.info()"
   ]
  },
  {
   "cell_type": "markdown",
   "id": "820edd33-11c3-468e-b3d6-8759396b1eb7",
   "metadata": {},
   "source": [
    "there is no null object in our dataset"
   ]
  },
  {
   "cell_type": "code",
   "execution_count": 10,
   "id": "940658e1-e554-44bf-96cb-0cb64bbf4246",
   "metadata": {},
   "outputs": [
    {
     "data": {
      "text/plain": "18078"
     },
     "execution_count": 10,
     "metadata": {},
     "output_type": "execute_result"
    }
   ],
   "source": [
    "# cheking the duplicate\n",
    "df.duplicated().sum()"
   ]
  },
  {
   "cell_type": "code",
   "execution_count": 11,
   "id": "5ff9b8b5-09bb-42ac-9709-83e9e621fbce",
   "metadata": {
    "scrolled": true
   },
   "outputs": [
    {
     "data": {
      "text/plain": "                 BMI  PhysicalHealth   MentalHealth      SleepTime\ncount  319795.000000    319795.00000  319795.000000  319795.000000\nmean       28.325399         3.37171       3.898366       7.097075\nstd         6.356100         7.95085       7.955235       1.436007\nmin        12.020000         0.00000       0.000000       1.000000\n25%        24.030000         0.00000       0.000000       6.000000\n50%        27.340000         0.00000       0.000000       7.000000\n75%        31.420000         2.00000       3.000000       8.000000\nmax        94.850000        30.00000      30.000000      24.000000",
      "text/html": "<div>\n<style scoped>\n    .dataframe tbody tr th:only-of-type {\n        vertical-align: middle;\n    }\n\n    .dataframe tbody tr th {\n        vertical-align: top;\n    }\n\n    .dataframe thead th {\n        text-align: right;\n    }\n</style>\n<table border=\"1\" class=\"dataframe\">\n  <thead>\n    <tr style=\"text-align: right;\">\n      <th></th>\n      <th>BMI</th>\n      <th>PhysicalHealth</th>\n      <th>MentalHealth</th>\n      <th>SleepTime</th>\n    </tr>\n  </thead>\n  <tbody>\n    <tr>\n      <th>count</th>\n      <td>319795.000000</td>\n      <td>319795.00000</td>\n      <td>319795.000000</td>\n      <td>319795.000000</td>\n    </tr>\n    <tr>\n      <th>mean</th>\n      <td>28.325399</td>\n      <td>3.37171</td>\n      <td>3.898366</td>\n      <td>7.097075</td>\n    </tr>\n    <tr>\n      <th>std</th>\n      <td>6.356100</td>\n      <td>7.95085</td>\n      <td>7.955235</td>\n      <td>1.436007</td>\n    </tr>\n    <tr>\n      <th>min</th>\n      <td>12.020000</td>\n      <td>0.00000</td>\n      <td>0.000000</td>\n      <td>1.000000</td>\n    </tr>\n    <tr>\n      <th>25%</th>\n      <td>24.030000</td>\n      <td>0.00000</td>\n      <td>0.000000</td>\n      <td>6.000000</td>\n    </tr>\n    <tr>\n      <th>50%</th>\n      <td>27.340000</td>\n      <td>0.00000</td>\n      <td>0.000000</td>\n      <td>7.000000</td>\n    </tr>\n    <tr>\n      <th>75%</th>\n      <td>31.420000</td>\n      <td>2.00000</td>\n      <td>3.000000</td>\n      <td>8.000000</td>\n    </tr>\n    <tr>\n      <th>max</th>\n      <td>94.850000</td>\n      <td>30.00000</td>\n      <td>30.000000</td>\n      <td>24.000000</td>\n    </tr>\n  </tbody>\n</table>\n</div>"
     },
     "execution_count": 11,
     "metadata": {},
     "output_type": "execute_result"
    }
   ],
   "source": [
    "# genral discription about our dataset\n",
    "df.describe()"
   ]
  },
  {
   "cell_type": "code",
   "execution_count": 12,
   "id": "3c5bda33-377c-44f8-b4c4-d5456db2f1b7",
   "metadata": {},
   "outputs": [
    {
     "data": {
      "text/plain": "65-69          34151\n60-64          33686\n70-74          31065\n55-59          29757\n50-54          25382\n80 or older    24153\n45-49          21791\n75-79          21482\n18-24          21064\n40-44          21006\n35-39          20550\n30-34          18753\n25-29          16955\nName: AgeCategory, dtype: int64"
     },
     "execution_count": 12,
     "metadata": {},
     "output_type": "execute_result"
    }
   ],
   "source": [
    "df['AgeCategory'].value_counts()\n"
   ]
  },
  {
   "cell_type": "markdown",
   "id": "5ef09b33-157e-442a-8e0c-3e6c5cf2ec21",
   "metadata": {},
   "source": [
    "# changing values(yes,no)into numeric values 0,1"
   ]
  },
  {
   "cell_type": "code",
   "execution_count": 13,
   "id": "cf8483f7-d6d3-481f-bc5c-45f1fd7c5309",
   "metadata": {},
   "outputs": [],
   "source": [
    "df['AgeCategory'] = df['AgeCategory'].str[:2]\n"
   ]
  },
  {
   "cell_type": "code",
   "execution_count": 14,
   "id": "50158469-b1fb-488f-ba48-6615d0bb191d",
   "metadata": {},
   "outputs": [
    {
     "data": {
      "text/plain": "       HeartDisease    BMI Smoking AlcoholDrinking Stroke  PhysicalHealth  \\\n0                 0  16.60       1               0      0             3.0   \n1                 0  20.34       0               0      1             0.0   \n2                 0  26.58       1               0      0            20.0   \n3                 0  24.21       0               0      0             0.0   \n4                 0  23.71       0               0      0            28.0   \n...             ...    ...     ...             ...    ...             ...   \n319790            1  27.41       1               0      0             7.0   \n319791            0  29.84       1               0      0             0.0   \n319792            0  24.24       0               0      0             0.0   \n319793            0  32.81       0               0      0             0.0   \n319794            0  46.56       0               0      0             0.0   \n\n        MentalHealth DiffWalking Sex AgeCategory      Race Diabetic  \\\n0               30.0           0   0          55     White        1   \n1                0.0           0   0          80     White        0   \n2               30.0           0   1          65     White        1   \n3                0.0           0   0          75     White        0   \n4                0.0           1   0          40     White        0   \n...              ...         ...  ..         ...       ...      ...   \n319790           0.0           1   1          60  Hispanic        1   \n319791           0.0           0   1          35  Hispanic        0   \n319792           0.0           0   0          45  Hispanic        0   \n319793           0.0           0   0          25  Hispanic        0   \n319794           0.0           0   0          80  Hispanic        0   \n\n       PhysicalActivity  GenHealth  SleepTime Asthma KidneyDisease SkinCancer  \n0                     1  Very good        5.0      1             0          1  \n1                     1  Very good        7.0      0             0          0  \n2                     1       Fair        8.0      1             0          0  \n3                     0       Good        6.0      0             0          1  \n4                     1  Very good        8.0      0             0          0  \n...                 ...        ...        ...    ...           ...        ...  \n319790                0       Fair        6.0      1             0          0  \n319791                1  Very good        5.0      1             0          0  \n319792                1       Good        6.0      0             0          0  \n319793                0       Good       12.0      0             0          0  \n319794                1       Good        8.0      0             0          0  \n\n[319795 rows x 18 columns]",
      "text/html": "<div>\n<style scoped>\n    .dataframe tbody tr th:only-of-type {\n        vertical-align: middle;\n    }\n\n    .dataframe tbody tr th {\n        vertical-align: top;\n    }\n\n    .dataframe thead th {\n        text-align: right;\n    }\n</style>\n<table border=\"1\" class=\"dataframe\">\n  <thead>\n    <tr style=\"text-align: right;\">\n      <th></th>\n      <th>HeartDisease</th>\n      <th>BMI</th>\n      <th>Smoking</th>\n      <th>AlcoholDrinking</th>\n      <th>Stroke</th>\n      <th>PhysicalHealth</th>\n      <th>MentalHealth</th>\n      <th>DiffWalking</th>\n      <th>Sex</th>\n      <th>AgeCategory</th>\n      <th>Race</th>\n      <th>Diabetic</th>\n      <th>PhysicalActivity</th>\n      <th>GenHealth</th>\n      <th>SleepTime</th>\n      <th>Asthma</th>\n      <th>KidneyDisease</th>\n      <th>SkinCancer</th>\n    </tr>\n  </thead>\n  <tbody>\n    <tr>\n      <th>0</th>\n      <td>0</td>\n      <td>16.60</td>\n      <td>1</td>\n      <td>0</td>\n      <td>0</td>\n      <td>3.0</td>\n      <td>30.0</td>\n      <td>0</td>\n      <td>0</td>\n      <td>55</td>\n      <td>White</td>\n      <td>1</td>\n      <td>1</td>\n      <td>Very good</td>\n      <td>5.0</td>\n      <td>1</td>\n      <td>0</td>\n      <td>1</td>\n    </tr>\n    <tr>\n      <th>1</th>\n      <td>0</td>\n      <td>20.34</td>\n      <td>0</td>\n      <td>0</td>\n      <td>1</td>\n      <td>0.0</td>\n      <td>0.0</td>\n      <td>0</td>\n      <td>0</td>\n      <td>80</td>\n      <td>White</td>\n      <td>0</td>\n      <td>1</td>\n      <td>Very good</td>\n      <td>7.0</td>\n      <td>0</td>\n      <td>0</td>\n      <td>0</td>\n    </tr>\n    <tr>\n      <th>2</th>\n      <td>0</td>\n      <td>26.58</td>\n      <td>1</td>\n      <td>0</td>\n      <td>0</td>\n      <td>20.0</td>\n      <td>30.0</td>\n      <td>0</td>\n      <td>1</td>\n      <td>65</td>\n      <td>White</td>\n      <td>1</td>\n      <td>1</td>\n      <td>Fair</td>\n      <td>8.0</td>\n      <td>1</td>\n      <td>0</td>\n      <td>0</td>\n    </tr>\n    <tr>\n      <th>3</th>\n      <td>0</td>\n      <td>24.21</td>\n      <td>0</td>\n      <td>0</td>\n      <td>0</td>\n      <td>0.0</td>\n      <td>0.0</td>\n      <td>0</td>\n      <td>0</td>\n      <td>75</td>\n      <td>White</td>\n      <td>0</td>\n      <td>0</td>\n      <td>Good</td>\n      <td>6.0</td>\n      <td>0</td>\n      <td>0</td>\n      <td>1</td>\n    </tr>\n    <tr>\n      <th>4</th>\n      <td>0</td>\n      <td>23.71</td>\n      <td>0</td>\n      <td>0</td>\n      <td>0</td>\n      <td>28.0</td>\n      <td>0.0</td>\n      <td>1</td>\n      <td>0</td>\n      <td>40</td>\n      <td>White</td>\n      <td>0</td>\n      <td>1</td>\n      <td>Very good</td>\n      <td>8.0</td>\n      <td>0</td>\n      <td>0</td>\n      <td>0</td>\n    </tr>\n    <tr>\n      <th>...</th>\n      <td>...</td>\n      <td>...</td>\n      <td>...</td>\n      <td>...</td>\n      <td>...</td>\n      <td>...</td>\n      <td>...</td>\n      <td>...</td>\n      <td>...</td>\n      <td>...</td>\n      <td>...</td>\n      <td>...</td>\n      <td>...</td>\n      <td>...</td>\n      <td>...</td>\n      <td>...</td>\n      <td>...</td>\n      <td>...</td>\n    </tr>\n    <tr>\n      <th>319790</th>\n      <td>1</td>\n      <td>27.41</td>\n      <td>1</td>\n      <td>0</td>\n      <td>0</td>\n      <td>7.0</td>\n      <td>0.0</td>\n      <td>1</td>\n      <td>1</td>\n      <td>60</td>\n      <td>Hispanic</td>\n      <td>1</td>\n      <td>0</td>\n      <td>Fair</td>\n      <td>6.0</td>\n      <td>1</td>\n      <td>0</td>\n      <td>0</td>\n    </tr>\n    <tr>\n      <th>319791</th>\n      <td>0</td>\n      <td>29.84</td>\n      <td>1</td>\n      <td>0</td>\n      <td>0</td>\n      <td>0.0</td>\n      <td>0.0</td>\n      <td>0</td>\n      <td>1</td>\n      <td>35</td>\n      <td>Hispanic</td>\n      <td>0</td>\n      <td>1</td>\n      <td>Very good</td>\n      <td>5.0</td>\n      <td>1</td>\n      <td>0</td>\n      <td>0</td>\n    </tr>\n    <tr>\n      <th>319792</th>\n      <td>0</td>\n      <td>24.24</td>\n      <td>0</td>\n      <td>0</td>\n      <td>0</td>\n      <td>0.0</td>\n      <td>0.0</td>\n      <td>0</td>\n      <td>0</td>\n      <td>45</td>\n      <td>Hispanic</td>\n      <td>0</td>\n      <td>1</td>\n      <td>Good</td>\n      <td>6.0</td>\n      <td>0</td>\n      <td>0</td>\n      <td>0</td>\n    </tr>\n    <tr>\n      <th>319793</th>\n      <td>0</td>\n      <td>32.81</td>\n      <td>0</td>\n      <td>0</td>\n      <td>0</td>\n      <td>0.0</td>\n      <td>0.0</td>\n      <td>0</td>\n      <td>0</td>\n      <td>25</td>\n      <td>Hispanic</td>\n      <td>0</td>\n      <td>0</td>\n      <td>Good</td>\n      <td>12.0</td>\n      <td>0</td>\n      <td>0</td>\n      <td>0</td>\n    </tr>\n    <tr>\n      <th>319794</th>\n      <td>0</td>\n      <td>46.56</td>\n      <td>0</td>\n      <td>0</td>\n      <td>0</td>\n      <td>0.0</td>\n      <td>0.0</td>\n      <td>0</td>\n      <td>0</td>\n      <td>80</td>\n      <td>Hispanic</td>\n      <td>0</td>\n      <td>1</td>\n      <td>Good</td>\n      <td>8.0</td>\n      <td>0</td>\n      <td>0</td>\n      <td>0</td>\n    </tr>\n  </tbody>\n</table>\n<p>319795 rows × 18 columns</p>\n</div>"
     },
     "execution_count": 14,
     "metadata": {},
     "output_type": "execute_result"
    }
   ],
   "source": [
    "df=df.replace('No','0')\n",
    "df= df.replace('Yes','1')\n",
    "df=df.replace('Female','0')\n",
    "df= df.replace('Male','1')\n",
    "df"
   ]
  },
  {
   "cell_type": "markdown",
   "id": "f64443bc-8ac6-4121-b7f3-91b9389f644a",
   "metadata": {},
   "source": [
    "# changing genral health inot numeric values "
   ]
  },
  {
   "cell_type": "code",
   "execution_count": 15,
   "id": "0f25f698-fa0c-4d28-82da-97504db67511",
   "metadata": {},
   "outputs": [],
   "source": [
    "df['GenHealth']=df['GenHealth'].replace('Poor','0')\n",
    "df['GenHealth']=df['GenHealth'].replace('Fair','1')\n",
    "df['GenHealth']=df['GenHealth'].replace('Good','2')\n",
    "df['GenHealth']=df['GenHealth'].replace('Very good','3')\n",
    "df['GenHealth']=df['GenHealth'].replace('Excellent','4')"
   ]
  },
  {
   "cell_type": "code",
   "execution_count": 16,
   "id": "848001bf-df75-46b9-9ec8-6944fa0b8bb0",
   "metadata": {},
   "outputs": [],
   "source": [
    "df[\"Diabetic\"]=df['Diabetic'].replace('No, borderline diabetes','3')\n",
    "df[\"Diabetic\"]=df['Diabetic'].replace('Yes (during pregnancy)','4')"
   ]
  },
  {
   "cell_type": "code",
   "execution_count": 17,
   "id": "22e1dbe0-b1be-4c07-8717-33898d273ea7",
   "metadata": {},
   "outputs": [
    {
     "data": {
      "text/plain": "       HeartDisease    BMI Smoking AlcoholDrinking Stroke  PhysicalHealth  \\\n0                 0  16.60       1               0      0             3.0   \n1                 0  20.34       0               0      1             0.0   \n2                 0  26.58       1               0      0            20.0   \n3                 0  24.21       0               0      0             0.0   \n4                 0  23.71       0               0      0            28.0   \n...             ...    ...     ...             ...    ...             ...   \n319790            1  27.41       1               0      0             7.0   \n319791            0  29.84       1               0      0             0.0   \n319792            0  24.24       0               0      0             0.0   \n319793            0  32.81       0               0      0             0.0   \n319794            0  46.56       0               0      0             0.0   \n\n        MentalHealth DiffWalking Sex AgeCategory      Race Diabetic  \\\n0               30.0           0   0          55     White        1   \n1                0.0           0   0          80     White        0   \n2               30.0           0   1          65     White        1   \n3                0.0           0   0          75     White        0   \n4                0.0           1   0          40     White        0   \n...              ...         ...  ..         ...       ...      ...   \n319790           0.0           1   1          60  Hispanic        1   \n319791           0.0           0   1          35  Hispanic        0   \n319792           0.0           0   0          45  Hispanic        0   \n319793           0.0           0   0          25  Hispanic        0   \n319794           0.0           0   0          80  Hispanic        0   \n\n       PhysicalActivity GenHealth  SleepTime Asthma KidneyDisease SkinCancer  \n0                     1         3        5.0      1             0          1  \n1                     1         3        7.0      0             0          0  \n2                     1         1        8.0      1             0          0  \n3                     0         2        6.0      0             0          1  \n4                     1         3        8.0      0             0          0  \n...                 ...       ...        ...    ...           ...        ...  \n319790                0         1        6.0      1             0          0  \n319791                1         3        5.0      1             0          0  \n319792                1         2        6.0      0             0          0  \n319793                0         2       12.0      0             0          0  \n319794                1         2        8.0      0             0          0  \n\n[319795 rows x 18 columns]",
      "text/html": "<div>\n<style scoped>\n    .dataframe tbody tr th:only-of-type {\n        vertical-align: middle;\n    }\n\n    .dataframe tbody tr th {\n        vertical-align: top;\n    }\n\n    .dataframe thead th {\n        text-align: right;\n    }\n</style>\n<table border=\"1\" class=\"dataframe\">\n  <thead>\n    <tr style=\"text-align: right;\">\n      <th></th>\n      <th>HeartDisease</th>\n      <th>BMI</th>\n      <th>Smoking</th>\n      <th>AlcoholDrinking</th>\n      <th>Stroke</th>\n      <th>PhysicalHealth</th>\n      <th>MentalHealth</th>\n      <th>DiffWalking</th>\n      <th>Sex</th>\n      <th>AgeCategory</th>\n      <th>Race</th>\n      <th>Diabetic</th>\n      <th>PhysicalActivity</th>\n      <th>GenHealth</th>\n      <th>SleepTime</th>\n      <th>Asthma</th>\n      <th>KidneyDisease</th>\n      <th>SkinCancer</th>\n    </tr>\n  </thead>\n  <tbody>\n    <tr>\n      <th>0</th>\n      <td>0</td>\n      <td>16.60</td>\n      <td>1</td>\n      <td>0</td>\n      <td>0</td>\n      <td>3.0</td>\n      <td>30.0</td>\n      <td>0</td>\n      <td>0</td>\n      <td>55</td>\n      <td>White</td>\n      <td>1</td>\n      <td>1</td>\n      <td>3</td>\n      <td>5.0</td>\n      <td>1</td>\n      <td>0</td>\n      <td>1</td>\n    </tr>\n    <tr>\n      <th>1</th>\n      <td>0</td>\n      <td>20.34</td>\n      <td>0</td>\n      <td>0</td>\n      <td>1</td>\n      <td>0.0</td>\n      <td>0.0</td>\n      <td>0</td>\n      <td>0</td>\n      <td>80</td>\n      <td>White</td>\n      <td>0</td>\n      <td>1</td>\n      <td>3</td>\n      <td>7.0</td>\n      <td>0</td>\n      <td>0</td>\n      <td>0</td>\n    </tr>\n    <tr>\n      <th>2</th>\n      <td>0</td>\n      <td>26.58</td>\n      <td>1</td>\n      <td>0</td>\n      <td>0</td>\n      <td>20.0</td>\n      <td>30.0</td>\n      <td>0</td>\n      <td>1</td>\n      <td>65</td>\n      <td>White</td>\n      <td>1</td>\n      <td>1</td>\n      <td>1</td>\n      <td>8.0</td>\n      <td>1</td>\n      <td>0</td>\n      <td>0</td>\n    </tr>\n    <tr>\n      <th>3</th>\n      <td>0</td>\n      <td>24.21</td>\n      <td>0</td>\n      <td>0</td>\n      <td>0</td>\n      <td>0.0</td>\n      <td>0.0</td>\n      <td>0</td>\n      <td>0</td>\n      <td>75</td>\n      <td>White</td>\n      <td>0</td>\n      <td>0</td>\n      <td>2</td>\n      <td>6.0</td>\n      <td>0</td>\n      <td>0</td>\n      <td>1</td>\n    </tr>\n    <tr>\n      <th>4</th>\n      <td>0</td>\n      <td>23.71</td>\n      <td>0</td>\n      <td>0</td>\n      <td>0</td>\n      <td>28.0</td>\n      <td>0.0</td>\n      <td>1</td>\n      <td>0</td>\n      <td>40</td>\n      <td>White</td>\n      <td>0</td>\n      <td>1</td>\n      <td>3</td>\n      <td>8.0</td>\n      <td>0</td>\n      <td>0</td>\n      <td>0</td>\n    </tr>\n    <tr>\n      <th>...</th>\n      <td>...</td>\n      <td>...</td>\n      <td>...</td>\n      <td>...</td>\n      <td>...</td>\n      <td>...</td>\n      <td>...</td>\n      <td>...</td>\n      <td>...</td>\n      <td>...</td>\n      <td>...</td>\n      <td>...</td>\n      <td>...</td>\n      <td>...</td>\n      <td>...</td>\n      <td>...</td>\n      <td>...</td>\n      <td>...</td>\n    </tr>\n    <tr>\n      <th>319790</th>\n      <td>1</td>\n      <td>27.41</td>\n      <td>1</td>\n      <td>0</td>\n      <td>0</td>\n      <td>7.0</td>\n      <td>0.0</td>\n      <td>1</td>\n      <td>1</td>\n      <td>60</td>\n      <td>Hispanic</td>\n      <td>1</td>\n      <td>0</td>\n      <td>1</td>\n      <td>6.0</td>\n      <td>1</td>\n      <td>0</td>\n      <td>0</td>\n    </tr>\n    <tr>\n      <th>319791</th>\n      <td>0</td>\n      <td>29.84</td>\n      <td>1</td>\n      <td>0</td>\n      <td>0</td>\n      <td>0.0</td>\n      <td>0.0</td>\n      <td>0</td>\n      <td>1</td>\n      <td>35</td>\n      <td>Hispanic</td>\n      <td>0</td>\n      <td>1</td>\n      <td>3</td>\n      <td>5.0</td>\n      <td>1</td>\n      <td>0</td>\n      <td>0</td>\n    </tr>\n    <tr>\n      <th>319792</th>\n      <td>0</td>\n      <td>24.24</td>\n      <td>0</td>\n      <td>0</td>\n      <td>0</td>\n      <td>0.0</td>\n      <td>0.0</td>\n      <td>0</td>\n      <td>0</td>\n      <td>45</td>\n      <td>Hispanic</td>\n      <td>0</td>\n      <td>1</td>\n      <td>2</td>\n      <td>6.0</td>\n      <td>0</td>\n      <td>0</td>\n      <td>0</td>\n    </tr>\n    <tr>\n      <th>319793</th>\n      <td>0</td>\n      <td>32.81</td>\n      <td>0</td>\n      <td>0</td>\n      <td>0</td>\n      <td>0.0</td>\n      <td>0.0</td>\n      <td>0</td>\n      <td>0</td>\n      <td>25</td>\n      <td>Hispanic</td>\n      <td>0</td>\n      <td>0</td>\n      <td>2</td>\n      <td>12.0</td>\n      <td>0</td>\n      <td>0</td>\n      <td>0</td>\n    </tr>\n    <tr>\n      <th>319794</th>\n      <td>0</td>\n      <td>46.56</td>\n      <td>0</td>\n      <td>0</td>\n      <td>0</td>\n      <td>0.0</td>\n      <td>0.0</td>\n      <td>0</td>\n      <td>0</td>\n      <td>80</td>\n      <td>Hispanic</td>\n      <td>0</td>\n      <td>1</td>\n      <td>2</td>\n      <td>8.0</td>\n      <td>0</td>\n      <td>0</td>\n      <td>0</td>\n    </tr>\n  </tbody>\n</table>\n<p>319795 rows × 18 columns</p>\n</div>"
     },
     "execution_count": 17,
     "metadata": {},
     "output_type": "execute_result"
    }
   ],
   "source": [
    "df"
   ]
  },
  {
   "cell_type": "code",
   "execution_count": 18,
   "id": "c09f6285-77a4-4876-aa49-9a45a1588677",
   "metadata": {},
   "outputs": [],
   "source": [
    "x = df.drop(['HeartDisease','Race'],axis = 1)\n"
   ]
  },
  {
   "cell_type": "code",
   "execution_count": 19,
   "id": "74a421f3-0b0e-4f98-868f-05dd7acd0779",
   "metadata": {},
   "outputs": [],
   "source": [
    "y = df['HeartDisease']\n"
   ]
  },
  {
   "cell_type": "code",
   "execution_count": 20,
   "id": "bdca1b92-a1d9-4278-ae6b-f81fa7dc97f9",
   "metadata": {},
   "outputs": [
    {
     "data": {
      "text/plain": "          BMI Smoking AlcoholDrinking Stroke  PhysicalHealth  MentalHealth  \\\n0       16.60       1               0      0             3.0          30.0   \n1       20.34       0               0      1             0.0           0.0   \n2       26.58       1               0      0            20.0          30.0   \n3       24.21       0               0      0             0.0           0.0   \n4       23.71       0               0      0            28.0           0.0   \n...       ...     ...             ...    ...             ...           ...   \n319790  27.41       1               0      0             7.0           0.0   \n319791  29.84       1               0      0             0.0           0.0   \n319792  24.24       0               0      0             0.0           0.0   \n319793  32.81       0               0      0             0.0           0.0   \n319794  46.56       0               0      0             0.0           0.0   \n\n       DiffWalking Sex AgeCategory Diabetic PhysicalActivity GenHealth  \\\n0                0   0          55        1                1         3   \n1                0   0          80        0                1         3   \n2                0   1          65        1                1         1   \n3                0   0          75        0                0         2   \n4                1   0          40        0                1         3   \n...            ...  ..         ...      ...              ...       ...   \n319790           1   1          60        1                0         1   \n319791           0   1          35        0                1         3   \n319792           0   0          45        0                1         2   \n319793           0   0          25        0                0         2   \n319794           0   0          80        0                1         2   \n\n        SleepTime Asthma KidneyDisease SkinCancer  \n0             5.0      1             0          1  \n1             7.0      0             0          0  \n2             8.0      1             0          0  \n3             6.0      0             0          1  \n4             8.0      0             0          0  \n...           ...    ...           ...        ...  \n319790        6.0      1             0          0  \n319791        5.0      1             0          0  \n319792        6.0      0             0          0  \n319793       12.0      0             0          0  \n319794        8.0      0             0          0  \n\n[319795 rows x 16 columns]",
      "text/html": "<div>\n<style scoped>\n    .dataframe tbody tr th:only-of-type {\n        vertical-align: middle;\n    }\n\n    .dataframe tbody tr th {\n        vertical-align: top;\n    }\n\n    .dataframe thead th {\n        text-align: right;\n    }\n</style>\n<table border=\"1\" class=\"dataframe\">\n  <thead>\n    <tr style=\"text-align: right;\">\n      <th></th>\n      <th>BMI</th>\n      <th>Smoking</th>\n      <th>AlcoholDrinking</th>\n      <th>Stroke</th>\n      <th>PhysicalHealth</th>\n      <th>MentalHealth</th>\n      <th>DiffWalking</th>\n      <th>Sex</th>\n      <th>AgeCategory</th>\n      <th>Diabetic</th>\n      <th>PhysicalActivity</th>\n      <th>GenHealth</th>\n      <th>SleepTime</th>\n      <th>Asthma</th>\n      <th>KidneyDisease</th>\n      <th>SkinCancer</th>\n    </tr>\n  </thead>\n  <tbody>\n    <tr>\n      <th>0</th>\n      <td>16.60</td>\n      <td>1</td>\n      <td>0</td>\n      <td>0</td>\n      <td>3.0</td>\n      <td>30.0</td>\n      <td>0</td>\n      <td>0</td>\n      <td>55</td>\n      <td>1</td>\n      <td>1</td>\n      <td>3</td>\n      <td>5.0</td>\n      <td>1</td>\n      <td>0</td>\n      <td>1</td>\n    </tr>\n    <tr>\n      <th>1</th>\n      <td>20.34</td>\n      <td>0</td>\n      <td>0</td>\n      <td>1</td>\n      <td>0.0</td>\n      <td>0.0</td>\n      <td>0</td>\n      <td>0</td>\n      <td>80</td>\n      <td>0</td>\n      <td>1</td>\n      <td>3</td>\n      <td>7.0</td>\n      <td>0</td>\n      <td>0</td>\n      <td>0</td>\n    </tr>\n    <tr>\n      <th>2</th>\n      <td>26.58</td>\n      <td>1</td>\n      <td>0</td>\n      <td>0</td>\n      <td>20.0</td>\n      <td>30.0</td>\n      <td>0</td>\n      <td>1</td>\n      <td>65</td>\n      <td>1</td>\n      <td>1</td>\n      <td>1</td>\n      <td>8.0</td>\n      <td>1</td>\n      <td>0</td>\n      <td>0</td>\n    </tr>\n    <tr>\n      <th>3</th>\n      <td>24.21</td>\n      <td>0</td>\n      <td>0</td>\n      <td>0</td>\n      <td>0.0</td>\n      <td>0.0</td>\n      <td>0</td>\n      <td>0</td>\n      <td>75</td>\n      <td>0</td>\n      <td>0</td>\n      <td>2</td>\n      <td>6.0</td>\n      <td>0</td>\n      <td>0</td>\n      <td>1</td>\n    </tr>\n    <tr>\n      <th>4</th>\n      <td>23.71</td>\n      <td>0</td>\n      <td>0</td>\n      <td>0</td>\n      <td>28.0</td>\n      <td>0.0</td>\n      <td>1</td>\n      <td>0</td>\n      <td>40</td>\n      <td>0</td>\n      <td>1</td>\n      <td>3</td>\n      <td>8.0</td>\n      <td>0</td>\n      <td>0</td>\n      <td>0</td>\n    </tr>\n    <tr>\n      <th>...</th>\n      <td>...</td>\n      <td>...</td>\n      <td>...</td>\n      <td>...</td>\n      <td>...</td>\n      <td>...</td>\n      <td>...</td>\n      <td>...</td>\n      <td>...</td>\n      <td>...</td>\n      <td>...</td>\n      <td>...</td>\n      <td>...</td>\n      <td>...</td>\n      <td>...</td>\n      <td>...</td>\n    </tr>\n    <tr>\n      <th>319790</th>\n      <td>27.41</td>\n      <td>1</td>\n      <td>0</td>\n      <td>0</td>\n      <td>7.0</td>\n      <td>0.0</td>\n      <td>1</td>\n      <td>1</td>\n      <td>60</td>\n      <td>1</td>\n      <td>0</td>\n      <td>1</td>\n      <td>6.0</td>\n      <td>1</td>\n      <td>0</td>\n      <td>0</td>\n    </tr>\n    <tr>\n      <th>319791</th>\n      <td>29.84</td>\n      <td>1</td>\n      <td>0</td>\n      <td>0</td>\n      <td>0.0</td>\n      <td>0.0</td>\n      <td>0</td>\n      <td>1</td>\n      <td>35</td>\n      <td>0</td>\n      <td>1</td>\n      <td>3</td>\n      <td>5.0</td>\n      <td>1</td>\n      <td>0</td>\n      <td>0</td>\n    </tr>\n    <tr>\n      <th>319792</th>\n      <td>24.24</td>\n      <td>0</td>\n      <td>0</td>\n      <td>0</td>\n      <td>0.0</td>\n      <td>0.0</td>\n      <td>0</td>\n      <td>0</td>\n      <td>45</td>\n      <td>0</td>\n      <td>1</td>\n      <td>2</td>\n      <td>6.0</td>\n      <td>0</td>\n      <td>0</td>\n      <td>0</td>\n    </tr>\n    <tr>\n      <th>319793</th>\n      <td>32.81</td>\n      <td>0</td>\n      <td>0</td>\n      <td>0</td>\n      <td>0.0</td>\n      <td>0.0</td>\n      <td>0</td>\n      <td>0</td>\n      <td>25</td>\n      <td>0</td>\n      <td>0</td>\n      <td>2</td>\n      <td>12.0</td>\n      <td>0</td>\n      <td>0</td>\n      <td>0</td>\n    </tr>\n    <tr>\n      <th>319794</th>\n      <td>46.56</td>\n      <td>0</td>\n      <td>0</td>\n      <td>0</td>\n      <td>0.0</td>\n      <td>0.0</td>\n      <td>0</td>\n      <td>0</td>\n      <td>80</td>\n      <td>0</td>\n      <td>1</td>\n      <td>2</td>\n      <td>8.0</td>\n      <td>0</td>\n      <td>0</td>\n      <td>0</td>\n    </tr>\n  </tbody>\n</table>\n<p>319795 rows × 16 columns</p>\n</div>"
     },
     "execution_count": 20,
     "metadata": {},
     "output_type": "execute_result"
    }
   ],
   "source": [
    "x\n"
   ]
  },
  {
   "cell_type": "code",
   "execution_count": 21,
   "id": "ec5ab78d-cf82-4edd-b03b-89d59e0b3657",
   "metadata": {},
   "outputs": [
    {
     "name": "stdout",
     "output_type": "stream",
     "text": [
      "<class 'pandas.core.frame.DataFrame'>\n",
      "RangeIndex: 319795 entries, 0 to 319794\n",
      "Data columns (total 16 columns):\n",
      " #   Column            Non-Null Count   Dtype  \n",
      "---  ------            --------------   -----  \n",
      " 0   BMI               319795 non-null  float64\n",
      " 1   Smoking           319795 non-null  object \n",
      " 2   AlcoholDrinking   319795 non-null  object \n",
      " 3   Stroke            319795 non-null  object \n",
      " 4   PhysicalHealth    319795 non-null  float64\n",
      " 5   MentalHealth      319795 non-null  float64\n",
      " 6   DiffWalking       319795 non-null  object \n",
      " 7   Sex               319795 non-null  object \n",
      " 8   AgeCategory       319795 non-null  object \n",
      " 9   Diabetic          319795 non-null  object \n",
      " 10  PhysicalActivity  319795 non-null  object \n",
      " 11  GenHealth         319795 non-null  object \n",
      " 12  SleepTime         319795 non-null  float64\n",
      " 13  Asthma            319795 non-null  object \n",
      " 14  KidneyDisease     319795 non-null  object \n",
      " 15  SkinCancer        319795 non-null  object \n",
      "dtypes: float64(4), object(12)\n",
      "memory usage: 39.0+ MB\n"
     ]
    }
   ],
   "source": [
    "x.info()\n"
   ]
  },
  {
   "cell_type": "code",
   "execution_count": 22,
   "id": "7354ef04-089e-4d40-bf5e-56929c038b8e",
   "metadata": {},
   "outputs": [],
   "source": [
    "x=x.astype('float32')\n"
   ]
  },
  {
   "cell_type": "code",
   "execution_count": 23,
   "id": "2ec822c5-3eee-42c3-bf99-cc90fedf3b30",
   "metadata": {},
   "outputs": [
    {
     "name": "stdout",
     "output_type": "stream",
     "text": [
      "<class 'pandas.core.frame.DataFrame'>\n",
      "RangeIndex: 319795 entries, 0 to 319794\n",
      "Data columns (total 16 columns):\n",
      " #   Column            Non-Null Count   Dtype  \n",
      "---  ------            --------------   -----  \n",
      " 0   BMI               319795 non-null  float32\n",
      " 1   Smoking           319795 non-null  float32\n",
      " 2   AlcoholDrinking   319795 non-null  float32\n",
      " 3   Stroke            319795 non-null  float32\n",
      " 4   PhysicalHealth    319795 non-null  float32\n",
      " 5   MentalHealth      319795 non-null  float32\n",
      " 6   DiffWalking       319795 non-null  float32\n",
      " 7   Sex               319795 non-null  float32\n",
      " 8   AgeCategory       319795 non-null  float32\n",
      " 9   Diabetic          319795 non-null  float32\n",
      " 10  PhysicalActivity  319795 non-null  float32\n",
      " 11  GenHealth         319795 non-null  float32\n",
      " 12  SleepTime         319795 non-null  float32\n",
      " 13  Asthma            319795 non-null  float32\n",
      " 14  KidneyDisease     319795 non-null  float32\n",
      " 15  SkinCancer        319795 non-null  float32\n",
      "dtypes: float32(16)\n",
      "memory usage: 19.5 MB\n"
     ]
    }
   ],
   "source": [
    "x.info()\n"
   ]
  },
  {
   "cell_type": "code",
   "execution_count": 24,
   "id": "ceae1e54-0311-48e9-8d7b-09426d1f3fef",
   "metadata": {},
   "outputs": [],
   "source": [
    "from sklearn.model_selection import train_test_split\n",
    "x_train,x_test,y_train,y_test=train_test_split(x,y,test_size=0.20,random_state=5)"
   ]
  },
  {
   "cell_type": "code",
   "execution_count": 25,
   "id": "19822ce8-caec-4747-939b-df87fbc267e1",
   "metadata": {},
   "outputs": [
    {
     "data": {
      "text/plain": "0    292422\n1     27373\nName: HeartDisease, dtype: int64"
     },
     "execution_count": 25,
     "metadata": {},
     "output_type": "execute_result"
    }
   ],
   "source": [
    "y.value_counts()\n"
   ]
  },
  {
   "cell_type": "code",
   "execution_count": 26,
   "id": "d92979e6-574c-4d76-86e9-91f91aeecc06",
   "metadata": {},
   "outputs": [
    {
     "data": {
      "text/plain": "<AxesSubplot:ylabel='HeartDisease'>"
     },
     "execution_count": 26,
     "metadata": {},
     "output_type": "execute_result"
    },
    {
     "data": {
      "text/plain": "<Figure size 640x480 with 1 Axes>",
      "image/png": "[encoded data removed]"
     },
     "metadata": {},
     "output_type": "display_data"
    }
   ],
   "source": [
    " y.value_counts().plot.pie(autopct = '%0.2f')\n"
   ]
  },
  {
   "cell_type": "code",
   "execution_count": 27,
   "id": "ddfb6e3c-b1c0-44cc-8696-2ade338f6710",
   "metadata": {},
   "outputs": [
    {
     "ename": "ModuleNotFoundError",
     "evalue": "No module named 'imblearn'",
     "output_type": "error",
     "traceback": [
      "\u001B[0;31m---------------------------------------------------------------------------\u001B[0m",
      "\u001B[0;31mModuleNotFoundError\u001B[0m                       Traceback (most recent call last)",
      "\u001B[0;32m/var/folders/2d/yq3ptl8n5hv6t_5szft84_sc0000gn/T/ipykernel_8715/1315253799.py\u001B[0m in \u001B[0;36m<module>\u001B[0;34m\u001B[0m\n\u001B[0;32m----> 1\u001B[0;31m \u001B[0;32mfrom\u001B[0m \u001B[0mimblearn\u001B[0m\u001B[0;34m.\u001B[0m\u001B[0munder_sampling\u001B[0m \u001B[0;32mimport\u001B[0m \u001B[0mRandomUnderSampler\u001B[0m\u001B[0;34m\u001B[0m\u001B[0;34m\u001B[0m\u001B[0m\n\u001B[0m\u001B[1;32m      2\u001B[0m \u001B[0;34m\u001B[0m\u001B[0m\n",
      "\u001B[0;31mModuleNotFoundError\u001B[0m: No module named 'imblearn'"
     ]
    }
   ],
   "source": [
    "from imblearn.under_sampling import RandomUnderSampler\n"
   ]
  },
  {
   "cell_type": "code",
   "execution_count": null,
   "id": "cda594e8-ca1b-4431-8c11-c9f51bcf61eb",
   "metadata": {},
   "outputs": [],
   "source": [
    "RUS = RandomUnderSampler(sampling_strategy=1)\n"
   ]
  },
  {
   "cell_type": "code",
   "execution_count": null,
   "id": "a3027e66-5f55-456a-ab5c-28ff586bfc42",
   "metadata": {},
   "outputs": [],
   "source": [
    "x_res , y_res = RUS.fit_resample(x_train,y_train)\n"
   ]
  },
  {
   "cell_type": "code",
   "execution_count": null,
   "id": "3f1336f1-3283-40fb-abdd-041381082954",
   "metadata": {},
   "outputs": [],
   "source": [
    "y_res.value_counts().plot.pie(autopct='%.2f')\n"
   ]
  },
  {
   "cell_type": "code",
   "execution_count": null,
   "id": "13a88848-7a5e-4db3-aa0a-4810705792e0",
   "metadata": {},
   "outputs": [],
   "source": [
    "y_res.value_counts()\n"
   ]
  },
  {
   "cell_type": "code",
   "execution_count": null,
   "id": "7439a577-7488-406d-b56d-5cadbcabac6c",
   "metadata": {},
   "outputs": [],
   "source": [
    "x_res\n"
   ]
  },
  {
   "cell_type": "markdown",
   "id": "70bab626-2d80-4aca-8042-a19f022b20ac",
   "metadata": {},
   "source": [
    "# desicion tree classifier"
   ]
  },
  {
   "cell_type": "code",
   "execution_count": null,
   "id": "9fc0cdc8-fe99-45b9-ad74-6f96124c19f4",
   "metadata": {},
   "outputs": [],
   "source": [
    "from sklearn.tree import DecisionTreeClassifier\n"
   ]
  },
  {
   "cell_type": "code",
   "execution_count": null,
   "id": "d1ca4207-9c41-4d9b-8896-d7a9714ee74c",
   "metadata": {},
   "outputs": [],
   "source": [
    "dt = DecisionTreeClassifier(max_depth = 5 , max_features= 4)\n"
   ]
  },
  {
   "cell_type": "code",
   "execution_count": null,
   "id": "7a78e9b4-4d8b-4763-9f80-025f5a0cba89",
   "metadata": {},
   "outputs": [],
   "source": [
    "dt.fit(x_res,y_res)\n"
   ]
  },
  {
   "cell_type": "code",
   "execution_count": null,
   "id": "508956b0-53f0-48d8-8057-d5b341a789e6",
   "metadata": {},
   "outputs": [],
   "source": [
    "dt.score(x_res,y_res)\n"
   ]
  },
  {
   "cell_type": "code",
   "execution_count": null,
   "id": "1332a478-0a8d-458b-940c-44f29d6f0327",
   "metadata": {},
   "outputs": [],
   "source": [
    "dt.score(x_test,y_test)\n"
   ]
  },
  {
   "cell_type": "code",
   "execution_count": null,
   "id": "8b2cd374-f463-4ec7-afb2-7b89652bd5a4",
   "metadata": {},
   "outputs": [],
   "source": [
    "y_pred = dt.predict(x_test)\n"
   ]
  },
  {
   "cell_type": "markdown",
   "id": "c1b9a758-841c-4b9a-a423-e1bf05f9f099",
   "metadata": {},
   "source": [
    "# evaluation"
   ]
  },
  {
   "cell_type": "code",
   "execution_count": null,
   "id": "cb57c7ab-34f6-4f35-a207-09d6e9563cdd",
   "metadata": {},
   "outputs": [],
   "source": [
    "con = confusion_matrix(y_test , y_pred)\n",
    "con\n",
    "\n"
   ]
  },
  {
   "cell_type": "code",
   "execution_count": null,
   "id": "49d32815-155a-4af1-aaed-986593317d2f",
   "metadata": {},
   "outputs": [],
   "source": [
    "plot_confusion_matrix(con )\n"
   ]
  },
  {
   "cell_type": "code",
   "execution_count": null,
   "id": "03e9b6bd-c3b8-4aba-b93f-5d49cc5a2192",
   "metadata": {},
   "outputs": [],
   "source": [
    "print (classification_report(y_test , y_pred))\n"
   ]
  },
  {
   "cell_type": "code",
   "execution_count": null,
   "id": "04745193-c33a-493a-9645-5f5c5577f767",
   "metadata": {},
   "outputs": [],
   "source": [
    "# cross validation"
   ]
  },
  {
   "cell_type": "code",
   "execution_count": null,
   "id": "2b3b9315-e541-4f19-8d9b-ff80ad4cc6dd",
   "metadata": {},
   "outputs": [],
   "source": [
    "K_fold = KFold(n_splits= 3 , shuffle  = True ,random_state= 42)\n",
    "scoring = \"accuracy\"\n",
    "score = cross_val_score(dt , x,y , cv = K_fold , scoring= scoring)\n",
    "print (score)"
   ]
  },
  {
   "cell_type": "code",
   "execution_count": null,
   "id": "292c3ab1-797b-4b82-97a5-9f2a13a17e04",
   "metadata": {},
   "outputs": [],
   "source": [
    "round(np.mean(score)*100 , 2)\n"
   ]
  },
  {
   "cell_type": "markdown",
   "id": "ef56763b-2a85-44d2-a46c-1286a1255b66",
   "metadata": {},
   "source": [
    "# random oversampleing "
   ]
  },
  {
   "cell_type": "markdown",
   "id": "500c17d6-b1de-4870-8df0-9fe3586286bc",
   "metadata": {},
   "source": [
    "# logistic regression\n"
   ]
  },
  {
   "cell_type": "code",
   "execution_count": null,
   "id": "b642dc53-7c83-4a7d-af7b-1d7cbd5b1248",
   "metadata": {},
   "outputs": [],
   "source": [
    "from imblearn.over_sampling import RandomOverSampler\n"
   ]
  },
  {
   "cell_type": "code",
   "execution_count": null,
   "id": "de48e210-c602-4f35-bf8b-ff8b58f1b935",
   "metadata": {},
   "outputs": [],
   "source": [
    "ROS = RandomOverSampler(sampling_strategy = 1)\n"
   ]
  },
  {
   "cell_type": "code",
   "execution_count": null,
   "id": "75bcf704-87bf-4c29-990b-4b964fb115a7",
   "metadata": {},
   "outputs": [],
   "source": [
    "x_res, y_res = ROS.fit_resample(x_train,y_train)"
   ]
  },
  {
   "cell_type": "code",
   "execution_count": null,
   "id": "7fedabb3-0508-4626-b745-b9ddcd2b7fa1",
   "metadata": {},
   "outputs": [],
   "source": [
    "y_res.value_counts().plot.pie(autopct = \"%.2f\")\n"
   ]
  },
  {
   "cell_type": "code",
   "execution_count": null,
   "id": "452a0261-79f4-463f-b830-b8958053d4ec",
   "metadata": {},
   "outputs": [],
   "source": [
    "y_res.value_counts()\n"
   ]
  },
  {
   "cell_type": "code",
   "execution_count": null,
   "id": "701af481-b845-4525-ab87-ace6315790cf",
   "metadata": {},
   "outputs": [],
   "source": [
    "#logistic regression"
   ]
  },
  {
   "cell_type": "code",
   "execution_count": null,
   "id": "fc3f360a-83b9-49ad-a26d-8983c8c98dd3",
   "metadata": {},
   "outputs": [],
   "source": [
    "from sklearn.linear_model import LogisticRegression\n"
   ]
  },
  {
   "cell_type": "code",
   "execution_count": null,
   "id": "5725ecd2-afcf-43a2-a78b-9c4e8ac6b9df",
   "metadata": {},
   "outputs": [],
   "source": [
    "LOG = LogisticRegression().fit(x_res, y_res)\n"
   ]
  },
  {
   "cell_type": "code",
   "execution_count": null,
   "id": "2cb9acf7-d49c-47a5-9bff-3b5c98f4dfb5",
   "metadata": {},
   "outputs": [],
   "source": [
    "LOG.score(x_res,y_res)\n"
   ]
  },
  {
   "cell_type": "code",
   "execution_count": null,
   "id": "fb49c56a-ad9b-4df9-83bd-f2f708d4e846",
   "metadata": {},
   "outputs": [],
   "source": [
    "LOG.score(x_test,y_test)\n"
   ]
  },
  {
   "cell_type": "code",
   "execution_count": null,
   "id": "d24c9e0d-3639-45f9-a402-f749dae035c0",
   "metadata": {},
   "outputs": [],
   "source": [
    "y_pred= LOG.predict(x_test)\n"
   ]
  },
  {
   "cell_type": "code",
   "execution_count": null,
   "id": "8f1333a8-f0e6-4b07-af31-ed68ad14d707",
   "metadata": {},
   "outputs": [],
   "source": [
    "#Evaluation¶\n"
   ]
  },
  {
   "cell_type": "code",
   "execution_count": null,
   "id": "a4a81abc-754c-4423-a619-a930a935aa56",
   "metadata": {},
   "outputs": [],
   "source": [
    "con = confusion_matrix(y_test , y_pred)\n",
    "con"
   ]
  },
  {
   "cell_type": "code",
   "execution_count": null,
   "id": "27c23d27-3e0b-482f-a82b-9af5555e223a",
   "metadata": {},
   "outputs": [],
   "source": [
    "plot_confusion_matrix(con )\n"
   ]
  },
  {
   "cell_type": "code",
   "execution_count": null,
   "id": "c3cf9d52-79c6-4e5f-aa92-fafa89af3feb",
   "metadata": {},
   "outputs": [],
   "source": [
    "print (classification_report(y_test , y_pred))\n"
   ]
  },
  {
   "cell_type": "code",
   "execution_count": null,
   "id": "592f5632-0e46-46b9-8bed-64a62d8b3f12",
   "metadata": {},
   "outputs": [],
   "source": [
    "#cross validation"
   ]
  },
  {
   "cell_type": "code",
   "execution_count": null,
   "id": "eb9799e5-39fb-44a9-84ad-7eaa7066af71",
   "metadata": {},
   "outputs": [],
   "source": [
    "K_fold = KFold(n_splits= 3 , shuffle  = True ,random_state= 42)\n",
    "scoring = \"accuracy\"\n",
    "score = cross_val_score(LOG , x,y , cv = K_fold , scoring= scoring)\n",
    "print (score)\n"
   ]
  },
  {
   "cell_type": "code",
   "execution_count": null,
   "id": "3ef128c7-30a3-4f08-8442-410d3d939f2b",
   "metadata": {},
   "outputs": [],
   "source": [
    "round(np.mean(score)*100 , 2)\n"
   ]
  },
  {
   "cell_type": "markdown",
   "id": "7249e825-a5f0-4ebe-9352-356cccc75133",
   "metadata": {},
   "source": [
    "# Random Forest Classifier\n"
   ]
  },
  {
   "cell_type": "code",
   "execution_count": null,
   "id": "c400f384-037a-462b-b7cf-9b23a1828b14",
   "metadata": {},
   "outputs": [],
   "source": [
    "from imblearn.over_sampling import SMOTE \n",
    "sm= SMOTE()\n"
   ]
  },
  {
   "cell_type": "code",
   "execution_count": null,
   "id": "c9c12e4e-5e7e-424e-aef0-64891cb1623a",
   "metadata": {},
   "outputs": [],
   "source": [
    "x_res,y_res = sm.fit_resample(x_train,y_train)\n"
   ]
  },
  {
   "cell_type": "code",
   "execution_count": null,
   "id": "22740ade-d083-4b2b-b39a-cb70c47a96fa",
   "metadata": {},
   "outputs": [],
   "source": [
    "y_res.value_counts().plot.pie(autopct='%.2f')"
   ]
  },
  {
   "cell_type": "code",
   "execution_count": null,
   "id": "b58fa722-616c-4ae5-9d37-6e6d9876ac62",
   "metadata": {},
   "outputs": [],
   "source": [
    "from sklearn.ensemble import RandomForestClassifier\n"
   ]
  },
  {
   "cell_type": "code",
   "execution_count": null,
   "id": "6f8f06a8-3e30-4392-a91f-cf31caeb5b4c",
   "metadata": {},
   "outputs": [],
   "source": [
    "rf = RandomForestClassifier(n_estimators= 4 , max_depth=3 ,max_features= 4)\n"
   ]
  },
  {
   "cell_type": "code",
   "execution_count": null,
   "id": "e2f919f3-4bc3-4495-ac5a-d11e0349fe65",
   "metadata": {},
   "outputs": [],
   "source": [
    "rf.fit(x_res,y_res)\n"
   ]
  },
  {
   "cell_type": "code",
   "execution_count": null,
   "id": "d2700757-1f48-46fc-863e-0abf47c1838f",
   "metadata": {},
   "outputs": [],
   "source": [
    "rf.score(x_res,y_res)\n"
   ]
  },
  {
   "cell_type": "code",
   "execution_count": null,
   "id": "91f31bfa-129a-4bc2-bb7e-a3e3e6e4c03d",
   "metadata": {},
   "outputs": [],
   "source": [
    "rf.score(x_test,y_test)\n"
   ]
  },
  {
   "cell_type": "code",
   "execution_count": null,
   "id": "a99c18b5-2a39-4f02-b689-bc8960bdcd12",
   "metadata": {},
   "outputs": [],
   "source": [
    "y_pred = rf.predict(x_test)\n"
   ]
  },
  {
   "cell_type": "code",
   "execution_count": null,
   "id": "ed41b30e-bc69-482c-89d1-f1971c4dd3ec",
   "metadata": {},
   "outputs": [],
   "source": [
    "#Evaluation¶\n"
   ]
  },
  {
   "cell_type": "code",
   "execution_count": null,
   "id": "d945094d-bb54-4553-bbfe-cb3aa3122bcb",
   "metadata": {},
   "outputs": [],
   "source": [
    "con = confusion_matrix(y_test , y_pred)\n",
    "con"
   ]
  },
  {
   "cell_type": "code",
   "execution_count": null,
   "id": "76d19c02-7c64-4085-9a97-0e986d2a620e",
   "metadata": {},
   "outputs": [],
   "source": [
    "plot_confusion_matrix(con )\n"
   ]
  },
  {
   "cell_type": "code",
   "execution_count": null,
   "id": "588f2031-69ec-4a5f-9d88-75551ee48b94",
   "metadata": {},
   "outputs": [],
   "source": [
    "print (classification_report(y_test , y_pred))\n"
   ]
  },
  {
   "cell_type": "markdown",
   "id": "377401d6-af44-461f-b6d1-e46c45784de4",
   "metadata": {},
   "source": [
    "# cross validation"
   ]
  },
  {
   "cell_type": "code",
   "execution_count": null,
   "id": "e0744f57-f4ed-4675-bc20-4ebb60e50d72",
   "metadata": {},
   "outputs": [],
   "source": [
    "K_fold = KFold(n_splits= 3 , shuffle  = True ,random_state= 42)\n",
    "scoring = \"accuracy\"\n",
    "score = cross_val_score(rf , x,y , cv = K_fold , scoring= scoring)\n",
    "print (score)"
   ]
  },
  {
   "cell_type": "code",
   "execution_count": null,
   "id": "617ff477-746c-405b-9c99-11da158f3074",
   "metadata": {},
   "outputs": [],
   "source": [
    "round(np.mean(score)*100 , 2)\n"
   ]
  },
  {
   "cell_type": "code",
   "execution_count": null,
   "id": "9e18e70a-cf41-4f7d-baa2-cfd4eeb14857",
   "metadata": {},
   "outputs": [],
   "source": [
    "pram_grid = {\"max_depth\": [2,3,4] , 'max_features': [3,4,5] }\n"
   ]
  },
  {
   "cell_type": "code",
   "execution_count": null,
   "id": "167a76de-49a9-4740-abd9-b72b6a515a7c",
   "metadata": {},
   "outputs": [],
   "source": [
    "pram_grid\n"
   ]
  },
  {
   "cell_type": "code",
   "execution_count": null,
   "id": "0703bc8c-9042-4a10-8e0c-247f27da2168",
   "metadata": {},
   "outputs": [],
   "source": [
    "clf = DecisionTreeClassifier()\n",
    "grid = GridSearchCV(estimator= clf , param_grid= pram_grid , cv = 5 )\n",
    "grid_result = grid.fit(x_train , y_train)\n",
    "\n",
    "grid_result"
   ]
  },
  {
   "cell_type": "code",
   "execution_count": null,
   "id": "4fe653c0-e7c9-4588-b522-9934f351e1cf",
   "metadata": {},
   "outputs": [],
   "source": [
    "print (\"Best: %f using %s\" %(grid_result.best_score_ , grid_result.best_params_))"
   ]
  },
  {
   "cell_type": "code",
   "execution_count": null,
   "id": "c4b8d6a2-ac5a-4271-a4c2-8db97567af99",
   "metadata": {},
   "outputs": [],
   "source": [
    "model = grid_result.best_estimator_\n",
    "model\n"
   ]
  },
  {
   "cell_type": "code",
   "execution_count": null,
   "id": "bae1775a-f12a-4f39-a1b0-6edbb6ebf13d",
   "metadata": {},
   "outputs": [],
   "source": [
    "model.predict(x_test)\n"
   ]
  },
  {
   "cell_type": "code",
   "execution_count": null,
   "id": "efadeaa4-c75f-489c-bbcb-a1571c9258ed",
   "metadata": {},
   "outputs": [],
   "source": [
    "con = confusion_matrix(y_test , model.predict(x_test) )\n",
    "con"
   ]
  },
  {
   "cell_type": "code",
   "execution_count": null,
   "id": "28b4d439-0ae8-4764-ab71-977c7cbbdb1a",
   "metadata": {},
   "outputs": [],
   "source": [
    "plot_confusion_matrix(con )\n"
   ]
  },
  {
   "cell_type": "code",
   "execution_count": null,
   "id": "99c7bab7-7db9-4d5e-a1c1-6a828d4548e9",
   "metadata": {},
   "outputs": [],
   "source": [
    "print (classification_report(y_test , model.predict(x_test)))\n"
   ]
  },
  {
   "cell_type": "code",
   "execution_count": null,
   "id": "3afaa5aa-c70b-4732-aa7c-480eae61cfd1",
   "metadata": {},
   "outputs": [],
   "source": [
    "# standaed scalar\n"
   ]
  },
  {
   "cell_type": "code",
   "execution_count": null,
   "id": "e9cd7d97-e40e-4fa6-84aa-c2c776a1a9b6",
   "metadata": {},
   "outputs": [],
   "source": [
    "# Standardization of numeric data\n",
    "\n",
    "from sklearn.preprocessing import StandardScaler\n",
    "\n",
    "scaler = StandardScaler()\n",
    "scaler.fit(x_res)\n",
    "\n",
    "X_train_scaled = scaler.transform(x_res)\n",
    "X_test_scaled = scaler.transform(x_test)\n",
    "\n",
    "X_train_scaled = pd.DataFrame(data=X_train_scaled, columns=x_res.columns)\n",
    "X_test_scaled = pd.DataFrame(data=X_test_scaled, columns=x_test.columns)\n",
    "X_test_scaled.describe()"
   ]
  }
 ],
 "metadata": {
  "kernelspec": {
   "display_name": "Python 3 (ipykernel)",
   "language": "python",
   "name": "python3"
  },
  "language_info": {
   "codemirror_mode": {
    "name": "ipython",
    "version": 3
   },
   "file_extension": ".py",
   "mimetype": "text/x-python",
   "name": "python",
   "nbconvert_exporter": "python",
   "pygments_lexer": "ipython3",
   "version": "3.9.13"
  }
 },
 "nbformat": 4,
 "nbformat_minor": 5
}
